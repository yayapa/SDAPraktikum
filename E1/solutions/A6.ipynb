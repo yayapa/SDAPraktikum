{
 "cells": [
  {
   "cell_type": "markdown",
   "id": "2e6f691e",
   "metadata": {},
   "source": [
    "# Aufgabe 6 Cross Validation und Grid Search"
   ]
  },
  {
   "cell_type": "markdown",
   "id": "72eb6862",
   "metadata": {},
   "source": [
    "## (1) ein Datensatz für die Klassifikationsaufgabe"
   ]
  },
  {
   "cell_type": "markdown",
   "id": "2c29858b",
   "metadata": {},
   "source": [
    "Ich habe einen Datensatz von Commeo and Osmancik Rice Dataset ( siehe https://www.muratkoklu.com/datasets/ ) gesucht. Für die beiden Arten wurden insgesamt 3810 Bilder von Reiskörnern aufgenommen, verarbeitet und Rückschlüsse auf Merkmale gezogen. Für jedes Reiskorn wurden 7 morphologische Merkmale erhalten."
   ]
  },
  {
   "cell_type": "code",
   "execution_count": 1,
   "id": "35ccec1c",
   "metadata": {},
   "outputs": [],
   "source": [
    "# import all the important basic packages\n",
    "\n",
    "import pandas as pd\n",
    "import numpy as np\n",
    "import matplotlib.pyplot as plt\n",
    "import seaborn as sns\n",
    "from sklearn.model_selection import train_test_split\n",
    "from sklearn.model_selection import GridSearchCV\n",
    "from sklearn.metrics import accuracy_score\n",
    "from joblib import Parallel"
   ]
  },
  {
   "cell_type": "code",
   "execution_count": 2,
   "id": "bf72ad25",
   "metadata": {},
   "outputs": [],
   "source": [
    "# import data\n",
    "\n",
    "rice_df = pd.read_excel ('../dataset/Rice_Cammeo_Osmancik.xlsx')"
   ]
  },
  {
   "cell_type": "markdown",
   "id": "778b6962",
   "metadata": {},
   "source": [
    "Die Beschreibung des Datensatzes lautet wie folgt:"
   ]
  },
  {
   "cell_type": "code",
   "execution_count": 3,
   "id": "3bb8a708",
   "metadata": {},
   "outputs": [
    {
     "name": "stdout",
     "output_type": "stream",
     "text": [
      "<class 'pandas.core.frame.DataFrame'>\n",
      "RangeIndex: 3810 entries, 0 to 3809\n",
      "Data columns (total 8 columns):\n",
      " #   Column             Non-Null Count  Dtype  \n",
      "---  ------             --------------  -----  \n",
      " 0   Area               3810 non-null   int64  \n",
      " 1   Perimeter          3810 non-null   float64\n",
      " 2   Major_Axis_Length  3810 non-null   float64\n",
      " 3   Minor_Axis_Length  3810 non-null   float64\n",
      " 4   Eccentricity       3810 non-null   float64\n",
      " 5   Convex_Area        3810 non-null   int64  \n",
      " 6   Extent             3810 non-null   float64\n",
      " 7   Class              3810 non-null   object \n",
      "dtypes: float64(5), int64(2), object(1)\n",
      "memory usage: 238.2+ KB\n"
     ]
    }
   ],
   "source": [
    "rice_df.info()"
   ]
  },
  {
   "cell_type": "code",
   "execution_count": 4,
   "id": "7059af94",
   "metadata": {},
   "outputs": [
    {
     "data": {
      "text/html": [
       "<div>\n",
       "<style scoped>\n",
       "    .dataframe tbody tr th:only-of-type {\n",
       "        vertical-align: middle;\n",
       "    }\n",
       "\n",
       "    .dataframe tbody tr th {\n",
       "        vertical-align: top;\n",
       "    }\n",
       "\n",
       "    .dataframe thead th {\n",
       "        text-align: right;\n",
       "    }\n",
       "</style>\n",
       "<table border=\"1\" class=\"dataframe\">\n",
       "  <thead>\n",
       "    <tr style=\"text-align: right;\">\n",
       "      <th></th>\n",
       "      <th>Area</th>\n",
       "      <th>Perimeter</th>\n",
       "      <th>Major_Axis_Length</th>\n",
       "      <th>Minor_Axis_Length</th>\n",
       "      <th>Eccentricity</th>\n",
       "      <th>Convex_Area</th>\n",
       "      <th>Extent</th>\n",
       "      <th>Class</th>\n",
       "    </tr>\n",
       "  </thead>\n",
       "  <tbody>\n",
       "    <tr>\n",
       "      <th>0</th>\n",
       "      <td>15231</td>\n",
       "      <td>525.578979</td>\n",
       "      <td>229.749878</td>\n",
       "      <td>85.093788</td>\n",
       "      <td>0.928882</td>\n",
       "      <td>15617</td>\n",
       "      <td>0.572896</td>\n",
       "      <td>Cammeo</td>\n",
       "    </tr>\n",
       "    <tr>\n",
       "      <th>1</th>\n",
       "      <td>14656</td>\n",
       "      <td>494.311005</td>\n",
       "      <td>206.020065</td>\n",
       "      <td>91.730972</td>\n",
       "      <td>0.895405</td>\n",
       "      <td>15072</td>\n",
       "      <td>0.615436</td>\n",
       "      <td>Cammeo</td>\n",
       "    </tr>\n",
       "    <tr>\n",
       "      <th>2</th>\n",
       "      <td>14634</td>\n",
       "      <td>501.122009</td>\n",
       "      <td>214.106781</td>\n",
       "      <td>87.768288</td>\n",
       "      <td>0.912118</td>\n",
       "      <td>14954</td>\n",
       "      <td>0.693259</td>\n",
       "      <td>Cammeo</td>\n",
       "    </tr>\n",
       "    <tr>\n",
       "      <th>3</th>\n",
       "      <td>13176</td>\n",
       "      <td>458.342987</td>\n",
       "      <td>193.337387</td>\n",
       "      <td>87.448395</td>\n",
       "      <td>0.891861</td>\n",
       "      <td>13368</td>\n",
       "      <td>0.640669</td>\n",
       "      <td>Cammeo</td>\n",
       "    </tr>\n",
       "    <tr>\n",
       "      <th>4</th>\n",
       "      <td>14688</td>\n",
       "      <td>507.166992</td>\n",
       "      <td>211.743378</td>\n",
       "      <td>89.312454</td>\n",
       "      <td>0.906691</td>\n",
       "      <td>15262</td>\n",
       "      <td>0.646024</td>\n",
       "      <td>Cammeo</td>\n",
       "    </tr>\n",
       "  </tbody>\n",
       "</table>\n",
       "</div>"
      ],
      "text/plain": [
       "    Area   Perimeter  Major_Axis_Length  Minor_Axis_Length  Eccentricity  \\\n",
       "0  15231  525.578979         229.749878          85.093788      0.928882   \n",
       "1  14656  494.311005         206.020065          91.730972      0.895405   \n",
       "2  14634  501.122009         214.106781          87.768288      0.912118   \n",
       "3  13176  458.342987         193.337387          87.448395      0.891861   \n",
       "4  14688  507.166992         211.743378          89.312454      0.906691   \n",
       "\n",
       "   Convex_Area    Extent   Class  \n",
       "0        15617  0.572896  Cammeo  \n",
       "1        15072  0.615436  Cammeo  \n",
       "2        14954  0.693259  Cammeo  \n",
       "3        13368  0.640669  Cammeo  \n",
       "4        15262  0.646024  Cammeo  "
      ]
     },
     "execution_count": 4,
     "metadata": {},
     "output_type": "execute_result"
    }
   ],
   "source": [
    "rice_df.head()"
   ]
  },
  {
   "cell_type": "markdown",
   "id": "b1821d64",
   "metadata": {},
   "source": [
    "## (2) Unter verschiedenen Algorithmen und Hyperparameter das \"beste\" Modell zu finden"
   ]
  },
  {
   "cell_type": "code",
   "execution_count": 5,
   "id": "d8501643",
   "metadata": {},
   "outputs": [],
   "source": [
    "# orignial Daten preprocessing\n",
    "# Training Set and Testing Set spliting\n",
    "\n",
    "X, y = rice_df.drop(columns = 'Class'), rice_df['Class']\n",
    "X_train, X_test, y_train, y_test = train_test_split(X, y, test_size = 0.2)"
   ]
  },
  {
   "cell_type": "markdown",
   "id": "6edb4295",
   "metadata": {},
   "source": [
    "### (a) Modell 1: Logistic Regression"
   ]
  },
  {
   "cell_type": "code",
   "execution_count": 6,
   "id": "792f167d",
   "metadata": {},
   "outputs": [
    {
     "data": {
      "text/plain": [
       "0.9291338582677166"
      ]
     },
     "execution_count": 6,
     "metadata": {},
     "output_type": "execute_result"
    }
   ],
   "source": [
    "from sklearn.linear_model import LogisticRegression\n",
    "\n",
    "LogistReg_clf = LogisticRegression().fit(X_train, y_train)\n",
    "LogistReg_clf.score(X_test, y_test)"
   ]
  },
  {
   "cell_type": "markdown",
   "id": "3e5efb17",
   "metadata": {},
   "source": [
    "Logistic Regression mit dem Anpassen der Hyperparameter eines Schätzers"
   ]
  },
  {
   "cell_type": "code",
   "execution_count": 7,
   "id": "296e2e8b",
   "metadata": {},
   "outputs": [
    {
     "name": "stdout",
     "output_type": "stream",
     "text": [
      "Best Estimator is: LogisticRegression(C=1, random_state=1)\n",
      "Best score on train dataset is: 0.9294608199413175\n",
      "The score on test dataset is: 0.9291338582677166\n"
     ]
    }
   ],
   "source": [
    "gridsearch_LogistReg = GridSearchCV(estimator = LogisticRegression(), param_grid = {'C': [1, 5], 'random_state': [1, 5]}).fit(X_train, y_train)\n",
    "\n",
    "print(\"Best Estimator is: {}\".format(gridsearch_LogistReg.best_estimator_))\n",
    "print(\"Best score on train dataset is: {}\".format(gridsearch_LogistReg.best_score_))\n",
    "print(\"The score on test dataset is: {}\".format(gridsearch_LogistReg.score(X_test, y_test)))"
   ]
  },
  {
   "cell_type": "markdown",
   "id": "fdc864e6",
   "metadata": {},
   "source": [
    "### (b) Modell 2: Ridge Classifier"
   ]
  },
  {
   "cell_type": "code",
   "execution_count": 8,
   "id": "47737ca1",
   "metadata": {},
   "outputs": [
    {
     "data": {
      "text/plain": [
       "0.931758530183727"
      ]
     },
     "execution_count": 8,
     "metadata": {},
     "output_type": "execute_result"
    }
   ],
   "source": [
    "from sklearn.linear_model import RidgeClassifier\n",
    "\n",
    "Ridge_clf = RidgeClassifier().fit(X_train, y_train)\n",
    "Ridge_clf.score(X_test, y_test)"
   ]
  },
  {
   "cell_type": "markdown",
   "id": "9bdb669f",
   "metadata": {},
   "source": [
    "Ridge Classifier mit dem Anpassen der Hyperparameter eines Schätzers"
   ]
  },
  {
   "cell_type": "code",
   "execution_count": 9,
   "id": "ba19d01c",
   "metadata": {},
   "outputs": [
    {
     "name": "stdout",
     "output_type": "stream",
     "text": [
      "Best Estimator is: LogisticRegression(C=1, random_state=1)\n",
      "Best score on train dataset is: 0.9294608199413175\n",
      "The score on test dataset is: 0.9291338582677166\n"
     ]
    }
   ],
   "source": [
    "gridsearch_Ridge = GridSearchCV(estimator = RidgeClassifier(), param_grid = {'alpha': [1, 5], 'random_state': [1, 5]}).fit(X_train, y_train)\n",
    "\n",
    "print(\"Best Estimator is: {}\".format(gridsearch_LogistReg.best_estimator_))\n",
    "print(\"Best score on train dataset is: {}\".format(gridsearch_LogistReg.best_score_))\n",
    "print(\"The score on test dataset is: {}\".format(gridsearch_LogistReg.score(X_test, y_test)))"
   ]
  },
  {
   "cell_type": "markdown",
   "id": "7ab82176",
   "metadata": {},
   "source": [
    "### (c) Modell 3: benutzen Gradient Decent zur Verbesserung (rule update)"
   ]
  },
  {
   "cell_type": "code",
   "execution_count": 10,
   "id": "9d38906a",
   "metadata": {},
   "outputs": [
    {
     "data": {
      "text/plain": [
       "0.5984251968503937"
      ]
     },
     "execution_count": 10,
     "metadata": {},
     "output_type": "execute_result"
    }
   ],
   "source": [
    "from sklearn.linear_model import SGDClassifier\n",
    "\n",
    "SGD_clf = SGDClassifier().fit(X_train, y_train)\n",
    "SGD_clf.score(X_test, y_test)"
   ]
  },
  {
   "cell_type": "markdown",
   "id": "5867b793",
   "metadata": {},
   "source": [
    "SGDClassifier mit dem Anpassen der Hyperparameter eines Schätzers"
   ]
  },
  {
   "cell_type": "code",
   "execution_count": 11,
   "id": "1aafda77",
   "metadata": {},
   "outputs": [
    {
     "name": "stdout",
     "output_type": "stream",
     "text": [
      "Best Estimator is: SGDClassifier(alpha=1, early_stopping=True, max_iter=100, random_state=1)\n",
      "Best score on train dataset is: 0.5144736062881907\n",
      "The score on test dataset is: 0.5721784776902887\n"
     ]
    }
   ],
   "source": [
    "gridsearch_SGD = GridSearchCV(estimator = SGDClassifier(), \n",
    "                              param_grid = {'alpha': [1, 10], 'max_iter': [100, 10000], 'early_stopping': [True], 'random_state': [1, 10]}).fit(X_train, y_train)\n",
    "\n",
    "print(\"Best Estimator is: {}\".format(gridsearch_SGD.best_estimator_))\n",
    "print(\"Best score on train dataset is: {}\".format(gridsearch_SGD.best_score_))\n",
    "print(\"The score on test dataset is: {}\".format(gridsearch_SGD.score(X_test, y_test)))"
   ]
  },
  {
   "cell_type": "markdown",
   "id": "2dbfa4c4",
   "metadata": {},
   "source": [
    "### (d) Modell 4: Support Vector Machines, SVM"
   ]
  },
  {
   "cell_type": "markdown",
   "id": "5b2e03a9",
   "metadata": {},
   "source": [
    "hard SVM"
   ]
  },
  {
   "cell_type": "code",
   "execution_count": 12,
   "id": "49d09286",
   "metadata": {},
   "outputs": [
    {
     "data": {
      "text/plain": [
       "0.8713910761154856"
      ]
     },
     "execution_count": 12,
     "metadata": {},
     "output_type": "execute_result"
    }
   ],
   "source": [
    "from sklearn import svm\n",
    "\n",
    "svm_clf = svm.SVC().fit(X_train, y_train)\n",
    "svm_clf.score(X_test, y_test)"
   ]
  },
  {
   "cell_type": "markdown",
   "id": "08eb7e68",
   "metadata": {},
   "source": [
    "soft SVM"
   ]
  },
  {
   "cell_type": "code",
   "execution_count": 13,
   "id": "a0c3fe19",
   "metadata": {},
   "outputs": [
    {
     "data": {
      "text/plain": [
       "0.8713910761154856"
      ]
     },
     "execution_count": 13,
     "metadata": {},
     "output_type": "execute_result"
    }
   ],
   "source": [
    "svm_rbf_clf = svm.SVC(kernel = 'rbf', probability = True).fit(X_train, y_train)\n",
    "svm_rbf_clf.score(X_test, y_test)"
   ]
  },
  {
   "cell_type": "markdown",
   "id": "319c1231",
   "metadata": {},
   "source": [
    "SVM mit dem Anpassen der Hyperparameter eines Schätzers "
   ]
  },
  {
   "cell_type": "code",
   "execution_count": 14,
   "id": "2c233a4f",
   "metadata": {},
   "outputs": [
    {
     "name": "stdout",
     "output_type": "stream",
     "text": [
      "Best Estimator is: SVC(C=1, degree=1, kernel='linear')\n",
      "Best score on train dataset is: 0.9301165576462355\n",
      "The score on test dataset is: 0.9343832020997376\n"
     ]
    }
   ],
   "source": [
    "gridsearch_svm = GridSearchCV(\n",
    "    estimator = svm.SVC(), param_grid = {'C': [1, 10], 'kernel': ('linear', 'rbf', 'poly', 'sigmoid'), 'degree': [1, 5]}).fit(X_train, y_train)\n",
    "\n",
    "print(\"Best Estimator is: {}\".format(gridsearch_svm.best_estimator_))\n",
    "print(\"Best score on train dataset is: {}\".format(gridsearch_svm.best_score_))\n",
    "print(\"The score on test dataset is: {}\".format(gridsearch_svm.score(X_test, y_test)))"
   ]
  },
  {
   "cell_type": "code",
   "execution_count": 15,
   "id": "b3dfb2bd",
   "metadata": {},
   "outputs": [
    {
     "data": {
      "text/plain": [
       "{'mean_fit_time': array([1.6527082 , 0.0819098 , 0.05924244, 0.18125172, 1.63779645,\n",
       "        0.08267946, 0.06087146, 0.17754536, 1.31502881, 0.08123279,\n",
       "        0.0570107 , 0.17978249, 1.31449819, 0.0822381 , 0.08169861,\n",
       "        0.17992792]),\n",
       " 'std_fit_time': array([6.56900493e-01, 6.66541779e-04, 1.58620281e-03, 1.85192653e-03,\n",
       "        6.49693181e-01, 6.28378829e-04, 1.03111195e-03, 1.08512375e-03,\n",
       "        2.78833498e-01, 8.38880424e-04, 1.34527169e-03, 3.54969219e-03,\n",
       "        3.10189385e-01, 1.72445571e-03, 6.25213422e-03, 2.54689855e-03]),\n",
       " 'mean_score_time': array([0.00601163, 0.05019417, 0.01276464, 0.04022503, 0.00599303,\n",
       "        0.05058413, 0.01164956, 0.0403986 , 0.00607038, 0.04684954,\n",
       "        0.01211658, 0.04026532, 0.00611458, 0.04725776, 0.01204395,\n",
       "        0.04177365]),\n",
       " 'std_score_time': array([0.00037073, 0.00095917, 0.00013144, 0.00035464, 0.00011786,\n",
       "        0.00085535, 0.0004267 , 0.00020237, 0.00019503, 0.00075573,\n",
       "        0.00034823, 0.00080292, 0.00011906, 0.00175924, 0.00045404,\n",
       "        0.00112405]),\n",
       " 'param_C': masked_array(data=[1, 1, 1, 1, 1, 1, 1, 1, 10, 10, 10, 10, 10, 10, 10, 10],\n",
       "              mask=[False, False, False, False, False, False, False, False,\n",
       "                    False, False, False, False, False, False, False, False],\n",
       "        fill_value='?',\n",
       "             dtype=object),\n",
       " 'param_degree': masked_array(data=[1, 1, 1, 1, 5, 5, 5, 5, 1, 1, 1, 1, 5, 5, 5, 5],\n",
       "              mask=[False, False, False, False, False, False, False, False,\n",
       "                    False, False, False, False, False, False, False, False],\n",
       "        fill_value='?',\n",
       "             dtype=object),\n",
       " 'param_kernel': masked_array(data=['linear', 'rbf', 'poly', 'sigmoid', 'linear', 'rbf',\n",
       "                    'poly', 'sigmoid', 'linear', 'rbf', 'poly', 'sigmoid',\n",
       "                    'linear', 'rbf', 'poly', 'sigmoid'],\n",
       "              mask=[False, False, False, False, False, False, False, False,\n",
       "                    False, False, False, False, False, False, False, False],\n",
       "        fill_value='?',\n",
       "             dtype=object),\n",
       " 'params': [{'C': 1, 'degree': 1, 'kernel': 'linear'},\n",
       "  {'C': 1, 'degree': 1, 'kernel': 'rbf'},\n",
       "  {'C': 1, 'degree': 1, 'kernel': 'poly'},\n",
       "  {'C': 1, 'degree': 1, 'kernel': 'sigmoid'},\n",
       "  {'C': 1, 'degree': 5, 'kernel': 'linear'},\n",
       "  {'C': 1, 'degree': 5, 'kernel': 'rbf'},\n",
       "  {'C': 1, 'degree': 5, 'kernel': 'poly'},\n",
       "  {'C': 1, 'degree': 5, 'kernel': 'sigmoid'},\n",
       "  {'C': 10, 'degree': 1, 'kernel': 'linear'},\n",
       "  {'C': 10, 'degree': 1, 'kernel': 'rbf'},\n",
       "  {'C': 10, 'degree': 1, 'kernel': 'poly'},\n",
       "  {'C': 10, 'degree': 1, 'kernel': 'sigmoid'},\n",
       "  {'C': 10, 'degree': 5, 'kernel': 'linear'},\n",
       "  {'C': 10, 'degree': 5, 'kernel': 'rbf'},\n",
       "  {'C': 10, 'degree': 5, 'kernel': 'poly'},\n",
       "  {'C': 10, 'degree': 5, 'kernel': 'sigmoid'}],\n",
       " 'split0_test_score': array([0.92295082, 0.88852459, 0.8852459 , 0.18688525, 0.92295082,\n",
       "        0.88852459, 0.89016393, 0.18688525, 0.92295082, 0.88852459,\n",
       "        0.8852459 , 0.18196721, 0.92295082, 0.88852459, 0.89344262,\n",
       "        0.18196721]),\n",
       " 'split1_test_score': array([0.94754098, 0.88196721, 0.88196721, 0.18196721, 0.94754098,\n",
       "        0.88196721, 0.88688525, 0.18196721, 0.94918033, 0.8852459 ,\n",
       "        0.87868852, 0.15901639, 0.94918033, 0.8852459 , 0.8852459 ,\n",
       "        0.15901639]),\n",
       " 'split2_test_score': array([0.92459016, 0.88688525, 0.8852459 , 0.2147541 , 0.92459016,\n",
       "        0.88688525, 0.89016393, 0.2147541 , 0.92459016, 0.88688525,\n",
       "        0.88032787, 0.20163934, 0.92459016, 0.88688525, 0.88688525,\n",
       "        0.20163934]),\n",
       " 'split3_test_score': array([0.93760263, 0.87192118, 0.87356322, 0.24302135, 0.93760263,\n",
       "        0.87192118, 0.87520525, 0.24302135, 0.93431856, 0.87520525,\n",
       "        0.87684729, 0.23481117, 0.93431856, 0.87520525, 0.8817734 ,\n",
       "        0.23481117]),\n",
       " 'split4_test_score': array([0.91789819, 0.88998358, 0.88998358, 0.21018062, 0.91789819,\n",
       "        0.88998358, 0.89162562, 0.21018062, 0.91954023, 0.89162562,\n",
       "        0.89162562, 0.20361248, 0.91954023, 0.89162562, 0.89819376,\n",
       "        0.20361248]),\n",
       " 'mean_test_score': array([0.93011656, 0.88385636, 0.88320116, 0.20736171, 0.93011656,\n",
       "        0.88385636, 0.8868088 , 0.20736171, 0.93011602, 0.88549732,\n",
       "        0.88254704, 0.19620932, 0.93011602, 0.88549732, 0.88910819,\n",
       "        0.19620932]),\n",
       " 'std_test_score': array([0.01087041, 0.00655022, 0.00545483, 0.02190146, 0.01087041,\n",
       "        0.00655022, 0.00600606, 0.02190146, 0.01072224, 0.00556123,\n",
       "        0.00532925, 0.02514178, 0.01072224, 0.00556123, 0.00591596,\n",
       "        0.02514178]),\n",
       " 'rank_test_score': array([ 1,  9, 11, 13,  1,  9,  6, 13,  3,  7, 12, 15,  3,  7,  5, 15],\n",
       "       dtype=int32)}"
      ]
     },
     "execution_count": 15,
     "metadata": {},
     "output_type": "execute_result"
    }
   ],
   "source": [
    "gridsearch_svm.cv_results_"
   ]
  },
  {
   "cell_type": "markdown",
   "id": "9fb633ee",
   "metadata": {},
   "source": [
    "### (e) Modell 5: k-Nearest Neighbor"
   ]
  },
  {
   "cell_type": "code",
   "execution_count": 16,
   "id": "d5161183",
   "metadata": {},
   "outputs": [
    {
     "data": {
      "text/plain": [
       "0.868766404199475"
      ]
     },
     "execution_count": 16,
     "metadata": {},
     "output_type": "execute_result"
    }
   ],
   "source": [
    "from sklearn.neighbors import KNeighborsClassifier\n",
    "\n",
    "neigh_clf = KNeighborsClassifier().fit(X_train, y_train)\n",
    "neigh_clf.score(X_test, y_test)"
   ]
  },
  {
   "cell_type": "markdown",
   "id": "d79b271d",
   "metadata": {},
   "source": [
    "KNeighborsClassifier  mit dem Anpassen der Hyperparameter eines Schätzers"
   ]
  },
  {
   "cell_type": "code",
   "execution_count": 17,
   "id": "4c269b6c",
   "metadata": {},
   "outputs": [
    {
     "name": "stdout",
     "output_type": "stream",
     "text": [
      "Best Estimator is: KNeighborsClassifier(leaf_size=1, n_neighbors=10)\n",
      "Best score on train dataset is: 0.8838595924520176\n",
      "The score on test dataset is: 0.863517060367454\n"
     ]
    }
   ],
   "source": [
    "gridsearch_neigh = GridSearchCV(estimator = KNeighborsClassifier(), \n",
    "                                param_grid = {'n_neighbors': [1, 10], 'algorithm': ('auto', 'ball_tree', 'kd_tree', 'brute'), 'leaf_size': [1, 50]}).fit(X_train, y_train)\n",
    "\n",
    "print(\"Best Estimator is: {}\".format(gridsearch_neigh.best_estimator_))\n",
    "print(\"Best score on train dataset is: {}\".format(gridsearch_neigh.best_score_))\n",
    "print(\"The score on test dataset is: {}\".format(gridsearch_neigh.score(X_test, y_test)))"
   ]
  },
  {
   "cell_type": "markdown",
   "id": "15767912",
   "metadata": {},
   "source": [
    "### (f) Modell 6: Decision Tree"
   ]
  },
  {
   "cell_type": "code",
   "execution_count": 18,
   "id": "69f88e8e",
   "metadata": {},
   "outputs": [
    {
     "data": {
      "text/plain": [
       "0.9041994750656168"
      ]
     },
     "execution_count": 18,
     "metadata": {},
     "output_type": "execute_result"
    }
   ],
   "source": [
    "from sklearn import tree\n",
    "\n",
    "DT_clf = tree.DecisionTreeClassifier().fit(X_train, y_train)\n",
    "DT_clf.score(X_test, y_test)"
   ]
  },
  {
   "cell_type": "markdown",
   "id": "39800570",
   "metadata": {},
   "source": [
    "Decision Tree mit dem Anpassen der Hyperparameter eines Schätzers"
   ]
  },
  {
   "cell_type": "code",
   "execution_count": 19,
   "id": "faaf3368",
   "metadata": {},
   "outputs": [
    {
     "name": "stdout",
     "output_type": "stream",
     "text": [
      "Best Estimator is: DecisionTreeClassifier(max_depth=1)\n",
      "Best score on train dataset is: 0.9251952946243506\n",
      "The score on test dataset is: 0.9225721784776902\n"
     ]
    }
   ],
   "source": [
    "gridsearch_DT = GridSearchCV(\n",
    "    estimator = tree.DecisionTreeClassifier(), \n",
    "    param_grid = {'criterion': ('gini', 'entropy'), 'splitter': ('best', 'random'), 'max_depth': [1, 50], 'min_samples_leaf': [1, 10]}).fit(X_train, y_train)\n",
    "\n",
    "print(\"Best Estimator is: {}\".format(gridsearch_DT.best_estimator_))\n",
    "print(\"Best score on train dataset is: {}\".format(gridsearch_DT.best_score_))\n",
    "print(\"The score on test dataset is: {}\".format(gridsearch_DT.score(X_test, y_test)))"
   ]
  },
  {
   "cell_type": "markdown",
   "id": "d65313b7",
   "metadata": {},
   "source": [
    "### (g) Bayesian Classification"
   ]
  },
  {
   "cell_type": "markdown",
   "id": "6a28bebb",
   "metadata": {},
   "source": [
    "#### Modell 7 Naive Bayes classifier for multivariate Bernoulli models"
   ]
  },
  {
   "cell_type": "code",
   "execution_count": 20,
   "id": "d4bfbcb0",
   "metadata": {},
   "outputs": [
    {
     "data": {
      "text/plain": [
       "0.5721784776902887"
      ]
     },
     "execution_count": 20,
     "metadata": {},
     "output_type": "execute_result"
    }
   ],
   "source": [
    "from sklearn.naive_bayes import BernoulliNB\n",
    "\n",
    "Bernoulli_clf = BernoulliNB().fit(X_train, y_train)\n",
    "Bernoulli_clf.score(X_test, y_test)"
   ]
  },
  {
   "cell_type": "code",
   "execution_count": 21,
   "id": "4261ac54",
   "metadata": {},
   "outputs": [
    {
     "name": "stdout",
     "output_type": "stream",
     "text": [
      "Best Estimator is: BernoulliNB(alpha=1, fit_prior=False)\n",
      "Best score on train dataset is: 0.5721785243209776\n",
      "The score on test dataset is: 0.5721784776902887\n"
     ]
    }
   ],
   "source": [
    "gridsearch_Bernoulli = GridSearchCV(estimator = BernoulliNB(), param_grid = {'alpha': [1, 2], 'fit_prior': [False]}).fit(X_train, y_train)\n",
    "\n",
    "print(\"Best Estimator is: {}\".format(gridsearch_Bernoulli.best_estimator_))\n",
    "print(\"Best score on train dataset is: {}\".format(gridsearch_Bernoulli.best_score_))\n",
    "print(\"The score on test dataset is: {}\".format(gridsearch_Bernoulli.score(X_test, y_test)))"
   ]
  },
  {
   "cell_type": "markdown",
   "id": "b29e2c4e",
   "metadata": {},
   "source": [
    "#### Modell 8 Naive Bayes classifier for categorical features"
   ]
  },
  {
   "cell_type": "code",
   "execution_count": 22,
   "id": "2008a198",
   "metadata": {},
   "outputs": [
    {
     "data": {
      "text/plain": [
       "0.573490813648294"
      ]
     },
     "execution_count": 22,
     "metadata": {},
     "output_type": "execute_result"
    }
   ],
   "source": [
    "from sklearn.preprocessing import OrdinalEncoder\n",
    "from sklearn.naive_bayes import CategoricalNB\n",
    "\n",
    "enc = OrdinalEncoder()\n",
    "\n",
    "x_train = enc.fit(X_train).fit_transform(X_train)\n",
    "x_test = enc.fit(X_test).fit_transform(X_test)\n",
    "\n",
    "Categ_clf = CategoricalNB().fit(x_train, y_train)\n",
    "Categ_clf.score(x_test, y_test)"
   ]
  },
  {
   "cell_type": "markdown",
   "id": "5f3c08fe",
   "metadata": {},
   "source": [
    "#### Modell 9 Gaussian Naive Bayes algorithm for classification"
   ]
  },
  {
   "cell_type": "code",
   "execution_count": 23,
   "id": "aeacd5f5",
   "metadata": {},
   "outputs": [
    {
     "data": {
      "text/plain": [
       "0.9041994750656168"
      ]
     },
     "execution_count": 23,
     "metadata": {},
     "output_type": "execute_result"
    }
   ],
   "source": [
    "from sklearn.naive_bayes import GaussianNB\n",
    "\n",
    "Gaussian_clf = GaussianNB().fit(X_train, y_train)\n",
    "Gaussian_clf.score(X_test, y_test)"
   ]
  },
  {
   "cell_type": "code",
   "execution_count": 24,
   "id": "ebd89ad5",
   "metadata": {},
   "outputs": [
    {
     "name": "stdout",
     "output_type": "stream",
     "text": [
      "Best Estimator is: GaussianNB(var_smoothing=0)\n",
      "Best score on train dataset is: 0.9173210584403348\n",
      "The score on test dataset is: 0.9173228346456693\n"
     ]
    }
   ],
   "source": [
    "gridsearch_Gaussian = GridSearchCV(estimator = GaussianNB(), param_grid = {'var_smoothing': [0, 1]}).fit(X_train, y_train)\n",
    "\n",
    "print(\"Best Estimator is: {}\".format(gridsearch_Gaussian.best_estimator_))\n",
    "print(\"Best score on train dataset is: {}\".format(gridsearch_Gaussian.best_score_))\n",
    "print(\"The score on test dataset is: {}\".format(gridsearch_Gaussian.score(X_test, y_test)))"
   ]
  },
  {
   "cell_type": "markdown",
   "id": "8e31a22e",
   "metadata": {},
   "source": [
    "#### Modell 10 Naive Bayes classifier for multinomial models"
   ]
  },
  {
   "cell_type": "code",
   "execution_count": 25,
   "id": "62d9b556",
   "metadata": {},
   "outputs": [
    {
     "data": {
      "text/plain": [
       "0.8438320209973753"
      ]
     },
     "execution_count": 25,
     "metadata": {},
     "output_type": "execute_result"
    }
   ],
   "source": [
    "from sklearn.naive_bayes import MultinomialNB\n",
    "\n",
    "Multi_Gaussian_clf = MultinomialNB().fit(X_train, y_train)\n",
    "Multi_Gaussian_clf.score(X_test, y_test)"
   ]
  },
  {
   "cell_type": "code",
   "execution_count": 26,
   "id": "a67a3ce8",
   "metadata": {},
   "outputs": [
    {
     "name": "stdout",
     "output_type": "stream",
     "text": [
      "Best Estimator is: MultinomialNB(alpha=0.001)\n",
      "Best score on train dataset is: 0.853016231930873\n",
      "The score on test dataset is: 0.8438320209973753\n"
     ]
    }
   ],
   "source": [
    "gridsearch_Multi_Gaussian = GridSearchCV(estimator = MultinomialNB(), param_grid = {'alpha': [0.001, 2]}).fit(X_train, y_train)\n",
    "\n",
    "print(\"Best Estimator is: {}\".format(gridsearch_Multi_Gaussian.best_estimator_))\n",
    "print(\"Best score on train dataset is: {}\".format(gridsearch_Multi_Gaussian.best_score_))\n",
    "print(\"The score on test dataset is: {}\".format(gridsearch_Multi_Gaussian.score(X_test, y_test)))"
   ]
  },
  {
   "cell_type": "markdown",
   "id": "03ca1c66",
   "metadata": {},
   "source": [
    "### (h) Modell 11: Neural Networks"
   ]
  },
  {
   "cell_type": "code",
   "execution_count": 27,
   "id": "b6efb79b",
   "metadata": {},
   "outputs": [
    {
     "data": {
      "text/plain": [
       "0.5196850393700787"
      ]
     },
     "execution_count": 27,
     "metadata": {},
     "output_type": "execute_result"
    }
   ],
   "source": [
    "from sklearn.neural_network import MLPClassifier\n",
    "\n",
    "MLP_clf = MLPClassifier().fit(X_train, y_train)\n",
    "MLP_clf.score(X_test, y_test)"
   ]
  },
  {
   "cell_type": "code",
   "execution_count": 29,
   "id": "5ebd1e80",
   "metadata": {},
   "outputs": [
    {
     "name": "stdout",
     "output_type": "stream",
     "text": [
      "Best Estimator is: MLPClassifier(hidden_layer_sizes=20, max_iter=1000, random_state=1)\n",
      "Best Parameter is: {'activation': 'relu', 'alpha': 0.0001, 'hidden_layer_sizes': 20, 'learning_rate': 'constant', 'max_iter': 1000, 'random_state': 1}\n",
      "Best score on train dataset is: 0.7775014132278122\n",
      "The score on test dataset is: 0.45013123359580054\n"
     ]
    }
   ],
   "source": [
    "import warnings\n",
    "warnings.filterwarnings(\"ignore\")\n",
    "\n",
    "gridsearch_MLP = GridSearchCV(\n",
    "    estimator = MLPClassifier(), \n",
    "    param_grid = {'hidden_layer_sizes': [1, 20], 'random_state': [1, 10], 'max_iter': [1000, 10000], \n",
    "                  'activation': ('identity', 'logistic', 'relu', 'tanh'), \n",
    "                  'alpha': [0.0001, 1], 'learning_rate': ('constant', 'invscaling', 'adaptive')}).fit(X_train, y_train)\n",
    "\n",
    "print(\"Best Estimator is: {}\".format(gridsearch_MLP.best_estimator_))\n",
    "print(\"Best Parameter is: {}\".format(gridsearch_MLP.best_params_))\n",
    "print(\"Best score on train dataset is: {}\".format(gridsearch_MLP.best_score_))\n",
    "print(\"The score on test dataset is: {}\".format(gridsearch_MLP.score(X_test, y_test)))"
   ]
  },
  {
   "cell_type": "markdown",
   "id": "5fa62b78",
   "metadata": {},
   "source": [
    "### (i) Ensemble methods"
   ]
  },
  {
   "cell_type": "markdown",
   "id": "22532776",
   "metadata": {},
   "source": [
    "#### Modell 12: Bagging meta-estimator"
   ]
  },
  {
   "cell_type": "code",
   "execution_count": 30,
   "id": "f9bea565",
   "metadata": {},
   "outputs": [
    {
     "data": {
      "text/plain": [
       "0.868766404199475"
      ]
     },
     "execution_count": 30,
     "metadata": {},
     "output_type": "execute_result"
    }
   ],
   "source": [
    "from sklearn.ensemble import BaggingClassifier\n",
    "\n",
    "Bag_clf = BaggingClassifier(base_estimator = svm.SVC(), n_estimators=10, random_state = 0).fit(X_train, y_train)\n",
    "Bag_clf.score(X_test, y_test)"
   ]
  },
  {
   "cell_type": "markdown",
   "id": "b4927487",
   "metadata": {},
   "source": [
    " #### Modell 13: Forests of randomized trees"
   ]
  },
  {
   "cell_type": "code",
   "execution_count": 31,
   "id": "b0ebb7ec",
   "metadata": {},
   "outputs": [
    {
     "data": {
      "text/plain": [
       "0.9186351706036745"
      ]
     },
     "execution_count": 31,
     "metadata": {},
     "output_type": "execute_result"
    }
   ],
   "source": [
    "from sklearn.ensemble import RandomForestClassifier\n",
    "\n",
    "randForest_clf= RandomForestClassifier().fit(X_train, y_train)\n",
    "randForest_clf.score(X_test, y_test)"
   ]
  },
  {
   "cell_type": "code",
   "execution_count": 32,
   "id": "3717f218",
   "metadata": {},
   "outputs": [
    {
     "name": "stdout",
     "output_type": "stream",
     "text": [
      "Best Estimator is: RandomForestClassifier(max_depth=1, n_estimators=3, random_state=10)\n",
      "Best score on train dataset is: 0.9268351772591457\n",
      "The score on test dataset is: 0.9291338582677166\n"
     ]
    }
   ],
   "source": [
    "gridsearch_randForest = GridSearchCV(estimator = RandomForestClassifier(), \n",
    "                                     param_grid = {'max_depth': [1, 10], 'n_estimators': [3, 200], 'random_state': [0, 10]}).fit(X_train, y_train)\n",
    "\n",
    "print(\"Best Estimator is: {}\".format(gridsearch_randForest.best_estimator_))\n",
    "print(\"Best score on train dataset is: {}\".format(gridsearch_randForest.best_score_))\n",
    "print(\"The score on test dataset is: {}\".format(gridsearch_randForest.score(X_test, y_test)))"
   ]
  },
  {
   "cell_type": "markdown",
   "id": "34971cda",
   "metadata": {},
   "source": [
    "#### Modell 14: Boosting - AdaBoost"
   ]
  },
  {
   "cell_type": "code",
   "execution_count": 33,
   "id": "c0ac36d8",
   "metadata": {},
   "outputs": [
    {
     "name": "stdout",
     "output_type": "stream",
     "text": [
      "Best Estimator is: AdaBoostClassifier(n_estimators=3, random_state=0)\n",
      "Best score on train dataset is: 0.9251952946243506\n",
      "The score on test dataset is: 0.9225721784776902\n"
     ]
    }
   ],
   "source": [
    "from sklearn.ensemble import AdaBoostClassifier\n",
    "\n",
    "AdaBoost_clf = AdaBoostClassifier()\n",
    "\n",
    "gridsearch_AdaBoost = GridSearchCV(estimator = AdaBoostClassifier(), \n",
    "                                     param_grid = {'n_estimators': [3, 200], 'random_state': [0, 10]}).fit(X_train, y_train)\n",
    "\n",
    "print(\"Best Estimator is: {}\".format(gridsearch_AdaBoost.best_estimator_))\n",
    "print(\"Best score on train dataset is: {}\".format(gridsearch_AdaBoost.best_score_))\n",
    "print(\"The score on test dataset is: {}\".format(gridsearch_AdaBoost.score(X_test, y_test)))"
   ]
  },
  {
   "cell_type": "code",
   "execution_count": 34,
   "id": "c58888f2",
   "metadata": {},
   "outputs": [
    {
     "name": "stdout",
     "output_type": "stream",
     "text": [
      "Best Estimator is: AdaBoostClassifier(learning_rate=0.1, n_estimators=200, random_state=0)\n",
      "Best score on train dataset is: 0.9274909149640637\n",
      "The score on test dataset is: 0.9238845144356955\n"
     ]
    }
   ],
   "source": [
    "from sklearn.ensemble import GradientBoostingClassifier\n",
    "\n",
    "GraBoost_clf = GradientBoostingClassifier()\n",
    "\n",
    "gridsearch_GraBoost = GridSearchCV(\n",
    "    estimator = AdaBoostClassifier(), \n",
    "    param_grid = {'n_estimators': [3, 200], 'learning_rate': [0.1, 1.0], 'random_state': [0, 10]}).fit(X_train, y_train)\n",
    "\n",
    "print(\"Best Estimator is: {}\".format(gridsearch_GraBoost.best_estimator_))\n",
    "print(\"Best score on train dataset is: {}\".format(gridsearch_GraBoost.best_score_))\n",
    "print(\"The score on test dataset is: {}\".format(gridsearch_GraBoost.score(X_test, y_test)))"
   ]
  },
  {
   "cell_type": "code",
   "execution_count": 35,
   "id": "fb6464bc",
   "metadata": {},
   "outputs": [
    {
     "name": "stdout",
     "output_type": "stream",
     "text": [
      "Best Estimator is: HistGradientBoostingClassifier(max_iter=200, max_leaf_nodes=20)\n",
      "Best score on train dataset is: 0.9160101214029988\n",
      "The score on test dataset is: 0.9212598425196851\n"
     ]
    }
   ],
   "source": [
    "from sklearn.ensemble import HistGradientBoostingClassifier\n",
    "\n",
    "HistGraBoost_clf = HistGradientBoostingClassifier()\n",
    "\n",
    "gridsearch_HistGraBoost = GridSearchCV(\n",
    "    estimator = HistGradientBoostingClassifier(), \n",
    "    param_grid = {'max_iter': [3, 200], 'learning_rate': [0.1, 1.0], 'max_bins': [100, 255], 'max_leaf_nodes': [20, 50]}).fit(X_train, y_train)\n",
    "\n",
    "print(\"Best Estimator is: {}\".format(gridsearch_HistGraBoost.best_estimator_))\n",
    "print(\"Best score on train dataset is: {}\".format(gridsearch_HistGraBoost.best_score_))\n",
    "print(\"The score on test dataset is: {}\".format(gridsearch_HistGraBoost.score(X_test, y_test)))"
   ]
  },
  {
   "cell_type": "markdown",
   "id": "00af25c4",
   "metadata": {},
   "source": [
    "#### Modell 15.1 Voting Classifier - hard"
   ]
  },
  {
   "cell_type": "code",
   "execution_count": 39,
   "id": "98638d59",
   "metadata": {},
   "outputs": [
    {
     "name": "stdout",
     "output_type": "stream",
     "text": [
      "Accuracy: 0.89 (+/- 0.02) [Random Forest]\n",
      "Accuracy: 0.93 (+/- 0.02) [Logistic Regression]\n",
      "Accuracy: 0.92 (+/- 0.01) [Ensemble]\n"
     ]
    }
   ],
   "source": [
    "from sklearn.model_selection import cross_val_score\n",
    "from sklearn.ensemble import VotingClassifier\n",
    "\n",
    "vot_hard_clf = VotingClassifier(estimators = [('rf', randForest_clf), ('lr', LogistReg_clf)], voting = 'hard')\n",
    "\n",
    "for clf, label in zip([randForest_clf, LogistReg_clf, vot_hard_clf], ['Random Forest', 'Logistic Regression', 'Ensemble']):\n",
    "    scores = cross_val_score(clf, X, y, scoring = 'accuracy', cv = 8)\n",
    "    print(\"Accuracy: %0.2f (+/- %0.2f) [%s]\" % (scores.mean(), scores.std(), label))"
   ]
  },
  {
   "cell_type": "markdown",
   "id": "770741ab",
   "metadata": {},
   "source": [
    "#### Modell 15.2: Voting Classifier - soft"
   ]
  },
  {
   "cell_type": "code",
   "execution_count": 40,
   "id": "690fadb9",
   "metadata": {},
   "outputs": [
    {
     "name": "stdout",
     "output_type": "stream",
     "text": [
      "Accuracy: 0.89 (+/- 0.02) [Decision Tree]\n",
      "Accuracy: 0.88 (+/- 0.03) [Soft SVM]\n",
      "Accuracy: 0.90 (+/- 0.02) [Ensemble]\n"
     ]
    }
   ],
   "source": [
    "# Training classifiers\n",
    "\n",
    "vot_soft_clf = VotingClassifier(estimators = [('dt', DT_clf), ('svc', svm_rbf_clf)], voting = 'soft', weights = [3, 5])\n",
    "\n",
    "for clf, label in zip([DT_clf, svm_rbf_clf, vot_soft_clf], ['Decision Tree', 'Soft SVM', 'Ensemble']):\n",
    "    scores = cross_val_score(clf, X, y, scoring = 'accuracy', cv = 5)\n",
    "    print(\"Accuracy: %0.2f (+/- %0.2f) [%s]\" % (scores.mean(), scores.std(), label))"
   ]
  },
  {
   "cell_type": "markdown",
   "id": "880f7f00",
   "metadata": {},
   "source": [
    "## (3) Zielmetrik auswählen"
   ]
  },
  {
   "cell_type": "markdown",
   "id": "fbc0b80c",
   "metadata": {},
   "source": [
    "Area Under the Receiver Operating Characteristic Curve (ROC AUC)\n",
    "Receiver Operating Characteristics (ROC) Curves, which can make a tradeoff between hit rate (TP) and false alarm (FP) over nosiy channels.\n",
    "Area under the Curve (AUC) can be used to measure the quality of an Algorithm."
   ]
  },
  {
   "cell_type": "markdown",
   "id": "3bf54e49",
   "metadata": {},
   "source": [
    "ROC kann einen Kompromiss zwischen Trefferrate (TP) und Fehlalarm (FP) über verrauschte Kanäle eingehen.\n",
    "AUC kann verwendet werden, um die Qualität eines Algorithmus zu messen"
   ]
  },
  {
   "cell_type": "code",
   "execution_count": 38,
   "id": "60e75b46",
   "metadata": {},
   "outputs": [
    {
     "data": {
      "image/png": "[encoded data removed]",
      "text/plain": [
       "<Figure size 432x288 with 1 Axes>"
      ]
     },
     "metadata": {
      "needs_background": "light"
     },
     "output_type": "display_data"
    }
   ],
   "source": [
    "from sklearn import metrics\n",
    "from itertools import cycle\n",
    "from sklearn.metrics import auc\n",
    "from sklearn.metrics import roc_auc_score\n",
    "from sklearn.metrics import RocCurveDisplay\n",
    "from sklearn.model_selection import StratifiedKFold\n",
    "\n",
    "cv = StratifiedKFold(n_splits = 2)\n",
    "classifier = RandomForestClassifier(max_depth = 10, n_estimators = 200, random_state = 0)\n",
    "\n",
    "tprs = []\n",
    "aucs = []\n",
    "mean_fpr = np.linspace(0, 1, 100)\n",
    "\n",
    "fig, ax = plt.subplots()\n",
    "for i, (train, test) in enumerate(cv.split(X, y)):\n",
    "    classifier.fit(X_train, y_train)\n",
    "    viz = RocCurveDisplay.from_estimator(\n",
    "        classifier,\n",
    "        X_test,\n",
    "        y_test,\n",
    "        name = \"ROC fold {}\".format(i),\n",
    "        lw = 1,\n",
    "        ax = ax,\n",
    "    )\n",
    "    interp_tpr = np.interp(mean_fpr, viz.fpr, viz.tpr)\n",
    "    interp_tpr[0] = 0.0\n",
    "    tprs.append(interp_tpr)\n",
    "    aucs.append(viz.roc_auc)\n",
    "\n",
    "ax.plot([0, 1], [0, 1], linestyle=\"--\", lw=2, color=\"r\", label=\"Chance\", alpha=0.8)\n",
    "\n",
    "mean_tpr = np.mean(tprs, axis=0)\n",
    "mean_tpr[-1] = 1.0\n",
    "mean_auc = auc(mean_fpr, mean_tpr)\n",
    "std_auc = np.std(aucs)\n",
    "ax.plot(\n",
    "    mean_fpr,\n",
    "    mean_tpr,\n",
    "    color=\"b\",\n",
    "    label=r\"Mean ROC (AUC = %0.2f $\\pm$ %0.2f)\" % (mean_auc, std_auc),\n",
    "    lw=2,\n",
    "    alpha=0.8,\n",
    ")\n",
    "\n",
    "std_tpr = np.std(tprs, axis=0)\n",
    "tprs_upper = np.minimum(mean_tpr + std_tpr, 1)\n",
    "tprs_lower = np.maximum(mean_tpr - std_tpr, 0)\n",
    "ax.fill_between(\n",
    "    mean_fpr,\n",
    "    tprs_lower,\n",
    "    tprs_upper,\n",
    "    color=\"grey\",\n",
    "    alpha=0.2,\n",
    "    label=r\"$\\pm$ 1 std. dev.\",\n",
    ")\n",
    "\n",
    "ax.set(\n",
    "    xlim=[-0.05, 1.05],\n",
    "    ylim=[-0.05, 1.05],\n",
    "    title=\"Receiver operating characteristic for Rice daten with random forest model\",\n",
    ")\n",
    "ax.legend(loc = \"lower right\")\n",
    "plt.show()"
   ]
  },
  {
   "cell_type": "markdown",
   "id": "807a8a51",
   "metadata": {},
   "source": [
    "## (4) Plotten"
   ]
  },
  {
   "cell_type": "markdown",
   "id": "683b3c77",
   "metadata": {},
   "source": [
    "eine Kurve mit der Suchzeit, in Abhängigkeit von der Anzahl an CPU-Kernen."
   ]
  },
  {
   "cell_type": "code",
   "execution_count": 173,
   "id": "07a609ee",
   "metadata": {},
   "outputs": [
    {
     "data": {
      "image/png": "[encoded data removed]",
      "text/plain": [
       "<Figure size 432x288 with 1 Axes>"
      ]
     },
     "metadata": {
      "needs_background": "light"
     },
     "output_type": "display_data"
    }
   ],
   "source": [
    "clf1 = GridSearchCV(estimator = LogisticRegression(), param_grid = {'n_jobs': [-2, -1, 1, 2, 3, 4, 5]}, cv = 6).fit(X_train, y_train)\n",
    "results1 = pd.DataFrame(clf1.cv_results_)\n",
    "fig, ax = plt.subplots()\n",
    "ax.plot(results1.param_n_jobs, results1.mean_fit_time, linewidth = 2.0)\n",
    "plt.title('Kurve für LogisticRegression Model')\n",
    "plt.xlabel('die Anzahl an CPU-Kernen')\n",
    "plt.ylabel('Suchzeit')\n",
    "ax.set(xlim = (-3, 6), ylim=(0, 0.6))\n",
    "plt.show()"
   ]
  },
  {
   "cell_type": "code",
   "execution_count": 171,
   "id": "a235a342",
   "metadata": {},
   "outputs": [
    {
     "data": {
      "image/png": "[encoded data removed]",
      "text/plain": [
       "<Figure size 432x288 with 1 Axes>"
      ]
     },
     "metadata": {
      "needs_background": "light"
     },
     "output_type": "display_data"
    }
   ],
   "source": [
    "fig, ax = plt.subplots()\n",
    "plt.title('Kurve für LogisticRegression Model')\n",
    "plt.xlabel('die Anzahl an CPU-Kernen')\n",
    "plt.ylabel('Suchzeit')\n",
    "ax.set(xlim = (-3, 6), ylim=(0, 1))\n",
    "\n",
    "i = -2\n",
    "for i in range(-2, 5):\n",
    "    if i == 0: \n",
    "        continue\n",
    "    clf2 = GridSearchCV(estimator = svm.SVC(), param_grid = {}, n_jobs = i).fit(X_train, y_train)\n",
    "    results2 = pd.DataFrame(clf2.cv_results_).mean_fit_time\n",
    "    ax.plot(i, results2, 'ro')\n",
    "    i = i + 1"
   ]
  },
  {
   "cell_type": "code",
   "execution_count": 164,
   "id": "b4062c5b",
   "metadata": {},
   "outputs": [
    {
     "data": {
      "text/plain": [
       "0.9514808880227388"
      ]
     },
     "execution_count": 164,
     "metadata": {},
     "output_type": "execute_result"
    }
   ],
   "source": [
    "roc_auc_score(y_train, gridsearch_randForest.predict_proba(X_train)[:, 1])"
   ]
  },
  {
   "cell_type": "code",
   "execution_count": 165,
   "id": "67f00e9c",
   "metadata": {},
   "outputs": [
    {
     "data": {
      "text/plain": [
       "{'cv': None,\n",
       " 'error_score': nan,\n",
       " 'estimator__bootstrap': True,\n",
       " 'estimator__ccp_alpha': 0.0,\n",
       " 'estimator__class_weight': None,\n",
       " 'estimator__criterion': 'gini',\n",
       " 'estimator__max_depth': None,\n",
       " 'estimator__max_features': 'auto',\n",
       " 'estimator__max_leaf_nodes': None,\n",
       " 'estimator__max_samples': None,\n",
       " 'estimator__min_impurity_decrease': 0.0,\n",
       " 'estimator__min_samples_leaf': 1,\n",
       " 'estimator__min_samples_split': 2,\n",
       " 'estimator__min_weight_fraction_leaf': 0.0,\n",
       " 'estimator__n_estimators': 100,\n",
       " 'estimator__n_jobs': None,\n",
       " 'estimator__oob_score': False,\n",
       " 'estimator__random_state': None,\n",
       " 'estimator__verbose': 0,\n",
       " 'estimator__warm_start': False,\n",
       " 'estimator': RandomForestClassifier(),\n",
       " 'n_jobs': None,\n",
       " 'param_grid': {'max_depth': [1, 10],\n",
       "  'n_estimators': [3, 200],\n",
       "  'random_state': [0, 10]},\n",
       " 'pre_dispatch': '2*n_jobs',\n",
       " 'refit': True,\n",
       " 'return_train_score': False,\n",
       " 'scoring': None,\n",
       " 'verbose': 0}"
      ]
     },
     "execution_count": 165,
     "metadata": {},
     "output_type": "execute_result"
    }
   ],
   "source": [
    "gridsearch_randForest.get_params()"
   ]
  },
  {
   "cell_type": "code",
   "execution_count": null,
   "id": "79575287",
   "metadata": {},
   "outputs": [],
   "source": [
    "clf3 = GridSearchCV(estimator = tree.DecisionTreeClassifier(), param_grid = {}, n_jobs = [-2, 5]).fit(X_train, y_train)\n",
    "clf4 = GridSearchCV(estimator = GaussianNB(), param_grid = {}, n_jobs = [-2, 5]).fit(X_train, y_train)\n",
    "clf5 = GridSearchCV(estimator = RandomForestClassifier(), param_grid = {}, n_jobs = [-2, 5]).fit(X_train, y_train)\n",
    "clf6 = GridSearchCV(estimator = AdaBoostClassifier(), param_grid = {}, n_jobs = [-2, 5]).fit(X_train, y_train)\n",
    "clf7 = GridSearchCV(estimator = GradientBoostingClassifier(), param_grid = {}, n_jobs = [-2, 5]).fit(X_train, y_train)"
   ]
  }
 ],
 "metadata": {
  "kernelspec": {
   "display_name": "Python 3 (ipykernel)",
   "language": "python",
   "name": "python3"
  },
  "language_info": {
   "codemirror_mode": {
    "name": "ipython",
    "version": 3
   },
   "file_extension": ".py",
   "mimetype": "text/x-python",
   "name": "python",
   "nbconvert_exporter": "python",
   "pygments_lexer": "ipython3",
   "version": "3.8.10"
  }
 },
 "nbformat": 4,
 "nbformat_minor": 5
}
