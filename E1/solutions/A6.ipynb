{
 "cells": [
  {
   "cell_type": "markdown",
   "id": "2e6f691e",
   "metadata": {},
   "source": [
    "# Aufgabe 6 Cross Validation und Grid Search"
   ]
  },
  {
   "cell_type": "markdown",
   "id": "72eb6862",
   "metadata": {},
   "source": [
    "## (1) ein Datensatz für die Klassifikationsaufgabe"
   ]
  },
  {
   "cell_type": "markdown",
   "id": "2c29858b",
   "metadata": {},
   "source": [
    "Ich habe einen Datensatz von Commeo and Osmancik Rice Dataset ( siehe https://www.muratkoklu.com/datasets/ ) gesucht. Für die beiden Arten wurden insgesamt 3810 Bilder von Reiskörnern aufgenommen, verarbeitet und Rückschlüsse auf Merkmale gezogen. Für jedes Reiskorn wurden 7 morphologische Merkmale erhalten."
   ]
  },
  {
   "cell_type": "code",
   "execution_count": 1,
   "id": "35ccec1c",
   "metadata": {},
   "outputs": [],
   "source": [
    "# import all the important basic packages\n",
    "\n",
    "import pandas as pd\n",
    "import numpy as np\n",
    "import matplotlib.pyplot as plt\n",
    "import seaborn as sns\n",
    "from sklearn.model_selection import train_test_split\n",
    "from sklearn.model_selection import GridSearchCV\n",
    "from sklearn.metrics import accuracy_score\n",
    "from joblib import Parallel"
   ]
  },
  {
   "cell_type": "code",
   "execution_count": 2,
   "id": "bf72ad25",
   "metadata": {},
   "outputs": [],
   "source": [
    "# import data\n",
    "\n",
    "rice_df = pd.read_excel ('/Users/lenajd/Documents/python_work/Praktikum/Ex1/Rice_Dataset_Commeo_and_Osmancik/Rice_Cammeo_Osmancik.xlsx')"
   ]
  },
  {
   "cell_type": "markdown",
   "id": "778b6962",
   "metadata": {},
   "source": [
    "Die Beschreibung des Datensatzes lautet wie folgt:"
   ]
  },
  {
   "cell_type": "code",
   "execution_count": 3,
   "id": "3bb8a708",
   "metadata": {},
   "outputs": [
    {
     "name": "stdout",
     "output_type": "stream",
     "text": [
      "<class 'pandas.core.frame.DataFrame'>\n",
      "RangeIndex: 3810 entries, 0 to 3809\n",
      "Data columns (total 8 columns):\n",
      " #   Column             Non-Null Count  Dtype  \n",
      "---  ------             --------------  -----  \n",
      " 0   Area               3810 non-null   int64  \n",
      " 1   Perimeter          3810 non-null   float64\n",
      " 2   Major_Axis_Length  3810 non-null   float64\n",
      " 3   Minor_Axis_Length  3810 non-null   float64\n",
      " 4   Eccentricity       3810 non-null   float64\n",
      " 5   Convex_Area        3810 non-null   int64  \n",
      " 6   Extent             3810 non-null   float64\n",
      " 7   Class              3810 non-null   object \n",
      "dtypes: float64(5), int64(2), object(1)\n",
      "memory usage: 238.2+ KB\n"
     ]
    }
   ],
   "source": [
    "rice_df.info()"
   ]
  },
  {
   "cell_type": "code",
   "execution_count": 4,
   "id": "7059af94",
   "metadata": {},
   "outputs": [
    {
     "data": {
      "text/html": [
       "<div>\n",
       "<style scoped>\n",
       "    .dataframe tbody tr th:only-of-type {\n",
       "        vertical-align: middle;\n",
       "    }\n",
       "\n",
       "    .dataframe tbody tr th {\n",
       "        vertical-align: top;\n",
       "    }\n",
       "\n",
       "    .dataframe thead th {\n",
       "        text-align: right;\n",
       "    }\n",
       "</style>\n",
       "<table border=\"1\" class=\"dataframe\">\n",
       "  <thead>\n",
       "    <tr style=\"text-align: right;\">\n",
       "      <th></th>\n",
       "      <th>Area</th>\n",
       "      <th>Perimeter</th>\n",
       "      <th>Major_Axis_Length</th>\n",
       "      <th>Minor_Axis_Length</th>\n",
       "      <th>Eccentricity</th>\n",
       "      <th>Convex_Area</th>\n",
       "      <th>Extent</th>\n",
       "      <th>Class</th>\n",
       "    </tr>\n",
       "  </thead>\n",
       "  <tbody>\n",
       "    <tr>\n",
       "      <th>0</th>\n",
       "      <td>15231</td>\n",
       "      <td>525.578979</td>\n",
       "      <td>229.749878</td>\n",
       "      <td>85.093788</td>\n",
       "      <td>0.928882</td>\n",
       "      <td>15617</td>\n",
       "      <td>0.572896</td>\n",
       "      <td>Cammeo</td>\n",
       "    </tr>\n",
       "    <tr>\n",
       "      <th>1</th>\n",
       "      <td>14656</td>\n",
       "      <td>494.311005</td>\n",
       "      <td>206.020065</td>\n",
       "      <td>91.730972</td>\n",
       "      <td>0.895405</td>\n",
       "      <td>15072</td>\n",
       "      <td>0.615436</td>\n",
       "      <td>Cammeo</td>\n",
       "    </tr>\n",
       "    <tr>\n",
       "      <th>2</th>\n",
       "      <td>14634</td>\n",
       "      <td>501.122009</td>\n",
       "      <td>214.106781</td>\n",
       "      <td>87.768288</td>\n",
       "      <td>0.912118</td>\n",
       "      <td>14954</td>\n",
       "      <td>0.693259</td>\n",
       "      <td>Cammeo</td>\n",
       "    </tr>\n",
       "    <tr>\n",
       "      <th>3</th>\n",
       "      <td>13176</td>\n",
       "      <td>458.342987</td>\n",
       "      <td>193.337387</td>\n",
       "      <td>87.448395</td>\n",
       "      <td>0.891861</td>\n",
       "      <td>13368</td>\n",
       "      <td>0.640669</td>\n",
       "      <td>Cammeo</td>\n",
       "    </tr>\n",
       "    <tr>\n",
       "      <th>4</th>\n",
       "      <td>14688</td>\n",
       "      <td>507.166992</td>\n",
       "      <td>211.743378</td>\n",
       "      <td>89.312454</td>\n",
       "      <td>0.906691</td>\n",
       "      <td>15262</td>\n",
       "      <td>0.646024</td>\n",
       "      <td>Cammeo</td>\n",
       "    </tr>\n",
       "  </tbody>\n",
       "</table>\n",
       "</div>"
      ],
      "text/plain": [
       "    Area   Perimeter  Major_Axis_Length  Minor_Axis_Length  Eccentricity  \\\n",
       "0  15231  525.578979         229.749878          85.093788      0.928882   \n",
       "1  14656  494.311005         206.020065          91.730972      0.895405   \n",
       "2  14634  501.122009         214.106781          87.768288      0.912118   \n",
       "3  13176  458.342987         193.337387          87.448395      0.891861   \n",
       "4  14688  507.166992         211.743378          89.312454      0.906691   \n",
       "\n",
       "   Convex_Area    Extent   Class  \n",
       "0        15617  0.572896  Cammeo  \n",
       "1        15072  0.615436  Cammeo  \n",
       "2        14954  0.693259  Cammeo  \n",
       "3        13368  0.640669  Cammeo  \n",
       "4        15262  0.646024  Cammeo  "
      ]
     },
     "execution_count": 4,
     "metadata": {},
     "output_type": "execute_result"
    }
   ],
   "source": [
    "rice_df.head()"
   ]
  },
  {
   "cell_type": "markdown",
   "id": "b1821d64",
   "metadata": {},
   "source": [
    "## (2) Unter verschiedenen Algorithmen und Hyperparameter das \"beste\" Modell zu finden"
   ]
  },
  {
   "cell_type": "code",
   "execution_count": 5,
   "id": "d8501643",
   "metadata": {},
   "outputs": [],
   "source": [
    "# orignial Daten preprocessing\n",
    "# Training Set and Testing Set spliting\n",
    "\n",
    "X, y = rice_df.drop(columns = 'Class'), rice_df['Class']\n",
    "X_train, X_test, y_train, y_test = train_test_split(X, y, test_size = 0.2)"
   ]
  },
  {
   "cell_type": "markdown",
   "id": "6edb4295",
   "metadata": {},
   "source": [
    "### (a) Modell 1: Logistic Regression"
   ]
  },
  {
   "cell_type": "code",
   "execution_count": 6,
   "id": "792f167d",
   "metadata": {},
   "outputs": [
    {
     "data": {
      "text/plain": [
       "0.9238845144356955"
      ]
     },
     "execution_count": 6,
     "metadata": {},
     "output_type": "execute_result"
    }
   ],
   "source": [
    "from sklearn.linear_model import LogisticRegression\n",
    "\n",
    "LogistReg_clf = LogisticRegression().fit(X_train, y_train)\n",
    "LogistReg_clf.score(X_test, y_test)"
   ]
  },
  {
   "cell_type": "markdown",
   "id": "3e5efb17",
   "metadata": {},
   "source": [
    "Logistic Regression mit dem Anpassen der Hyperparameter eines Schätzers"
   ]
  },
  {
   "cell_type": "code",
   "execution_count": 7,
   "id": "296e2e8b",
   "metadata": {},
   "outputs": [
    {
     "name": "stdout",
     "output_type": "stream",
     "text": [
      "Best Estimator is: LogisticRegression(C=1, random_state=1)\n",
      "Best score on train dataset is: 0.9304455032436942\n",
      "The score on test dataset is: 0.9238845144356955\n"
     ]
    }
   ],
   "source": [
    "gridsearch_LogistReg = GridSearchCV(estimator = LogisticRegression(), param_grid = {'C': [1, 5], 'random_state': [1, 5]}).fit(X_train, y_train)\n",
    "\n",
    "print(\"Best Estimator is: {}\".format(gridsearch_LogistReg.best_estimator_))\n",
    "print(\"Best score on train dataset is: {}\".format(gridsearch_LogistReg.best_score_))\n",
    "print(\"The score on test dataset is: {}\".format(gridsearch_LogistReg.score(X_test, y_test)))"
   ]
  },
  {
   "cell_type": "markdown",
   "id": "fdc864e6",
   "metadata": {},
   "source": [
    "### (b) Modell 2: Ridge Classifier"
   ]
  },
  {
   "cell_type": "code",
   "execution_count": 8,
   "id": "47737ca1",
   "metadata": {},
   "outputs": [
    {
     "data": {
      "text/plain": [
       "0.9212598425196851"
      ]
     },
     "execution_count": 8,
     "metadata": {},
     "output_type": "execute_result"
    }
   ],
   "source": [
    "from sklearn.linear_model import RidgeClassifier\n",
    "\n",
    "Ridge_clf = RidgeClassifier().fit(X_train, y_train)\n",
    "Ridge_clf.score(X_test, y_test)"
   ]
  },
  {
   "cell_type": "markdown",
   "id": "9bdb669f",
   "metadata": {},
   "source": [
    "Ridge Classifier mit dem Anpassen der Hyperparameter eines Schätzers"
   ]
  },
  {
   "cell_type": "code",
   "execution_count": 9,
   "id": "ba19d01c",
   "metadata": {},
   "outputs": [
    {
     "name": "stdout",
     "output_type": "stream",
     "text": [
      "Best Estimator is: LogisticRegression(C=1, random_state=1)\n",
      "Best score on train dataset is: 0.9304455032436942\n",
      "The score on test dataset is: 0.9238845144356955\n"
     ]
    }
   ],
   "source": [
    "gridsearch_Ridge = GridSearchCV(estimator = RidgeClassifier(), param_grid = {'alpha': [1, 5], 'random_state': [1, 5]}).fit(X_train, y_train)\n",
    "\n",
    "print(\"Best Estimator is: {}\".format(gridsearch_LogistReg.best_estimator_))\n",
    "print(\"Best score on train dataset is: {}\".format(gridsearch_LogistReg.best_score_))\n",
    "print(\"The score on test dataset is: {}\".format(gridsearch_LogistReg.score(X_test, y_test)))"
   ]
  },
  {
   "cell_type": "markdown",
   "id": "7ab82176",
   "metadata": {},
   "source": [
    "### (c) Modell 3: benutzen Gradient Decent zur Verbesserung (rule update)"
   ]
  },
  {
   "cell_type": "code",
   "execution_count": 10,
   "id": "9d38906a",
   "metadata": {},
   "outputs": [
    {
     "data": {
      "text/plain": [
       "0.7952755905511811"
      ]
     },
     "execution_count": 10,
     "metadata": {},
     "output_type": "execute_result"
    }
   ],
   "source": [
    "from sklearn.linear_model import SGDClassifier\n",
    "\n",
    "SGD_clf = SGDClassifier().fit(X_train, y_train)\n",
    "SGD_clf.score(X_test, y_test)"
   ]
  },
  {
   "cell_type": "markdown",
   "id": "5867b793",
   "metadata": {},
   "source": [
    "SGDClassifier mit dem Anpassen der Hyperparameter eines Schätzers"
   ]
  },
  {
   "cell_type": "code",
   "execution_count": 11,
   "id": "1aafda77",
   "metadata": {},
   "outputs": [
    {
     "name": "stdout",
     "output_type": "stream",
     "text": [
      "Best Estimator is: SGDClassifier(alpha=1, early_stopping=True, max_iter=100, random_state=1)\n",
      "Best score on train dataset is: 0.5761140272954857\n",
      "The score on test dataset is: 0.4343832020997375\n"
     ]
    }
   ],
   "source": [
    "gridsearch_SGD = GridSearchCV(estimator = SGDClassifier(), \n",
    "                              param_grid = {'alpha': [1, 10], 'max_iter': [100, 10000], 'early_stopping': [True], 'random_state': [1, 10]}).fit(X_train, y_train)\n",
    "\n",
    "print(\"Best Estimator is: {}\".format(gridsearch_SGD.best_estimator_))\n",
    "print(\"Best score on train dataset is: {}\".format(gridsearch_SGD.best_score_))\n",
    "print(\"The score on test dataset is: {}\".format(gridsearch_SGD.score(X_test, y_test)))"
   ]
  },
  {
   "cell_type": "markdown",
   "id": "2dbfa4c4",
   "metadata": {},
   "source": [
    "### (d) Modell 4: Support Vector Machines, SVM"
   ]
  },
  {
   "cell_type": "markdown",
   "id": "5b2e03a9",
   "metadata": {},
   "source": [
    "hard SVM"
   ]
  },
  {
   "cell_type": "code",
   "execution_count": 12,
   "id": "49d09286",
   "metadata": {},
   "outputs": [
    {
     "data": {
      "text/plain": [
       "0.8727034120734908"
      ]
     },
     "execution_count": 12,
     "metadata": {},
     "output_type": "execute_result"
    }
   ],
   "source": [
    "from sklearn import svm\n",
    "\n",
    "svm_clf = svm.SVC().fit(X_train, y_train)\n",
    "svm_clf.score(X_test, y_test)"
   ]
  },
  {
   "cell_type": "markdown",
   "id": "08eb7e68",
   "metadata": {},
   "source": [
    "soft SVM"
   ]
  },
  {
   "cell_type": "code",
   "execution_count": 13,
   "id": "a0c3fe19",
   "metadata": {},
   "outputs": [
    {
     "data": {
      "text/plain": [
       "0.8727034120734908"
      ]
     },
     "execution_count": 13,
     "metadata": {},
     "output_type": "execute_result"
    }
   ],
   "source": [
    "svm_rbf_clf = svm.SVC(kernel = 'rbf', probability = True).fit(X_train, y_train)\n",
    "svm_rbf_clf.score(X_test, y_test)"
   ]
  },
  {
   "cell_type": "markdown",
   "id": "319c1231",
   "metadata": {},
   "source": [
    "SVM mit dem Anpassen der Hyperparameter eines Schätzers "
   ]
  },
  {
   "cell_type": "code",
   "execution_count": 16,
   "id": "2c233a4f",
   "metadata": {},
   "outputs": [
    {
     "name": "stdout",
     "output_type": "stream",
     "text": [
      "Best Estimator is: SVC(C=10, degree=1, kernel='linear')\n",
      "Best score on train dataset is: 0.9337247301407843\n",
      "The score on test dataset is: 0.9238845144356955\n"
     ]
    }
   ],
   "source": [
    "gridsearch_svm = GridSearchCV(\n",
    "    estimator = svm.SVC(), param_grid = {'C': [1, 10], 'kernel': ('linear', 'rbf', 'poly', 'sigmoid'), 'degree': [1, 5]}).fit(X_train, y_train)\n",
    "\n",
    "print(\"Best Estimator is: {}\".format(gridsearch_svm.best_estimator_))\n",
    "print(\"Best score on train dataset is: {}\".format(gridsearch_svm.best_score_))\n",
    "print(\"The score on test dataset is: {}\".format(gridsearch_svm.score(X_test, y_test)))"
   ]
  },
  {
   "cell_type": "code",
   "execution_count": 17,
   "id": "b3dfb2bd",
   "metadata": {},
   "outputs": [
    {
     "data": {
      "text/plain": [
       "{'mean_fit_time': array([2.18917594, 0.10069809, 0.07384539, 0.20984521, 2.15874252,\n",
       "        0.09459386, 0.07564759, 0.20188999, 1.6341094 , 0.09754844,\n",
       "        0.06766505, 0.20200129, 1.62554545, 0.09545126, 0.10471778,\n",
       "        0.2040257 ]),\n",
       " 'std_fit_time': array([0.69596953, 0.00472686, 0.00297018, 0.00609143, 0.62224313,\n",
       "        0.00403076, 0.00386834, 0.00362994, 0.36777584, 0.00586412,\n",
       "        0.00146146, 0.00582381, 0.36104648, 0.00495184, 0.00832756,\n",
       "        0.00166324]),\n",
       " 'mean_score_time': array([0.00704141, 0.06537457, 0.01672468, 0.04785867, 0.00644121,\n",
       "        0.05799975, 0.01450696, 0.04777069, 0.00694618, 0.05556555,\n",
       "        0.01419878, 0.04642615, 0.00721717, 0.05625334, 0.01389647,\n",
       "        0.04586697]),\n",
       " 'std_score_time': array([0.0007625 , 0.00743418, 0.00074182, 0.00325211, 0.00038618,\n",
       "        0.00186272, 0.00092733, 0.00221312, 0.00045858, 0.00205779,\n",
       "        0.00067141, 0.00257429, 0.00033915, 0.00219867, 0.00110901,\n",
       "        0.00250296]),\n",
       " 'param_C': masked_array(data=[1, 1, 1, 1, 1, 1, 1, 1, 10, 10, 10, 10, 10, 10, 10, 10],\n",
       "              mask=[False, False, False, False, False, False, False, False,\n",
       "                    False, False, False, False, False, False, False, False],\n",
       "        fill_value='?',\n",
       "             dtype=object),\n",
       " 'param_degree': masked_array(data=[1, 1, 1, 1, 5, 5, 5, 5, 1, 1, 1, 1, 5, 5, 5, 5],\n",
       "              mask=[False, False, False, False, False, False, False, False,\n",
       "                    False, False, False, False, False, False, False, False],\n",
       "        fill_value='?',\n",
       "             dtype=object),\n",
       " 'param_kernel': masked_array(data=['linear', 'rbf', 'poly', 'sigmoid', 'linear', 'rbf',\n",
       "                    'poly', 'sigmoid', 'linear', 'rbf', 'poly', 'sigmoid',\n",
       "                    'linear', 'rbf', 'poly', 'sigmoid'],\n",
       "              mask=[False, False, False, False, False, False, False, False,\n",
       "                    False, False, False, False, False, False, False, False],\n",
       "        fill_value='?',\n",
       "             dtype=object),\n",
       " 'params': [{'C': 1, 'degree': 1, 'kernel': 'linear'},\n",
       "  {'C': 1, 'degree': 1, 'kernel': 'rbf'},\n",
       "  {'C': 1, 'degree': 1, 'kernel': 'poly'},\n",
       "  {'C': 1, 'degree': 1, 'kernel': 'sigmoid'},\n",
       "  {'C': 1, 'degree': 5, 'kernel': 'linear'},\n",
       "  {'C': 1, 'degree': 5, 'kernel': 'rbf'},\n",
       "  {'C': 1, 'degree': 5, 'kernel': 'poly'},\n",
       "  {'C': 1, 'degree': 5, 'kernel': 'sigmoid'},\n",
       "  {'C': 10, 'degree': 1, 'kernel': 'linear'},\n",
       "  {'C': 10, 'degree': 1, 'kernel': 'rbf'},\n",
       "  {'C': 10, 'degree': 1, 'kernel': 'poly'},\n",
       "  {'C': 10, 'degree': 1, 'kernel': 'sigmoid'},\n",
       "  {'C': 10, 'degree': 5, 'kernel': 'linear'},\n",
       "  {'C': 10, 'degree': 5, 'kernel': 'rbf'},\n",
       "  {'C': 10, 'degree': 5, 'kernel': 'poly'},\n",
       "  {'C': 10, 'degree': 5, 'kernel': 'sigmoid'}],\n",
       " 'split0_test_score': array([0.93278689, 0.88688525, 0.88688525, 0.22459016, 0.93278689,\n",
       "        0.88688525, 0.88196721, 0.22459016, 0.93114754, 0.8852459 ,\n",
       "        0.88688525, 0.2147541 , 0.93114754, 0.8852459 , 0.88688525,\n",
       "        0.2147541 ]),\n",
       " 'split1_test_score': array([0.93278689, 0.88852459, 0.88852459, 0.22786885, 0.93278689,\n",
       "        0.88852459, 0.89344262, 0.22786885, 0.93770492, 0.89344262,\n",
       "        0.89016393, 0.22295082, 0.93770492, 0.89344262, 0.89836066,\n",
       "        0.22295082]),\n",
       " 'split2_test_score': array([0.93442623, 0.88852459, 0.88852459, 0.18360656, 0.93442623,\n",
       "        0.88852459, 0.88688525, 0.18360656, 0.93934426, 0.88688525,\n",
       "        0.88852459, 0.16885246, 0.93934426, 0.88688525, 0.89180328,\n",
       "        0.16885246]),\n",
       " 'split3_test_score': array([0.93596059, 0.8817734 , 0.8817734 , 0.17898194, 0.93596059,\n",
       "        0.8817734 , 0.88505747, 0.17898194, 0.93267652, 0.88505747,\n",
       "        0.8817734 , 0.1773399 , 0.93267652, 0.88505747, 0.88341544,\n",
       "        0.1773399 ]),\n",
       " 'split4_test_score': array([0.92446634, 0.86863711, 0.86863711, 0.24302135, 0.92446634,\n",
       "        0.86863711, 0.87192118, 0.24302135, 0.92775041, 0.87356322,\n",
       "        0.86699507, 0.23152709, 0.92775041, 0.87356322, 0.88341544,\n",
       "        0.23152709]),\n",
       " 'mean_test_score': array([0.93208539, 0.88286899, 0.88286899, 0.21161377, 0.93208539,\n",
       "        0.88286899, 0.88385475, 0.21161377, 0.93372473, 0.88483889,\n",
       "        0.88286845, 0.20308487, 0.93372473, 0.88483889, 0.88877601,\n",
       "        0.20308487]),\n",
       " 'std_test_score': array([0.00398825, 0.00753457, 0.00753457, 0.02556674, 0.00398825,\n",
       "        0.00753457, 0.00705026, 0.02556674, 0.00426273, 0.00641196,\n",
       "        0.00842038, 0.02519702, 0.00426273, 0.00641196, 0.00569344,\n",
       "        0.02519702]),\n",
       " 'rank_test_score': array([ 3,  9,  9, 13,  3,  9,  8, 13,  1,  6, 12, 15,  1,  6,  5, 15],\n",
       "       dtype=int32)}"
      ]
     },
     "execution_count": 17,
     "metadata": {},
     "output_type": "execute_result"
    }
   ],
   "source": [
    "gridsearch_svm.cv_results_"
   ]
  },
  {
   "cell_type": "markdown",
   "id": "9fb633ee",
   "metadata": {},
   "source": [
    "### (e) Modell 5: k-Nearest Neighbor"
   ]
  },
  {
   "cell_type": "code",
   "execution_count": 18,
   "id": "d5161183",
   "metadata": {},
   "outputs": [
    {
     "data": {
      "text/plain": [
       "0.8753280839895013"
      ]
     },
     "execution_count": 18,
     "metadata": {},
     "output_type": "execute_result"
    }
   ],
   "source": [
    "from sklearn.neighbors import KNeighborsClassifier\n",
    "\n",
    "neigh_clf = KNeighborsClassifier().fit(X_train, y_train)\n",
    "neigh_clf.score(X_test, y_test)"
   ]
  },
  {
   "cell_type": "markdown",
   "id": "d79b271d",
   "metadata": {},
   "source": [
    "KNeighborsClassifier  mit dem Anpassen der Hyperparameter eines Schätzers"
   ]
  },
  {
   "cell_type": "code",
   "execution_count": 19,
   "id": "4c269b6c",
   "metadata": {},
   "outputs": [
    {
     "name": "stdout",
     "output_type": "stream",
     "text": [
      "Best Estimator is: KNeighborsClassifier(leaf_size=1, n_neighbors=10)\n",
      "Best score on train dataset is: 0.8792613529300924\n",
      "The score on test dataset is: 0.8766404199475065\n"
     ]
    }
   ],
   "source": [
    "gridsearch_neigh = GridSearchCV(estimator = KNeighborsClassifier(), \n",
    "                                param_grid = {'n_neighbors': [1, 10], 'algorithm': ('auto', 'ball_tree', 'kd_tree', 'brute'), 'leaf_size': [1, 50]}).fit(X_train, y_train)\n",
    "\n",
    "print(\"Best Estimator is: {}\".format(gridsearch_neigh.best_estimator_))\n",
    "print(\"Best score on train dataset is: {}\".format(gridsearch_neigh.best_score_))\n",
    "print(\"The score on test dataset is: {}\".format(gridsearch_neigh.score(X_test, y_test)))"
   ]
  },
  {
   "cell_type": "markdown",
   "id": "15767912",
   "metadata": {},
   "source": [
    "### (f) Modell 6: Decision Tree"
   ]
  },
  {
   "cell_type": "code",
   "execution_count": 20,
   "id": "69f88e8e",
   "metadata": {},
   "outputs": [
    {
     "data": {
      "text/plain": [
       "0.889763779527559"
      ]
     },
     "execution_count": 20,
     "metadata": {},
     "output_type": "execute_result"
    }
   ],
   "source": [
    "from sklearn import tree\n",
    "\n",
    "DT_clf = tree.DecisionTreeClassifier().fit(X_train, y_train)\n",
    "DT_clf.score(X_test, y_test)"
   ]
  },
  {
   "cell_type": "markdown",
   "id": "39800570",
   "metadata": {},
   "source": [
    "Decision Tree mit dem Anpassen der Hyperparameter eines Schätzers"
   ]
  },
  {
   "cell_type": "code",
   "execution_count": 21,
   "id": "faaf3368",
   "metadata": {},
   "outputs": [
    {
     "name": "stdout",
     "output_type": "stream",
     "text": [
      "Best Estimator is: DecisionTreeClassifier(max_depth=50, min_samples_leaf=10, splitter='random')\n",
      "Best score on train dataset is: 0.9258510323292686\n",
      "The score on test dataset is: 0.9251968503937008\n"
     ]
    }
   ],
   "source": [
    "gridsearch_DT = GridSearchCV(\n",
    "    estimator = tree.DecisionTreeClassifier(), \n",
    "    param_grid = {'criterion': ('gini', 'entropy'), 'splitter': ('best', 'random'), 'max_depth': [1, 50], 'min_samples_leaf': [1, 10]}).fit(X_train, y_train)\n",
    "\n",
    "print(\"Best Estimator is: {}\".format(gridsearch_DT.best_estimator_))\n",
    "print(\"Best score on train dataset is: {}\".format(gridsearch_DT.best_score_))\n",
    "print(\"The score on test dataset is: {}\".format(gridsearch_DT.score(X_test, y_test)))"
   ]
  },
  {
   "cell_type": "markdown",
   "id": "d65313b7",
   "metadata": {},
   "source": [
    "### (g) Bayesian Classification"
   ]
  },
  {
   "cell_type": "markdown",
   "id": "6a28bebb",
   "metadata": {},
   "source": [
    "#### Modell 7 Naive Bayes classifier for multivariate Bernoulli models"
   ]
  },
  {
   "cell_type": "code",
   "execution_count": 22,
   "id": "d4bfbcb0",
   "metadata": {},
   "outputs": [
    {
     "data": {
      "text/plain": [
       "0.5656167979002624"
      ]
     },
     "execution_count": 22,
     "metadata": {},
     "output_type": "execute_result"
    }
   ],
   "source": [
    "from sklearn.naive_bayes import BernoulliNB\n",
    "\n",
    "Bernoulli_clf = BernoulliNB().fit(X_train, y_train)\n",
    "Bernoulli_clf.score(X_test, y_test)"
   ]
  },
  {
   "cell_type": "code",
   "execution_count": 23,
   "id": "4261ac54",
   "metadata": {},
   "outputs": [
    {
     "name": "stdout",
     "output_type": "stream",
     "text": [
      "Best Estimator is: BernoulliNB(alpha=1, fit_prior=False)\n",
      "Best score on train dataset is: 0.5738189453282726\n",
      "The score on test dataset is: 0.5656167979002624\n"
     ]
    }
   ],
   "source": [
    "gridsearch_Bernoulli = GridSearchCV(estimator = BernoulliNB(), param_grid = {'alpha': [1, 2], 'fit_prior': [False]}).fit(X_train, y_train)\n",
    "\n",
    "print(\"Best Estimator is: {}\".format(gridsearch_Bernoulli.best_estimator_))\n",
    "print(\"Best score on train dataset is: {}\".format(gridsearch_Bernoulli.best_score_))\n",
    "print(\"The score on test dataset is: {}\".format(gridsearch_Bernoulli.score(X_test, y_test)))"
   ]
  },
  {
   "cell_type": "markdown",
   "id": "b29e2c4e",
   "metadata": {},
   "source": [
    "#### Modell 8 Naive Bayes classifier for categorical features"
   ]
  },
  {
   "cell_type": "code",
   "execution_count": 24,
   "id": "2008a198",
   "metadata": {},
   "outputs": [
    {
     "data": {
      "text/plain": [
       "0.5656167979002624"
      ]
     },
     "execution_count": 24,
     "metadata": {},
     "output_type": "execute_result"
    }
   ],
   "source": [
    "from sklearn.preprocessing import OrdinalEncoder\n",
    "from sklearn.naive_bayes import CategoricalNB\n",
    "\n",
    "enc = OrdinalEncoder()\n",
    "\n",
    "x_train = enc.fit(X_train).fit_transform(X_train)\n",
    "x_test = enc.fit(X_test).fit_transform(X_test)\n",
    "\n",
    "Categ_clf = CategoricalNB().fit(x_train, y_train)\n",
    "Categ_clf.score(x_test, y_test)"
   ]
  },
  {
   "cell_type": "markdown",
   "id": "5f3c08fe",
   "metadata": {},
   "source": [
    "#### Modell 9 Gaussian Naive Bayes algorithm for classification"
   ]
  },
  {
   "cell_type": "code",
   "execution_count": 25,
   "id": "aeacd5f5",
   "metadata": {},
   "outputs": [
    {
     "data": {
      "text/plain": [
       "0.905511811023622"
      ]
     },
     "execution_count": 25,
     "metadata": {},
     "output_type": "execute_result"
    }
   ],
   "source": [
    "from sklearn.naive_bayes import GaussianNB\n",
    "\n",
    "Gaussian_clf = GaussianNB().fit(X_train, y_train)\n",
    "Gaussian_clf.score(X_test, y_test)"
   ]
  },
  {
   "cell_type": "code",
   "execution_count": 26,
   "id": "ebd89ad5",
   "metadata": {},
   "outputs": [
    {
     "name": "stdout",
     "output_type": "stream",
     "text": [
      "Best Estimator is: GaussianNB(var_smoothing=0)\n",
      "Best score on train dataset is: 0.9173210584403348\n",
      "The score on test dataset is: 0.9212598425196851\n"
     ]
    }
   ],
   "source": [
    "gridsearch_Gaussian = GridSearchCV(estimator = GaussianNB(), param_grid = {'var_smoothing': [0, 1]}).fit(X_train, y_train)\n",
    "\n",
    "print(\"Best Estimator is: {}\".format(gridsearch_Gaussian.best_estimator_))\n",
    "print(\"Best score on train dataset is: {}\".format(gridsearch_Gaussian.best_score_))\n",
    "print(\"The score on test dataset is: {}\".format(gridsearch_Gaussian.score(X_test, y_test)))"
   ]
  },
  {
   "cell_type": "markdown",
   "id": "8e31a22e",
   "metadata": {},
   "source": [
    "#### Modell 10 Naive Bayes classifier for multinomial models"
   ]
  },
  {
   "cell_type": "code",
   "execution_count": 27,
   "id": "62d9b556",
   "metadata": {},
   "outputs": [
    {
     "data": {
      "text/plain": [
       "0.8556430446194225"
      ]
     },
     "execution_count": 27,
     "metadata": {},
     "output_type": "execute_result"
    }
   ],
   "source": [
    "from sklearn.naive_bayes import MultinomialNB\n",
    "\n",
    "Multi_Gaussian_clf = MultinomialNB().fit(X_train, y_train)\n",
    "Multi_Gaussian_clf.score(X_test, y_test)"
   ]
  },
  {
   "cell_type": "code",
   "execution_count": 28,
   "id": "a67a3ce8",
   "metadata": {},
   "outputs": [
    {
     "name": "stdout",
     "output_type": "stream",
     "text": [
      "Best Estimator is: MultinomialNB(alpha=0.001)\n",
      "Best score on train dataset is: 0.85400037686075\n",
      "The score on test dataset is: 0.8556430446194225\n"
     ]
    }
   ],
   "source": [
    "gridsearch_Multi_Gaussian = GridSearchCV(estimator = MultinomialNB(), param_grid = {'alpha': [0.001, 2]}).fit(X_train, y_train)\n",
    "\n",
    "print(\"Best Estimator is: {}\".format(gridsearch_Multi_Gaussian.best_estimator_))\n",
    "print(\"Best score on train dataset is: {}\".format(gridsearch_Multi_Gaussian.best_score_))\n",
    "print(\"The score on test dataset is: {}\".format(gridsearch_Multi_Gaussian.score(X_test, y_test)))"
   ]
  },
  {
   "cell_type": "markdown",
   "id": "03ca1c66",
   "metadata": {},
   "source": [
    "### (h) Modell 11: Neural Networks"
   ]
  },
  {
   "cell_type": "code",
   "execution_count": 29,
   "id": "b6efb79b",
   "metadata": {},
   "outputs": [
    {
     "data": {
      "text/plain": [
       "0.7217847769028871"
      ]
     },
     "execution_count": 29,
     "metadata": {},
     "output_type": "execute_result"
    }
   ],
   "source": [
    "from sklearn.neural_network import MLPClassifier\n",
    "\n",
    "MLP_clf = MLPClassifier().fit(X_train, y_train)\n",
    "MLP_clf.score(X_test, y_test)"
   ]
  },
  {
   "cell_type": "code",
   "execution_count": null,
   "id": "5ebd1e80",
   "metadata": {},
   "outputs": [],
   "source": [
    "import warnings\n",
    "warnings.filterwarnings(\"ignore\")\n",
    "\n",
    "gridsearch_MLP = GridSearchCV(\n",
    "    estimator = MLPClassifier(), \n",
    "    param_grid = {'hidden_layer_sizes': [1, 10], 'random_state': [1, 5], 'max_iter': [500, 1000], \n",
    "                  'activation': ('identity', 'logistic', 'relu', 'tanh'), \n",
    "                  'alpha': [0.0001, 1], 'learning_rate': ('constant', 'invscaling', 'adaptive')}).fit(X_train, y_train)\n",
    "\n",
    "print(\"Best Estimator is: {}\".format(gridsearch_MLP.best_estimator_))\n",
    "print(\"Best Parameter is: {}\".format(gridsearch_MLP.best_params_))\n",
    "print(\"Best score on train dataset is: {}\".format(gridsearch_MLP.best_score_))\n",
    "print(\"The score on test dataset is: {}\".format(gridsearch_MLP.score(X_test, y_test)))"
   ]
  },
  {
   "cell_type": "markdown",
   "id": "5fa62b78",
   "metadata": {},
   "source": [
    "### (i) Ensemble methods"
   ]
  },
  {
   "cell_type": "markdown",
   "id": "22532776",
   "metadata": {},
   "source": [
    "#### Modell 12: Bagging meta-estimator"
   ]
  },
  {
   "cell_type": "code",
   "execution_count": 30,
   "id": "f9bea565",
   "metadata": {},
   "outputs": [
    {
     "data": {
      "text/plain": [
       "0.8700787401574803"
      ]
     },
     "execution_count": 30,
     "metadata": {},
     "output_type": "execute_result"
    }
   ],
   "source": [
    "from sklearn.ensemble import BaggingClassifier\n",
    "\n",
    "Bag_clf = BaggingClassifier(base_estimator = svm.SVC(), n_estimators=10, random_state = 0).fit(X_train, y_train)\n",
    "Bag_clf.score(X_test, y_test)"
   ]
  },
  {
   "cell_type": "markdown",
   "id": "b4927487",
   "metadata": {},
   "source": [
    " #### Modell 13: Forests of randomized trees"
   ]
  },
  {
   "cell_type": "code",
   "execution_count": 31,
   "id": "b0ebb7ec",
   "metadata": {},
   "outputs": [
    {
     "data": {
      "text/plain": [
       "0.9186351706036745"
      ]
     },
     "execution_count": 31,
     "metadata": {},
     "output_type": "execute_result"
    }
   ],
   "source": [
    "from sklearn.ensemble import RandomForestClassifier\n",
    "\n",
    "randForest_clf= RandomForestClassifier().fit(X_train, y_train)\n",
    "randForest_clf.score(X_test, y_test)"
   ]
  },
  {
   "cell_type": "code",
   "execution_count": 32,
   "id": "3717f218",
   "metadata": {},
   "outputs": [
    {
     "name": "stdout",
     "output_type": "stream",
     "text": [
      "Best Estimator is: RandomForestClassifier(max_depth=1, n_estimators=3, random_state=10)\n",
      "Best score on train dataset is: 0.9238845144356955\n",
      "The score on test dataset is: 0.9238845144356955\n"
     ]
    }
   ],
   "source": [
    "gridsearch_randForest = GridSearchCV(estimator = RandomForestClassifier(), \n",
    "                                     param_grid = {'max_depth': [1, 10], 'n_estimators': [3, 200], 'random_state': [0, 10]}, cv = 6).fit(X_train, y_train)\n",
    "\n",
    "print(\"Best Estimator is: {}\".format(gridsearch_randForest.best_estimator_))\n",
    "print(\"Best score on train dataset is: {}\".format(gridsearch_randForest.best_score_))\n",
    "print(\"The score on test dataset is: {}\".format(gridsearch_randForest.score(X_test, y_test)))"
   ]
  },
  {
   "cell_type": "markdown",
   "id": "34971cda",
   "metadata": {},
   "source": [
    "#### Modell 14: Boosting - AdaBoost"
   ]
  },
  {
   "cell_type": "code",
   "execution_count": 33,
   "id": "c0ac36d8",
   "metadata": {},
   "outputs": [
    {
     "name": "stdout",
     "output_type": "stream",
     "text": [
      "Best Estimator is: AdaBoostClassifier(n_estimators=3, random_state=0)\n",
      "Best score on train dataset is: 0.9242116880669735\n",
      "The score on test dataset is: 0.9225721784776902\n"
     ]
    }
   ],
   "source": [
    "from sklearn.ensemble import AdaBoostClassifier\n",
    "\n",
    "AdaBoost_clf = AdaBoostClassifier()\n",
    "\n",
    "gridsearch_AdaBoost = GridSearchCV(estimator = AdaBoostClassifier(), \n",
    "                                     param_grid = {'n_estimators': [3, 200], 'random_state': [0, 10]}).fit(X_train, y_train)\n",
    "\n",
    "print(\"Best Estimator is: {}\".format(gridsearch_AdaBoost.best_estimator_))\n",
    "print(\"Best score on train dataset is: {}\".format(gridsearch_AdaBoost.best_score_))\n",
    "print(\"The score on test dataset is: {}\".format(gridsearch_AdaBoost.score(X_test, y_test)))"
   ]
  },
  {
   "cell_type": "code",
   "execution_count": 34,
   "id": "c58888f2",
   "metadata": {},
   "outputs": [
    {
     "name": "stdout",
     "output_type": "stream",
     "text": [
      "Best Estimator is: AdaBoostClassifier(learning_rate=0.1, n_estimators=200, random_state=0)\n",
      "Best score on train dataset is: 0.9258515707017686\n",
      "The score on test dataset is: 0.9199475065616798\n"
     ]
    }
   ],
   "source": [
    "from sklearn.ensemble import GradientBoostingClassifier\n",
    "\n",
    "GraBoost_clf = GradientBoostingClassifier()\n",
    "\n",
    "gridsearch_GraBoost = GridSearchCV(\n",
    "    estimator = AdaBoostClassifier(), \n",
    "    param_grid = {'n_estimators': [3, 200], 'learning_rate': [0.1, 1.0], 'random_state': [0, 10]}).fit(X_train, y_train)\n",
    "\n",
    "print(\"Best Estimator is: {}\".format(gridsearch_GraBoost.best_estimator_))\n",
    "print(\"Best score on train dataset is: {}\".format(gridsearch_GraBoost.best_score_))\n",
    "print(\"The score on test dataset is: {}\".format(gridsearch_GraBoost.score(X_test, y_test)))"
   ]
  },
  {
   "cell_type": "code",
   "execution_count": 35,
   "id": "fb6464bc",
   "metadata": {},
   "outputs": [
    {
     "name": "stdout",
     "output_type": "stream",
     "text": [
      "Best Estimator is: HistGradientBoostingClassifier(learning_rate=1.0, max_bins=100, max_iter=3,\n",
      "                               max_leaf_nodes=50)\n",
      "Best score on train dataset is: 0.9176489272927938\n",
      "The score on test dataset is: 0.905511811023622\n"
     ]
    }
   ],
   "source": [
    "from sklearn.ensemble import HistGradientBoostingClassifier\n",
    "\n",
    "HistGraBoost_clf = HistGradientBoostingClassifier()\n",
    "\n",
    "gridsearch_HistGraBoost = GridSearchCV(\n",
    "    estimator = HistGradientBoostingClassifier(), \n",
    "    param_grid = {'max_iter': [3, 200], 'learning_rate': [0.1, 1.0], 'max_bins': [100, 255], 'max_leaf_nodes': [20, 50]}).fit(X_train, y_train)\n",
    "\n",
    "print(\"Best Estimator is: {}\".format(gridsearch_HistGraBoost.best_estimator_))\n",
    "print(\"Best score on train dataset is: {}\".format(gridsearch_HistGraBoost.best_score_))\n",
    "print(\"The score on test dataset is: {}\".format(gridsearch_HistGraBoost.score(X_test, y_test)))"
   ]
  },
  {
   "cell_type": "markdown",
   "id": "00af25c4",
   "metadata": {},
   "source": [
    "#### Modell 15.1 Voting Classifier - hard"
   ]
  },
  {
   "cell_type": "code",
   "execution_count": 36,
   "id": "98638d59",
   "metadata": {},
   "outputs": [
    {
     "name": "stdout",
     "output_type": "stream",
     "text": [
      "Accuracy: 0.92 (+/- 0.02) [Random Forest]\n",
      "Accuracy: 0.93 (+/- 0.02) [Logistic Regression]\n",
      "Accuracy: 0.93 (+/- 0.02) [Ensemble]\n"
     ]
    }
   ],
   "source": [
    "from sklearn.model_selection import cross_val_score\n",
    "from sklearn.ensemble import VotingClassifier\n",
    "\n",
    "vot_hard_clf = VotingClassifier(estimators = [('rf', randForest_clf), ('lr', LogistReg_clf)], voting = 'hard')\n",
    "\n",
    "for clf, label in zip([randForest_clf, LogistReg_clf, vot_hard_clf], ['Random Forest', 'Logistic Regression', 'Ensemble']):\n",
    "    scores = cross_val_score(clf, X, y, scoring = 'accuracy', cv = 8)\n",
    "    print(\"Accuracy: %0.2f (+/- %0.2f) [%s]\" % (scores.mean(), scores.std(), label))"
   ]
  },
  {
   "cell_type": "markdown",
   "id": "770741ab",
   "metadata": {},
   "source": [
    "#### Modell 15.2: Voting Classifier - soft"
   ]
  },
  {
   "cell_type": "code",
   "execution_count": 37,
   "id": "690fadb9",
   "metadata": {},
   "outputs": [
    {
     "name": "stdout",
     "output_type": "stream",
     "text": [
      "Accuracy: 0.89 (+/- 0.02) [Decision Tree]\n",
      "Accuracy: 0.88 (+/- 0.03) [Soft SVM]\n",
      "Accuracy: 0.90 (+/- 0.03) [Ensemble]\n"
     ]
    }
   ],
   "source": [
    "# Training classifiers\n",
    "\n",
    "vot_soft_clf = VotingClassifier(estimators = [('dt', DT_clf), ('svc', svm_rbf_clf)], voting = 'soft', weights = [3, 5])\n",
    "\n",
    "for clf, label in zip([DT_clf, svm_rbf_clf, vot_soft_clf], ['Decision Tree', 'Soft SVM', 'Ensemble']):\n",
    "    scores = cross_val_score(clf, X, y, scoring = 'accuracy', cv = 5)\n",
    "    print(\"Accuracy: %0.2f (+/- %0.2f) [%s]\" % (scores.mean(), scores.std(), label))"
   ]
  },
  {
   "cell_type": "markdown",
   "id": "880f7f00",
   "metadata": {},
   "source": [
    "## (3) Zielmetrik auswählen"
   ]
  },
  {
   "cell_type": "markdown",
   "id": "fbc0b80c",
   "metadata": {},
   "source": [
    "Area Under the Receiver Operating Characteristic Curve (ROC AUC)\n",
    "Receiver Operating Characteristics (ROC) Curves, which can make a tradeoff between hit rate (TP) and false alarm (FP) over nosiy channels.\n",
    "Area under the Curve (AUC) can be used to measure the quality of an Algorithm."
   ]
  },
  {
   "cell_type": "markdown",
   "id": "3bf54e49",
   "metadata": {},
   "source": [
    "ROC kann einen Kompromiss zwischen Trefferrate (TP) und Fehlalarm (FP) über verrauschte Kanäle eingehen.\n",
    "AUC kann verwendet werden, um die Qualität eines Algorithmus zu messen"
   ]
  },
  {
   "cell_type": "code",
   "execution_count": 38,
   "id": "60e75b46",
   "metadata": {},
   "outputs": [
    {
     "data": {
      "image/png": "[encoded data removed]",
      "text/plain": [
       "<Figure size 432x288 with 1 Axes>"
      ]
     },
     "metadata": {
      "needs_background": "light"
     },
     "output_type": "display_data"
    }
   ],
   "source": [
    "from sklearn import metrics\n",
    "from itertools import cycle\n",
    "from sklearn.metrics import auc\n",
    "from sklearn.metrics import roc_auc_score\n",
    "from sklearn.metrics import RocCurveDisplay\n",
    "from sklearn.model_selection import StratifiedKFold\n",
    "\n",
    "cv = StratifiedKFold(n_splits = 2)\n",
    "classifier = RandomForestClassifier(max_depth = 10, n_estimators = 200, random_state = 0)\n",
    "\n",
    "tprs = []\n",
    "aucs = []\n",
    "mean_fpr = np.linspace(0, 1, 100)\n",
    "\n",
    "fig, ax = plt.subplots()\n",
    "for i, (train, test) in enumerate(cv.split(X, y)):\n",
    "    classifier.fit(X_train, y_train)\n",
    "    viz = RocCurveDisplay.from_estimator(\n",
    "        classifier,\n",
    "        X_test,\n",
    "        y_test,\n",
    "        name = \"ROC fold {}\".format(i),\n",
    "        lw = 1,\n",
    "        ax = ax,\n",
    "    )\n",
    "    interp_tpr = np.interp(mean_fpr, viz.fpr, viz.tpr)\n",
    "    interp_tpr[0] = 0.0\n",
    "    tprs.append(interp_tpr)\n",
    "    aucs.append(viz.roc_auc)\n",
    "\n",
    "ax.plot([0, 1], [0, 1], linestyle = \"--\", lw = 2, color = \"r\", label = \"Chance\", alpha = 0.8)\n",
    "\n",
    "mean_tpr = np.mean(tprs, axis=0)\n",
    "mean_tpr[-1] = 1.0\n",
    "mean_auc = auc(mean_fpr, mean_tpr)\n",
    "std_auc = np.std(aucs)\n",
    "ax.plot(\n",
    "    mean_fpr,\n",
    "    mean_tpr,\n",
    "    color=\"b\",\n",
    "    label=r\"Mean ROC (AUC = %0.2f $\\pm$ %0.2f)\" % (mean_auc, std_auc),\n",
    "    lw=2,\n",
    "    alpha=0.8,\n",
    ")\n",
    "\n",
    "std_tpr = np.std(tprs, axis=0)\n",
    "tprs_upper = np.minimum(mean_tpr + std_tpr, 1)\n",
    "tprs_lower = np.maximum(mean_tpr - std_tpr, 0)\n",
    "ax.fill_between(\n",
    "    mean_fpr,\n",
    "    tprs_lower,\n",
    "    tprs_upper,\n",
    "    color=\"grey\",\n",
    "    alpha=0.2,\n",
    "    label=r\"$\\pm$ 1 std. dev.\",\n",
    ")\n",
    "\n",
    "ax.set(\n",
    "    xlim=[-0.05, 1.05],\n",
    "    ylim=[-0.05, 1.05],\n",
    "    title=\"Receiver operating characteristic for Rice daten with random forest model\",\n",
    ")\n",
    "ax.legend(loc = \"lower right\")\n",
    "plt.show()"
   ]
  },
  {
   "cell_type": "markdown",
   "id": "807a8a51",
   "metadata": {},
   "source": [
    "## (4) Plotten"
   ]
  },
  {
   "cell_type": "markdown",
   "id": "683b3c77",
   "metadata": {},
   "source": [
    "eine Kurve mit der Suchzeit, in Abhängigkeit von der Anzahl an CPU-Kernen."
   ]
  },
  {
   "cell_type": "markdown",
   "id": "744897cd",
   "metadata": {},
   "source": [
    "LogisticRegression Model"
   ]
  },
  {
   "cell_type": "code",
   "execution_count": 39,
   "id": "e670019d",
   "metadata": {},
   "outputs": [
    {
     "data": {
      "image/png": "[encoded data removed]",
      "text/plain": [
       "<Figure size 432x288 with 1 Axes>"
      ]
     },
     "metadata": {
      "needs_background": "light"
     },
     "output_type": "display_data"
    }
   ],
   "source": [
    "clf1 = GridSearchCV(estimator = LogisticRegression(), param_grid = {'n_jobs': [-2, -1, 1, 2, 3, 4, 5]}, cv = 6).fit(X_train, y_train)\n",
    "results1 = pd.DataFrame(clf1.cv_results_)\n",
    "fig, ax = plt.subplots()\n",
    "ax.plot(results1.param_n_jobs, results1.mean_fit_time, linewidth = 2.0)\n",
    "plt.title('Kurve für LogisticRegression Model')\n",
    "plt.xlabel('die Anzahl an CPU-Kernen')\n",
    "plt.ylabel('Suchzeit')\n",
    "ax.set(xlim = (-3, 6), ylim=(0, 0.6))\n",
    "plt.show()"
   ]
  },
  {
   "cell_type": "markdown",
   "id": "6ca5917d",
   "metadata": {},
   "source": [
    "GaussianNB"
   ]
  },
  {
   "cell_type": "code",
   "execution_count": 40,
   "id": "a235a342",
   "metadata": {},
   "outputs": [
    {
     "data": {
      "image/png": "[encoded data removed]",
      "text/plain": [
       "<Figure size 432x288 with 1 Axes>"
      ]
     },
     "metadata": {
      "needs_background": "light"
     },
     "output_type": "display_data"
    }
   ],
   "source": [
    "# GaussianNB kann sehr schnell laufen\n",
    "\n",
    "fig, ax = plt.subplots()\n",
    "plt.title('Kurve für SVM Model')\n",
    "plt.xlabel('die Anzahl an CPU-Kernen')\n",
    "plt.ylabel('Suchzeit')\n",
    "ax.set(xlim = (-3, 6), ylim = (0, 0.025))\n",
    "\n",
    "i = -2\n",
    "for i in range(-2, 6):\n",
    "    if i == 0: \n",
    "        continue\n",
    "    clf2 = GridSearchCV(estimator = GaussianNB(), param_grid = {}, n_jobs = i).fit(X_train, y_train)\n",
    "    results2 = pd.DataFrame(clf2.cv_results_).mean_fit_time\n",
    "    ax.plot(i, results2, 'ro')\n",
    "    i = i + 1"
   ]
  },
  {
   "cell_type": "markdown",
   "id": "f8dd1e55",
   "metadata": {},
   "source": [
    "Vergleich zwischen RandomForestClassifier und GaussianNB Classifier"
   ]
  },
  {
   "cell_type": "code",
   "execution_count": 41,
   "id": "28efaa61",
   "metadata": {},
   "outputs": [],
   "source": [
    "results3 = pd.DataFrame()\n",
    "results4 = pd.DataFrame()\n",
    "\n",
    "i = -2\n",
    "for i in range(-2, 6):\n",
    "    if i == 0: \n",
    "        continue\n",
    "    clf3 = GridSearchCV(estimator = RandomForestClassifier(), param_grid = {}, n_jobs = i).fit(X_train, y_train)\n",
    "    results3 = pd.concat([results3, pd.DataFrame(clf3.cv_results_)], axis = 0, ignore_index = True)\n",
    "    i = i + 1\n",
    "    \n",
    "j = -2\n",
    "for j in range(-2, 6):\n",
    "    if j == 0: \n",
    "        continue\n",
    "    clf4 = GridSearchCV(estimator = svm.SVC(), param_grid = {}, n_jobs = j).fit(X_train, y_train)\n",
    "    results4 = pd.concat([results4, pd.DataFrame(clf4.cv_results_)], axis = 0, ignore_index = True)\n",
    "    j = j + 1"
   ]
  },
  {
   "cell_type": "code",
   "execution_count": 42,
   "id": "9e819dcb",
   "metadata": {},
   "outputs": [
    {
     "data": {
      "text/html": [
       "<div>\n",
       "<style scoped>\n",
       "    .dataframe tbody tr th:only-of-type {\n",
       "        vertical-align: middle;\n",
       "    }\n",
       "\n",
       "    .dataframe tbody tr th {\n",
       "        vertical-align: top;\n",
       "    }\n",
       "\n",
       "    .dataframe thead th {\n",
       "        text-align: right;\n",
       "    }\n",
       "</style>\n",
       "<table border=\"1\" class=\"dataframe\">\n",
       "  <thead>\n",
       "    <tr style=\"text-align: right;\">\n",
       "      <th></th>\n",
       "      <th>n_jobs</th>\n",
       "      <th>RandomForestClassifier</th>\n",
       "      <th>SVM Classifier</th>\n",
       "    </tr>\n",
       "  </thead>\n",
       "  <tbody>\n",
       "    <tr>\n",
       "      <th>0</th>\n",
       "      <td>-2</td>\n",
       "      <td>0.515469</td>\n",
       "      <td>0.141798</td>\n",
       "    </tr>\n",
       "    <tr>\n",
       "      <th>1</th>\n",
       "      <td>-1</td>\n",
       "      <td>0.549829</td>\n",
       "      <td>0.192088</td>\n",
       "    </tr>\n",
       "    <tr>\n",
       "      <th>2</th>\n",
       "      <td>1</td>\n",
       "      <td>0.340308</td>\n",
       "      <td>0.100588</td>\n",
       "    </tr>\n",
       "    <tr>\n",
       "      <th>3</th>\n",
       "      <td>2</td>\n",
       "      <td>0.398436</td>\n",
       "      <td>0.116366</td>\n",
       "    </tr>\n",
       "    <tr>\n",
       "      <th>4</th>\n",
       "      <td>3</td>\n",
       "      <td>0.510591</td>\n",
       "      <td>0.170719</td>\n",
       "    </tr>\n",
       "    <tr>\n",
       "      <th>5</th>\n",
       "      <td>4</td>\n",
       "      <td>0.561393</td>\n",
       "      <td>0.190922</td>\n",
       "    </tr>\n",
       "    <tr>\n",
       "      <th>6</th>\n",
       "      <td>5</td>\n",
       "      <td>0.935282</td>\n",
       "      <td>0.215406</td>\n",
       "    </tr>\n",
       "  </tbody>\n",
       "</table>\n",
       "</div>"
      ],
      "text/plain": [
       "   n_jobs  RandomForestClassifier  SVM Classifier\n",
       "0      -2                0.515469        0.141798\n",
       "1      -1                0.549829        0.192088\n",
       "2       1                0.340308        0.100588\n",
       "3       2                0.398436        0.116366\n",
       "4       3                0.510591        0.170719\n",
       "5       4                0.561393        0.190922\n",
       "6       5                0.935282        0.215406"
      ]
     },
     "execution_count": 42,
     "metadata": {},
     "output_type": "execute_result"
    }
   ],
   "source": [
    "results = pd.DataFrame({\n",
    "    'n_jobs': [-2, -1, 1, 2, 3, 4, 5],\n",
    "    'RandomForestClassifier': results3['mean_fit_time'],\n",
    "    'SVM Classifier': results4['mean_fit_time'],\n",
    "})\n",
    "\n",
    "results"
   ]
  },
  {
   "cell_type": "code",
   "execution_count": 43,
   "id": "befce11d",
   "metadata": {},
   "outputs": [
    {
     "data": {
      "text/plain": [
       "<matplotlib.legend.Legend at 0x121c35fa0>"
      ]
     },
     "execution_count": 43,
     "metadata": {},
     "output_type": "execute_result"
    },
    {
     "data": {
      "image/png": "[encoded data removed]",
      "text/plain": [
       "<Figure size 432x288 with 1 Axes>"
      ]
     },
     "metadata": {
      "needs_background": "light"
     },
     "output_type": "display_data"
    }
   ],
   "source": [
    "fig, ax = plt.subplots()\n",
    "plt.title('Vergleich zwischen RandomForestClassifier und SVM Classifier')\n",
    "plt.xlabel('die Anzahl an CPU-Kernen')\n",
    "plt.ylabel('Suchzeit')\n",
    "ax.set(xlim = (-3, 6), ylim=(0, 1))\n",
    "\n",
    "ax.plot(results['n_jobs'], results['RandomForestClassifier'],  label = 'RandomForestClassifier', c = 'blue')\n",
    "plt.plot(results['n_jobs'], results['RandomForestClassifier'] + results3['std_fit_time'], \"b--\")\n",
    "plt.plot(results['n_jobs'], results['RandomForestClassifier'] - results3['std_fit_time'], \"b--\")\n",
    "\n",
    "plt.fill_between(results['n_jobs'], \n",
    "                 results['RandomForestClassifier'] + results3['std_fit_time'], results['RandomForestClassifier'] - results3['std_fit_time'], alpha = 0.2)\n",
    "\n",
    "ax.plot(results['n_jobs'], results['SVM Classifier'], label = 'SVM', c = 'red')\n",
    "plt.plot(results['n_jobs'], results['SVM Classifier'] + results4['std_fit_time'], \"r--\")\n",
    "plt.plot(results['n_jobs'], results['SVM Classifier'] - results4['std_fit_time'], \"r--\")\n",
    "\n",
    "plt.fill_between(results['n_jobs'], results['SVM Classifier'] + results4['std_fit_time'], results['SVM Classifier'] - results4['std_fit_time'], alpha = 0.2)\n",
    "\n",
    "plt.legend(loc=\"upper left\")"
   ]
  },
  {
   "cell_type": "code",
   "execution_count": 44,
   "id": "f63a09f5",
   "metadata": {},
   "outputs": [
    {
     "data": {
      "text/plain": [
       "Text(0.5, 1.0, 'Boxplot für RandomForestClassifier und SVM Classifier')"
      ]
     },
     "execution_count": 44,
     "metadata": {},
     "output_type": "execute_result"
    },
    {
     "data": {
      "image/png": "[encoded data removed]",
      "text/plain": [
       "<Figure size 432x288 with 1 Axes>"
      ]
     },
     "metadata": {
      "needs_background": "light"
     },
     "output_type": "display_data"
    }
   ],
   "source": [
    "boxplot = results.boxplot(column=['RandomForestClassifier', 'SVM Classifier'])\n",
    "plt.title('Boxplot für RandomForestClassifier und SVM Classifier')"
   ]
  },
  {
   "cell_type": "markdown",
   "id": "9eeeea7d",
   "metadata": {},
   "source": [
    "Zielmetrik in Abhängigkeit von einem Hyperparameter für RandomForestClassifier"
   ]
  },
  {
   "cell_type": "code",
   "execution_count": 45,
   "id": "13eeaa84",
   "metadata": {},
   "outputs": [],
   "source": [
    "df_gridsearch_randForest = pd.DataFrame(gridsearch_randForest.cv_results_)"
   ]
  },
  {
   "cell_type": "code",
   "execution_count": 46,
   "id": "b4062c5b",
   "metadata": {},
   "outputs": [
    {
     "data": {
      "text/plain": [
       "0.9428596831533779"
      ]
     },
     "execution_count": 46,
     "metadata": {},
     "output_type": "execute_result"
    }
   ],
   "source": [
    "roc_auc_score(y_train, gridsearch_randForest.predict_proba(X_train)[:, 1])"
   ]
  },
  {
   "cell_type": "code",
   "execution_count": 47,
   "id": "3ce0ebfc",
   "metadata": {},
   "outputs": [
    {
     "data": {
      "text/plain": [
       "0.9373199402780017"
      ]
     },
     "execution_count": 47,
     "metadata": {},
     "output_type": "execute_result"
    }
   ],
   "source": [
    "roc_auc_score(y_test, gridsearch_randForest.predict_proba(X_test)[:, 1])"
   ]
  },
  {
   "cell_type": "code",
   "execution_count": 48,
   "id": "6731c3dd",
   "metadata": {},
   "outputs": [
    {
     "data": {
      "text/html": [
       "<div>\n",
       "<style scoped>\n",
       "    .dataframe tbody tr th:only-of-type {\n",
       "        vertical-align: middle;\n",
       "    }\n",
       "\n",
       "    .dataframe tbody tr th {\n",
       "        vertical-align: top;\n",
       "    }\n",
       "\n",
       "    .dataframe thead th {\n",
       "        text-align: right;\n",
       "    }\n",
       "</style>\n",
       "<table border=\"1\" class=\"dataframe\">\n",
       "  <thead>\n",
       "    <tr style=\"text-align: right;\">\n",
       "      <th></th>\n",
       "      <th>mean_fit_time</th>\n",
       "      <th>std_fit_time</th>\n",
       "      <th>mean_score_time</th>\n",
       "      <th>std_score_time</th>\n",
       "      <th>param_max_depth</th>\n",
       "      <th>param_n_estimators</th>\n",
       "      <th>param_random_state</th>\n",
       "      <th>params</th>\n",
       "      <th>split0_test_score</th>\n",
       "      <th>split1_test_score</th>\n",
       "      <th>split2_test_score</th>\n",
       "      <th>split3_test_score</th>\n",
       "      <th>split4_test_score</th>\n",
       "      <th>mean_test_score</th>\n",
       "      <th>std_test_score</th>\n",
       "      <th>rank_test_score</th>\n",
       "    </tr>\n",
       "  </thead>\n",
       "  <tbody>\n",
       "    <tr>\n",
       "      <th>0</th>\n",
       "      <td>0.009467</td>\n",
       "      <td>0.000305</td>\n",
       "      <td>0.002867</td>\n",
       "      <td>0.000137</td>\n",
       "      <td>1</td>\n",
       "      <td>3</td>\n",
       "      <td>0</td>\n",
       "      <td>{'max_depth': 1, 'n_estimators': 3, 'random_st...</td>\n",
       "      <td>0.890164</td>\n",
       "      <td>0.891803</td>\n",
       "      <td>0.888525</td>\n",
       "      <td>0.875205</td>\n",
       "      <td>0.868637</td>\n",
       "      <td>0.882867</td>\n",
       "      <td>0.009234</td>\n",
       "      <td>8</td>\n",
       "    </tr>\n",
       "    <tr>\n",
       "      <th>1</th>\n",
       "      <td>0.010532</td>\n",
       "      <td>0.001362</td>\n",
       "      <td>0.003387</td>\n",
       "      <td>0.000423</td>\n",
       "      <td>1</td>\n",
       "      <td>3</td>\n",
       "      <td>10</td>\n",
       "      <td>{'max_depth': 1, 'n_estimators': 3, 'random_st...</td>\n",
       "      <td>0.919672</td>\n",
       "      <td>0.927869</td>\n",
       "      <td>0.931148</td>\n",
       "      <td>0.935961</td>\n",
       "      <td>0.914614</td>\n",
       "      <td>0.925853</td>\n",
       "      <td>0.007730</td>\n",
       "      <td>1</td>\n",
       "    </tr>\n",
       "    <tr>\n",
       "      <th>2</th>\n",
       "      <td>0.367494</td>\n",
       "      <td>0.014637</td>\n",
       "      <td>0.029030</td>\n",
       "      <td>0.001684</td>\n",
       "      <td>1</td>\n",
       "      <td>200</td>\n",
       "      <td>0</td>\n",
       "      <td>{'max_depth': 1, 'n_estimators': 200, 'random_...</td>\n",
       "      <td>0.921311</td>\n",
       "      <td>0.922951</td>\n",
       "      <td>0.919672</td>\n",
       "      <td>0.914614</td>\n",
       "      <td>0.908046</td>\n",
       "      <td>0.917319</td>\n",
       "      <td>0.005413</td>\n",
       "      <td>4</td>\n",
       "    </tr>\n",
       "    <tr>\n",
       "      <th>3</th>\n",
       "      <td>0.368241</td>\n",
       "      <td>0.016955</td>\n",
       "      <td>0.027899</td>\n",
       "      <td>0.001541</td>\n",
       "      <td>1</td>\n",
       "      <td>200</td>\n",
       "      <td>10</td>\n",
       "      <td>{'max_depth': 1, 'n_estimators': 200, 'random_...</td>\n",
       "      <td>0.916393</td>\n",
       "      <td>0.922951</td>\n",
       "      <td>0.919672</td>\n",
       "      <td>0.914614</td>\n",
       "      <td>0.908046</td>\n",
       "      <td>0.916335</td>\n",
       "      <td>0.005031</td>\n",
       "      <td>5</td>\n",
       "    </tr>\n",
       "    <tr>\n",
       "      <th>4</th>\n",
       "      <td>0.013799</td>\n",
       "      <td>0.000764</td>\n",
       "      <td>0.002784</td>\n",
       "      <td>0.000117</td>\n",
       "      <td>10</td>\n",
       "      <td>3</td>\n",
       "      <td>0</td>\n",
       "      <td>{'max_depth': 10, 'n_estimators': 3, 'random_s...</td>\n",
       "      <td>0.893443</td>\n",
       "      <td>0.913115</td>\n",
       "      <td>0.919672</td>\n",
       "      <td>0.924466</td>\n",
       "      <td>0.919540</td>\n",
       "      <td>0.914047</td>\n",
       "      <td>0.010916</td>\n",
       "      <td>6</td>\n",
       "    </tr>\n",
       "    <tr>\n",
       "      <th>5</th>\n",
       "      <td>0.013635</td>\n",
       "      <td>0.001121</td>\n",
       "      <td>0.002941</td>\n",
       "      <td>0.000150</td>\n",
       "      <td>10</td>\n",
       "      <td>3</td>\n",
       "      <td>10</td>\n",
       "      <td>{'max_depth': 10, 'n_estimators': 3, 'random_s...</td>\n",
       "      <td>0.909836</td>\n",
       "      <td>0.916393</td>\n",
       "      <td>0.918033</td>\n",
       "      <td>0.924466</td>\n",
       "      <td>0.896552</td>\n",
       "      <td>0.913056</td>\n",
       "      <td>0.009475</td>\n",
       "      <td>7</td>\n",
       "    </tr>\n",
       "    <tr>\n",
       "      <th>6</th>\n",
       "      <td>0.669406</td>\n",
       "      <td>0.006747</td>\n",
       "      <td>0.032290</td>\n",
       "      <td>0.001874</td>\n",
       "      <td>10</td>\n",
       "      <td>200</td>\n",
       "      <td>0</td>\n",
       "      <td>{'max_depth': 10, 'n_estimators': 200, 'random...</td>\n",
       "      <td>0.919672</td>\n",
       "      <td>0.922951</td>\n",
       "      <td>0.931148</td>\n",
       "      <td>0.934319</td>\n",
       "      <td>0.917898</td>\n",
       "      <td>0.925197</td>\n",
       "      <td>0.006441</td>\n",
       "      <td>3</td>\n",
       "    </tr>\n",
       "    <tr>\n",
       "      <th>7</th>\n",
       "      <td>0.672087</td>\n",
       "      <td>0.010924</td>\n",
       "      <td>0.031836</td>\n",
       "      <td>0.001575</td>\n",
       "      <td>10</td>\n",
       "      <td>200</td>\n",
       "      <td>10</td>\n",
       "      <td>{'max_depth': 10, 'n_estimators': 200, 'random...</td>\n",
       "      <td>0.922951</td>\n",
       "      <td>0.924590</td>\n",
       "      <td>0.931148</td>\n",
       "      <td>0.934319</td>\n",
       "      <td>0.916256</td>\n",
       "      <td>0.925853</td>\n",
       "      <td>0.006353</td>\n",
       "      <td>1</td>\n",
       "    </tr>\n",
       "  </tbody>\n",
       "</table>\n",
       "</div>"
      ],
      "text/plain": [
       "   mean_fit_time  std_fit_time  mean_score_time  std_score_time  \\\n",
       "0       0.009467      0.000305         0.002867        0.000137   \n",
       "1       0.010532      0.001362         0.003387        0.000423   \n",
       "2       0.367494      0.014637         0.029030        0.001684   \n",
       "3       0.368241      0.016955         0.027899        0.001541   \n",
       "4       0.013799      0.000764         0.002784        0.000117   \n",
       "5       0.013635      0.001121         0.002941        0.000150   \n",
       "6       0.669406      0.006747         0.032290        0.001874   \n",
       "7       0.672087      0.010924         0.031836        0.001575   \n",
       "\n",
       "  param_max_depth param_n_estimators param_random_state  \\\n",
       "0               1                  3                  0   \n",
       "1               1                  3                 10   \n",
       "2               1                200                  0   \n",
       "3               1                200                 10   \n",
       "4              10                  3                  0   \n",
       "5              10                  3                 10   \n",
       "6              10                200                  0   \n",
       "7              10                200                 10   \n",
       "\n",
       "                                              params  split0_test_score  \\\n",
       "0  {'max_depth': 1, 'n_estimators': 3, 'random_st...           0.890164   \n",
       "1  {'max_depth': 1, 'n_estimators': 3, 'random_st...           0.919672   \n",
       "2  {'max_depth': 1, 'n_estimators': 200, 'random_...           0.921311   \n",
       "3  {'max_depth': 1, 'n_estimators': 200, 'random_...           0.916393   \n",
       "4  {'max_depth': 10, 'n_estimators': 3, 'random_s...           0.893443   \n",
       "5  {'max_depth': 10, 'n_estimators': 3, 'random_s...           0.909836   \n",
       "6  {'max_depth': 10, 'n_estimators': 200, 'random...           0.919672   \n",
       "7  {'max_depth': 10, 'n_estimators': 200, 'random...           0.922951   \n",
       "\n",
       "   split1_test_score  split2_test_score  split3_test_score  split4_test_score  \\\n",
       "0           0.891803           0.888525           0.875205           0.868637   \n",
       "1           0.927869           0.931148           0.935961           0.914614   \n",
       "2           0.922951           0.919672           0.914614           0.908046   \n",
       "3           0.922951           0.919672           0.914614           0.908046   \n",
       "4           0.913115           0.919672           0.924466           0.919540   \n",
       "5           0.916393           0.918033           0.924466           0.896552   \n",
       "6           0.922951           0.931148           0.934319           0.917898   \n",
       "7           0.924590           0.931148           0.934319           0.916256   \n",
       "\n",
       "   mean_test_score  std_test_score  rank_test_score  \n",
       "0         0.882867        0.009234                8  \n",
       "1         0.925853        0.007730                1  \n",
       "2         0.917319        0.005413                4  \n",
       "3         0.916335        0.005031                5  \n",
       "4         0.914047        0.010916                6  \n",
       "5         0.913056        0.009475                7  \n",
       "6         0.925197        0.006441                3  \n",
       "7         0.925853        0.006353                1  "
      ]
     },
     "execution_count": 48,
     "metadata": {},
     "output_type": "execute_result"
    }
   ],
   "source": [
    "roc = list()\n",
    "for i in range(2, 6):\n",
    "    gridsearch_randForest = GridSearchCV(estimator = RandomForestClassifier(), \n",
    "                                         param_grid = {'max_depth': [1, 10], 'n_estimators': [3, 200], 'random_state': [0, 10]}, cv = i).fit(X_train, y_train)\n",
    "    roc.append( roc_auc_score(y_train, gridsearch_randForest.predict_proba(X_train)[:, 1]) )\n",
    "    i = i + 1\n",
    "pd.DataFrame(gridsearch_randForest.cv_results_)"
   ]
  },
  {
   "cell_type": "code",
   "execution_count": 49,
   "id": "30c3fc73",
   "metadata": {},
   "outputs": [
    {
     "data": {
      "text/plain": [
       "[(1.0, 6.0), (0.0, 1.0)]"
      ]
     },
     "execution_count": 49,
     "metadata": {},
     "output_type": "execute_result"
    },
    {
     "data": {
      "image/png": "[encoded data removed]",
      "text/plain": [
       "<Figure size 432x288 with 1 Axes>"
      ]
     },
     "metadata": {
      "needs_background": "light"
     },
     "output_type": "display_data"
    }
   ],
   "source": [
    "plt.plot([2, 3, 4, 5], roc, 'bo')\n",
    "plt.title('ROC Kurve für gridsearch_randForest Model, in Abhängigkeit von Hyperparametern cv')\n",
    "plt.xlabel('Cross Validation')\n",
    "plt.ylabel('ROC')\n",
    "ax.set(xlim = (1, 6), ylim = (0, 1))"
   ]
  }
 ],
 "metadata": {
  "kernelspec": {
   "display_name": "Python 3 (ipykernel)",
   "language": "python",
   "name": "python3"
  },
  "language_info": {
   "codemirror_mode": {
    "name": "ipython",
    "version": 3
   },
   "file_extension": ".py",
   "mimetype": "text/x-python",
   "name": "python",
   "nbconvert_exporter": "python",
   "pygments_lexer": "ipython3",
   "version": "3.8.10"
  }
 },
 "nbformat": 4,
 "nbformat_minor": 5
}
