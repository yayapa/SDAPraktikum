{
 "cells": [
  {
   "cell_type": "markdown",
   "id": "2e6f691e",
   "metadata": {},
   "source": [
    "# Aufgabe 6 Cross Validation und Grid Search"
   ]
  },
  {
   "cell_type": "markdown",
   "id": "72eb6862",
   "metadata": {},
   "source": [
    "## (1) ein Datensatz für die Klassifikationsaufgabe"
   ]
  },
  {
   "cell_type": "markdown",
   "id": "2c29858b",
   "metadata": {},
   "source": [
    "Ich habe einen Datensatz von Commeo and Osmancik Rice Dataset ( siehe https://www.muratkoklu.com/datasets/ ) gesucht. Für die beiden Arten wurden insgesamt 3810 Bilder von Reiskörnern aufgenommen, verarbeitet und Rückschlüsse auf Merkmale gezogen. Für jedes Reiskorn wurden 7 morphologische Merkmale erhalten."
   ]
  },
  {
   "cell_type": "code",
   "execution_count": 97,
   "id": "35ccec1c",
   "metadata": {},
   "outputs": [],
   "source": [
    "# import all the important basic packages\n",
    "\n",
    "import pandas as pd\n",
    "import numpy as np\n",
    "import matplotlib.pyplot as plt\n",
    "import seaborn as sns\n",
    "from sklearn.model_selection import train_test_split\n",
    "from sklearn.model_selection import GridSearchCV\n",
    "from sklearn.metrics import accuracy_score\n",
    "from joblib import Parallel"
   ]
  },
  {
   "cell_type": "code",
   "execution_count": 98,
   "id": "bf72ad25",
   "metadata": {},
   "outputs": [],
   "source": [
    "# import data\n",
    "\n",
    "rice_df = pd.read_excel('../dataset/Rice_Cammeo_Osmancik.xlsx', engine='openpyxl')"
   ]
  },
  {
   "cell_type": "markdown",
   "id": "778b6962",
   "metadata": {},
   "source": [
    "Die Beschreibung des Datensatzes lautet wie folgt:"
   ]
  },
  {
   "cell_type": "code",
   "execution_count": 99,
   "id": "3bb8a708",
   "metadata": {},
   "outputs": [
    {
     "name": "stdout",
     "output_type": "stream",
     "text": [
      "<class 'pandas.core.frame.DataFrame'>\n",
      "RangeIndex: 3810 entries, 0 to 3809\n",
      "Data columns (total 8 columns):\n",
      " #   Column             Non-Null Count  Dtype  \n",
      "---  ------             --------------  -----  \n",
      " 0   Area               3810 non-null   int64  \n",
      " 1   Perimeter          3810 non-null   float64\n",
      " 2   Major_Axis_Length  3810 non-null   float64\n",
      " 3   Minor_Axis_Length  3810 non-null   float64\n",
      " 4   Eccentricity       3810 non-null   float64\n",
      " 5   Convex_Area        3810 non-null   int64  \n",
      " 6   Extent             3810 non-null   float64\n",
      " 7   Class              3810 non-null   object \n",
      "dtypes: float64(5), int64(2), object(1)\n",
      "memory usage: 238.2+ KB\n"
     ]
    }
   ],
   "source": [
    "rice_df.info()"
   ]
  },
  {
   "cell_type": "code",
   "execution_count": 100,
   "id": "7059af94",
   "metadata": {},
   "outputs": [
    {
     "data": {
      "text/plain": "    Area   Perimeter  Major_Axis_Length  Minor_Axis_Length  Eccentricity  \\\n0  15231  525.578979         229.749878          85.093788      0.928882   \n1  14656  494.311005         206.020065          91.730972      0.895405   \n2  14634  501.122009         214.106781          87.768288      0.912118   \n3  13176  458.342987         193.337387          87.448395      0.891861   \n4  14688  507.166992         211.743378          89.312454      0.906691   \n\n   Convex_Area    Extent   Class  \n0        15617  0.572896  Cammeo  \n1        15072  0.615436  Cammeo  \n2        14954  0.693259  Cammeo  \n3        13368  0.640669  Cammeo  \n4        15262  0.646024  Cammeo  ",
      "text/html": "<div>\n<style scoped>\n    .dataframe tbody tr th:only-of-type {\n        vertical-align: middle;\n    }\n\n    .dataframe tbody tr th {\n        vertical-align: top;\n    }\n\n    .dataframe thead th {\n        text-align: right;\n    }\n</style>\n<table border=\"1\" class=\"dataframe\">\n  <thead>\n    <tr style=\"text-align: right;\">\n      <th></th>\n      <th>Area</th>\n      <th>Perimeter</th>\n      <th>Major_Axis_Length</th>\n      <th>Minor_Axis_Length</th>\n      <th>Eccentricity</th>\n      <th>Convex_Area</th>\n      <th>Extent</th>\n      <th>Class</th>\n    </tr>\n  </thead>\n  <tbody>\n    <tr>\n      <th>0</th>\n      <td>15231</td>\n      <td>525.578979</td>\n      <td>229.749878</td>\n      <td>85.093788</td>\n      <td>0.928882</td>\n      <td>15617</td>\n      <td>0.572896</td>\n      <td>Cammeo</td>\n    </tr>\n    <tr>\n      <th>1</th>\n      <td>14656</td>\n      <td>494.311005</td>\n      <td>206.020065</td>\n      <td>91.730972</td>\n      <td>0.895405</td>\n      <td>15072</td>\n      <td>0.615436</td>\n      <td>Cammeo</td>\n    </tr>\n    <tr>\n      <th>2</th>\n      <td>14634</td>\n      <td>501.122009</td>\n      <td>214.106781</td>\n      <td>87.768288</td>\n      <td>0.912118</td>\n      <td>14954</td>\n      <td>0.693259</td>\n      <td>Cammeo</td>\n    </tr>\n    <tr>\n      <th>3</th>\n      <td>13176</td>\n      <td>458.342987</td>\n      <td>193.337387</td>\n      <td>87.448395</td>\n      <td>0.891861</td>\n      <td>13368</td>\n      <td>0.640669</td>\n      <td>Cammeo</td>\n    </tr>\n    <tr>\n      <th>4</th>\n      <td>14688</td>\n      <td>507.166992</td>\n      <td>211.743378</td>\n      <td>89.312454</td>\n      <td>0.906691</td>\n      <td>15262</td>\n      <td>0.646024</td>\n      <td>Cammeo</td>\n    </tr>\n  </tbody>\n</table>\n</div>"
     },
     "execution_count": 100,
     "metadata": {},
     "output_type": "execute_result"
    }
   ],
   "source": [
    "rice_df.head()"
   ]
  },
  {
   "cell_type": "markdown",
   "id": "b1821d64",
   "metadata": {},
   "source": [
    "## (2) Unter verschiedenen Algorithmen und Hyperparameter das \"beste\" Modell zu finden"
   ]
  },
  {
   "cell_type": "code",
   "execution_count": 101,
   "id": "d8501643",
   "metadata": {},
   "outputs": [],
   "source": [
    "# orignial Daten preprocessing\n",
    "# Training Set and Testing Set spliting\n",
    "\n",
    "X, y = rice_df.drop(columns = 'Class'), rice_df['Class']\n",
    "X_train, X_test, y_train, y_test = train_test_split(X, y, test_size = 0.2, random_state=0)"
   ]
  },
  {
   "cell_type": "markdown",
   "id": "6edb4295",
   "metadata": {},
   "source": [
    "### (a) Modell 1: Logistic Regression"
   ]
  },
  {
   "cell_type": "code",
   "execution_count": 102,
   "id": "792f167d",
   "metadata": {},
   "outputs": [
    {
     "data": {
      "text/plain": "0.937007874015748"
     },
     "execution_count": 102,
     "metadata": {},
     "output_type": "execute_result"
    }
   ],
   "source": [
    "from sklearn.linear_model import LogisticRegression\n",
    "\n",
    "LogistReg_clf = LogisticRegression().fit(X_train, y_train)\n",
    "LogistReg_clf.score(X_test, y_test)"
   ]
  },
  {
   "cell_type": "markdown",
   "id": "3e5efb17",
   "metadata": {},
   "source": [
    "Logistic Regression mit dem Anpassen der Hyperparameter eines Schätzers"
   ]
  },
  {
   "cell_type": "code",
   "execution_count": 103,
   "id": "296e2e8b",
   "metadata": {},
   "outputs": [
    {
     "name": "stdout",
     "output_type": "stream",
     "text": [
      "Best Estimator is: LogisticRegression(C=1, random_state=1)\n",
      "Best score on train dataset is: 0.9284729064039409\n",
      "The score on test dataset is: 0.937007874015748\n"
     ]
    }
   ],
   "source": [
    "gridsearch_LogistReg = GridSearchCV(estimator = LogisticRegression(), param_grid = {'C': [1, 5], 'random_state': [1, 5]}).fit(X_train, y_train)\n",
    "\n",
    "print(\"Best Estimator is: {}\".format(gridsearch_LogistReg.best_estimator_))\n",
    "print(\"Best score on train dataset is: {}\".format(gridsearch_LogistReg.best_score_))\n",
    "print(\"The score on test dataset is: {}\".format(gridsearch_LogistReg.score(X_test, y_test)))"
   ]
  },
  {
   "cell_type": "markdown",
   "id": "fdc864e6",
   "metadata": {},
   "source": [
    "### (b) Modell 2: Ridge Classifier"
   ]
  },
  {
   "cell_type": "code",
   "execution_count": 104,
   "id": "47737ca1",
   "metadata": {},
   "outputs": [
    {
     "data": {
      "text/plain": "0.9409448818897638"
     },
     "execution_count": 104,
     "metadata": {},
     "output_type": "execute_result"
    }
   ],
   "source": [
    "from sklearn.linear_model import RidgeClassifier\n",
    "\n",
    "Ridge_clf = RidgeClassifier().fit(X_train, y_train)\n",
    "Ridge_clf.score(X_test, y_test)"
   ]
  },
  {
   "cell_type": "markdown",
   "id": "9bdb669f",
   "metadata": {},
   "source": [
    "Ridge Classifier mit dem Anpassen der Hyperparameter eines Schätzers"
   ]
  },
  {
   "cell_type": "code",
   "execution_count": 105,
   "id": "ba19d01c",
   "metadata": {},
   "outputs": [
    {
     "name": "stdout",
     "output_type": "stream",
     "text": [
      "Best Estimator is: LogisticRegression(C=1, random_state=1)\n",
      "Best score on train dataset is: 0.9284729064039409\n",
      "The score on test dataset is: 0.937007874015748\n"
     ]
    }
   ],
   "source": [
    "gridsearch_Ridge = GridSearchCV(estimator = RidgeClassifier(), param_grid = {'alpha': [1, 5], 'random_state': [1, 5]}).fit(X_train, y_train)\n",
    "\n",
    "print(\"Best Estimator is: {}\".format(gridsearch_LogistReg.best_estimator_))\n",
    "print(\"Best score on train dataset is: {}\".format(gridsearch_LogistReg.best_score_))\n",
    "print(\"The score on test dataset is: {}\".format(gridsearch_LogistReg.score(X_test, y_test)))"
   ]
  },
  {
   "cell_type": "markdown",
   "id": "7ab82176",
   "metadata": {},
   "source": [
    "### (c) Modell 3: benutzen Gradient Decent zur Verbesserung (rule update)"
   ]
  },
  {
   "cell_type": "code",
   "execution_count": 106,
   "id": "9d38906a",
   "metadata": {},
   "outputs": [
    {
     "data": {
      "text/plain": "0.7309711286089239"
     },
     "execution_count": 106,
     "metadata": {},
     "output_type": "execute_result"
    }
   ],
   "source": [
    "from sklearn.linear_model import SGDClassifier\n",
    "\n",
    "SGD_clf = SGDClassifier().fit(X_train, y_train)\n",
    "SGD_clf.score(X_test, y_test)"
   ]
  },
  {
   "cell_type": "markdown",
   "id": "5867b793",
   "metadata": {},
   "source": [
    "SGDClassifier mit dem Anpassen der Hyperparameter eines Schätzers"
   ]
  },
  {
   "cell_type": "code",
   "execution_count": 107,
   "id": "1aafda77",
   "metadata": {},
   "outputs": [
    {
     "name": "stdout",
     "output_type": "stream",
     "text": [
      "Best Estimator is: SGDClassifier(alpha=10, early_stopping=True, max_iter=100, random_state=1)\n",
      "Best score on train dataset is: 0.6296266386712966\n",
      "The score on test dataset is: 0.5577427821522309\n"
     ]
    }
   ],
   "source": [
    "gridsearch_SGD = GridSearchCV(estimator = SGDClassifier(), \n",
    "                              param_grid = {'alpha': [1, 10], 'max_iter': [100, 10000], 'early_stopping': [True], 'random_state': [1, 10]}).fit(X_train, y_train)\n",
    "\n",
    "print(\"Best Estimator is: {}\".format(gridsearch_SGD.best_estimator_))\n",
    "print(\"Best score on train dataset is: {}\".format(gridsearch_SGD.best_score_))\n",
    "print(\"The score on test dataset is: {}\".format(gridsearch_SGD.score(X_test, y_test)))"
   ]
  },
  {
   "cell_type": "markdown",
   "id": "2dbfa4c4",
   "metadata": {},
   "source": [
    "### (d) Modell 4: Support Vector Machines, SVM"
   ]
  },
  {
   "cell_type": "markdown",
   "id": "5b2e03a9",
   "metadata": {},
   "source": [
    "hard SVM"
   ]
  },
  {
   "cell_type": "code",
   "execution_count": 108,
   "id": "49d09286",
   "metadata": {},
   "outputs": [
    {
     "data": {
      "text/plain": "0.884514435695538"
     },
     "execution_count": 108,
     "metadata": {},
     "output_type": "execute_result"
    }
   ],
   "source": [
    "from sklearn import svm\n",
    "\n",
    "svm_clf = svm.SVC().fit(X_train, y_train)\n",
    "svm_clf.score(X_test, y_test)"
   ]
  },
  {
   "cell_type": "markdown",
   "id": "08eb7e68",
   "metadata": {},
   "source": [
    "soft SVM"
   ]
  },
  {
   "cell_type": "code",
   "execution_count": 109,
   "id": "a0c3fe19",
   "metadata": {},
   "outputs": [
    {
     "data": {
      "text/plain": "0.884514435695538"
     },
     "execution_count": 109,
     "metadata": {},
     "output_type": "execute_result"
    }
   ],
   "source": [
    "svm_rbf_clf = svm.SVC(kernel = 'rbf', probability = True).fit(X_train, y_train)\n",
    "svm_rbf_clf.score(X_test, y_test)"
   ]
  },
  {
   "cell_type": "markdown",
   "id": "319c1231",
   "metadata": {},
   "source": [
    "SVM mit dem Anpassen der Hyperparameter eines Schätzers "
   ]
  },
  {
   "cell_type": "code",
   "execution_count": 110,
   "id": "2c233a4f",
   "metadata": {},
   "outputs": [
    {
     "name": "stdout",
     "output_type": "stream",
     "text": [
      "Best Estimator is: SVC(C=10, degree=1, kernel='linear')\n",
      "Best score on train dataset is: 0.9278171686990229\n",
      "The score on test dataset is: 0.9396325459317585\n"
     ]
    }
   ],
   "source": [
    "gridsearch_svm = GridSearchCV(\n",
    "    estimator = svm.SVC(), param_grid = {'C': [1, 10], 'kernel': ('linear', 'rbf', 'poly', 'sigmoid'), 'degree': [1, 5]}).fit(X_train, y_train)\n",
    "\n",
    "print(\"Best Estimator is: {}\".format(gridsearch_svm.best_estimator_))\n",
    "print(\"Best score on train dataset is: {}\".format(gridsearch_svm.best_score_))\n",
    "print(\"The score on test dataset is: {}\".format(gridsearch_svm.score(X_test, y_test)))"
   ]
  },
  {
   "cell_type": "code",
   "execution_count": 111,
   "id": "b3dfb2bd",
   "metadata": {},
   "outputs": [
    {
     "data": {
      "text/plain": "{'mean_fit_time': array([1.45157852, 0.07628374, 0.06722021, 0.26339369, 1.44712586,\n        0.07670503, 0.06690412, 0.26310196, 1.33458633, 0.07486582,\n        0.0622788 , 0.08008966, 1.33850965, 0.07401934, 0.08249912,\n        0.08045006]),\n 'std_fit_time': array([0.34110749, 0.00148118, 0.00081089, 0.02240616, 0.3499558 ,\n        0.00131125, 0.00121366, 0.02223668, 0.23609554, 0.00164153,\n        0.00125473, 0.06766098, 0.23708175, 0.00156231, 0.00276651,\n        0.06776246]),\n 'mean_score_time': array([0.00661731, 0.02363949, 0.01478682, 0.05160961, 0.00653229,\n        0.02357054, 0.01275015, 0.05166245, 0.00663543, 0.02177153,\n        0.01296034, 0.01982083, 0.00670648, 0.02167053, 0.01273041,\n        0.01967702]),\n 'std_score_time': array([0.00030075, 0.00046299, 0.00022495, 0.0001822 , 0.00030892,\n        0.0002295 , 0.00017885, 0.00020607, 0.00046923, 0.00071306,\n        0.00023225, 0.01567073, 0.00020848, 0.00049314, 0.00028978,\n        0.01551589]),\n 'param_C': masked_array(data=[1, 1, 1, 1, 1, 1, 1, 1, 10, 10, 10, 10, 10, 10, 10, 10],\n              mask=[False, False, False, False, False, False, False, False,\n                    False, False, False, False, False, False, False, False],\n        fill_value='?',\n             dtype=object),\n 'param_degree': masked_array(data=[1, 1, 1, 1, 5, 5, 5, 5, 1, 1, 1, 1, 5, 5, 5, 5],\n              mask=[False, False, False, False, False, False, False, False,\n                    False, False, False, False, False, False, False, False],\n        fill_value='?',\n             dtype=object),\n 'param_kernel': masked_array(data=['linear', 'rbf', 'poly', 'sigmoid', 'linear', 'rbf',\n                    'poly', 'sigmoid', 'linear', 'rbf', 'poly', 'sigmoid',\n                    'linear', 'rbf', 'poly', 'sigmoid'],\n              mask=[False, False, False, False, False, False, False, False,\n                    False, False, False, False, False, False, False, False],\n        fill_value='?',\n             dtype=object),\n 'params': [{'C': 1, 'degree': 1, 'kernel': 'linear'},\n  {'C': 1, 'degree': 1, 'kernel': 'rbf'},\n  {'C': 1, 'degree': 1, 'kernel': 'poly'},\n  {'C': 1, 'degree': 1, 'kernel': 'sigmoid'},\n  {'C': 1, 'degree': 5, 'kernel': 'linear'},\n  {'C': 1, 'degree': 5, 'kernel': 'rbf'},\n  {'C': 1, 'degree': 5, 'kernel': 'poly'},\n  {'C': 1, 'degree': 5, 'kernel': 'sigmoid'},\n  {'C': 10, 'degree': 1, 'kernel': 'linear'},\n  {'C': 10, 'degree': 1, 'kernel': 'rbf'},\n  {'C': 10, 'degree': 1, 'kernel': 'poly'},\n  {'C': 10, 'degree': 1, 'kernel': 'sigmoid'},\n  {'C': 10, 'degree': 5, 'kernel': 'linear'},\n  {'C': 10, 'degree': 5, 'kernel': 'rbf'},\n  {'C': 10, 'degree': 5, 'kernel': 'poly'},\n  {'C': 10, 'degree': 5, 'kernel': 'sigmoid'}],\n 'split0_test_score': array([0.91803279, 0.87868852, 0.88032787, 0.21803279, 0.91803279,\n        0.87868852, 0.88032787, 0.21803279, 0.91803279, 0.88032787,\n        0.87868852, 0.87868852, 0.91803279, 0.88032787, 0.88196721,\n        0.87868852]),\n 'split1_test_score': array([0.93278689, 0.8852459 , 0.8852459 , 0.19344262, 0.93278689,\n        0.8852459 , 0.88688525, 0.19344262, 0.93770492, 0.8852459 ,\n        0.8852459 , 0.87868852, 0.93770492, 0.8852459 , 0.89508197,\n        0.87868852]),\n 'split2_test_score': array([0.9442623 , 0.89508197, 0.89508197, 0.22459016, 0.9442623 ,\n        0.89508197, 0.90327869, 0.22459016, 0.94098361, 0.9       ,\n        0.89508197, 0.89344262, 0.94098361, 0.9       , 0.90491803,\n        0.89344262]),\n 'split3_test_score': array([0.92610837, 0.85878489, 0.86042693, 0.21510673, 0.92610837,\n        0.85878489, 0.86042693, 0.21510673, 0.92446634, 0.86042693,\n        0.85878489, 0.85878489, 0.92446634, 0.86042693, 0.86535304,\n        0.85878489]),\n 'split4_test_score': array([0.91625616, 0.8817734 , 0.8817734 , 0.22495895, 0.91625616,\n        0.8817734 , 0.88505747, 0.22495895, 0.91789819, 0.88505747,\n        0.88341544, 0.21182266, 0.91789819, 0.88505747, 0.8817734 ,\n        0.21182266]),\n 'mean_test_score': array([0.9274893 , 0.87991494, 0.88057121, 0.21522625, 0.9274893 ,\n        0.87991494, 0.88319524, 0.21522625, 0.92781717, 0.88221163,\n        0.88024334, 0.74428545, 0.92781717, 0.88221163, 0.88581873,\n        0.74428545]),\n 'std_test_score': array([0.01026561, 0.01191549, 0.01131116, 0.01153105, 0.01026561,\n        0.01191549, 0.01376261, 0.01153105, 0.00976187, 0.01274248,\n        0.01198462, 0.26645937, 0.00976187, 0.01274248, 0.01342114,\n        0.26645937]),\n 'rank_test_score': array([ 3, 11,  9, 15,  3, 11,  6, 15,  1,  7, 10, 13,  1,  7,  5, 13],\n       dtype=int32)}"
     },
     "execution_count": 111,
     "metadata": {},
     "output_type": "execute_result"
    }
   ],
   "source": [
    "gridsearch_svm.cv_results_"
   ]
  },
  {
   "cell_type": "markdown",
   "id": "9fb633ee",
   "metadata": {},
   "source": [
    "### (e) Modell 5: k-Nearest Neighbor"
   ]
  },
  {
   "cell_type": "code",
   "execution_count": 112,
   "id": "d5161183",
   "metadata": {},
   "outputs": [
    {
     "data": {
      "text/plain": "0.889763779527559"
     },
     "execution_count": 112,
     "metadata": {},
     "output_type": "execute_result"
    }
   ],
   "source": [
    "from sklearn.neighbors import KNeighborsClassifier\n",
    "\n",
    "neigh_clf = KNeighborsClassifier().fit(X_train, y_train)\n",
    "neigh_clf.score(X_test, y_test)"
   ]
  },
  {
   "cell_type": "markdown",
   "id": "d79b271d",
   "metadata": {},
   "source": [
    "KNeighborsClassifier  mit dem Anpassen der Hyperparameter eines Schätzers"
   ]
  },
  {
   "cell_type": "code",
   "execution_count": 113,
   "id": "4c269b6c",
   "metadata": {},
   "outputs": [
    {
     "name": "stdout",
     "output_type": "stream",
     "text": [
      "Best Estimator is: KNeighborsClassifier(leaf_size=1, n_neighbors=10)\n",
      "Best score on train dataset is: 0.880903927427387\n",
      "The score on test dataset is: 0.889763779527559\n"
     ]
    }
   ],
   "source": [
    "gridsearch_neigh = GridSearchCV(estimator = KNeighborsClassifier(), \n",
    "                                param_grid = {'n_neighbors': [1, 10], 'algorithm': ('auto', 'ball_tree', 'kd_tree', 'brute'), 'leaf_size': [1, 50]}).fit(X_train, y_train)\n",
    "\n",
    "print(\"Best Estimator is: {}\".format(gridsearch_neigh.best_estimator_))\n",
    "print(\"Best score on train dataset is: {}\".format(gridsearch_neigh.best_score_))\n",
    "print(\"The score on test dataset is: {}\".format(gridsearch_neigh.score(X_test, y_test)))"
   ]
  },
  {
   "cell_type": "markdown",
   "id": "15767912",
   "metadata": {},
   "source": [
    "### (f) Modell 6: Decision Tree"
   ]
  },
  {
   "cell_type": "code",
   "execution_count": 114,
   "id": "69f88e8e",
   "metadata": {},
   "outputs": [
    {
     "data": {
      "text/plain": "0.9133858267716536"
     },
     "execution_count": 114,
     "metadata": {},
     "output_type": "execute_result"
    }
   ],
   "source": [
    "from sklearn import tree\n",
    "\n",
    "DT_clf = tree.DecisionTreeClassifier().fit(X_train, y_train)\n",
    "DT_clf.score(X_test, y_test)"
   ]
  },
  {
   "cell_type": "markdown",
   "id": "39800570",
   "metadata": {},
   "source": [
    "Decision Tree mit dem Anpassen der Hyperparameter eines Schätzers"
   ]
  },
  {
   "cell_type": "code",
   "execution_count": 115,
   "id": "faaf3368",
   "metadata": {},
   "outputs": [
    {
     "name": "stdout",
     "output_type": "stream",
     "text": [
      "Best Estimator is: DecisionTreeClassifier(criterion='entropy', max_depth=1)\n",
      "Best score on train dataset is: 0.9258515707017686\n",
      "The score on test dataset is: 0.9304461942257218\n"
     ]
    }
   ],
   "source": [
    "gridsearch_DT = GridSearchCV(\n",
    "    estimator = tree.DecisionTreeClassifier(), \n",
    "    param_grid = {'criterion': ('gini', 'entropy'), 'splitter': ('best', 'random'), 'max_depth': [1, 50], 'min_samples_leaf': [1, 10]}).fit(X_train, y_train)\n",
    "\n",
    "print(\"Best Estimator is: {}\".format(gridsearch_DT.best_estimator_))\n",
    "print(\"Best score on train dataset is: {}\".format(gridsearch_DT.best_score_))\n",
    "print(\"The score on test dataset is: {}\".format(gridsearch_DT.score(X_test, y_test)))"
   ]
  },
  {
   "cell_type": "markdown",
   "id": "d65313b7",
   "metadata": {},
   "source": [
    "### (g) Bayesian Classification"
   ]
  },
  {
   "cell_type": "markdown",
   "id": "6a28bebb",
   "metadata": {},
   "source": [
    "#### Modell 7 Naive Bayes classifier for multivariate Bernoulli models"
   ]
  },
  {
   "cell_type": "code",
   "execution_count": 116,
   "id": "d4bfbcb0",
   "metadata": {},
   "outputs": [
    {
     "data": {
      "text/plain": "0.5577427821522309"
     },
     "execution_count": 116,
     "metadata": {},
     "output_type": "execute_result"
    }
   ],
   "source": [
    "from sklearn.naive_bayes import BernoulliNB\n",
    "\n",
    "Bernoulli_clf = BernoulliNB().fit(X_train, y_train)\n",
    "Bernoulli_clf.score(X_test, y_test)"
   ]
  },
  {
   "cell_type": "code",
   "execution_count": 117,
   "id": "4261ac54",
   "metadata": {},
   "outputs": [
    {
     "name": "stdout",
     "output_type": "stream",
     "text": [
      "Best Estimator is: BernoulliNB(alpha=1, fit_prior=False)\n",
      "Best score on train dataset is: 0.5757877735605265\n",
      "The score on test dataset is: 0.5577427821522309\n"
     ]
    }
   ],
   "source": [
    "gridsearch_Bernoulli = GridSearchCV(estimator = BernoulliNB(), param_grid = {'alpha': [1, 2], 'fit_prior': [False]}).fit(X_train, y_train)\n",
    "\n",
    "print(\"Best Estimator is: {}\".format(gridsearch_Bernoulli.best_estimator_))\n",
    "print(\"Best score on train dataset is: {}\".format(gridsearch_Bernoulli.best_score_))\n",
    "print(\"The score on test dataset is: {}\".format(gridsearch_Bernoulli.score(X_test, y_test)))"
   ]
  },
  {
   "cell_type": "markdown",
   "id": "b29e2c4e",
   "metadata": {},
   "source": [
    "#### Modell 8 Naive Bayes classifier for categorical features"
   ]
  },
  {
   "cell_type": "code",
   "execution_count": 118,
   "id": "2008a198",
   "metadata": {},
   "outputs": [
    {
     "data": {
      "text/plain": "0.5577427821522309"
     },
     "execution_count": 118,
     "metadata": {},
     "output_type": "execute_result"
    }
   ],
   "source": [
    "from sklearn.preprocessing import OrdinalEncoder\n",
    "from sklearn.naive_bayes import CategoricalNB\n",
    "\n",
    "enc = OrdinalEncoder()\n",
    "\n",
    "x_train = enc.fit(X_train).fit_transform(X_train)\n",
    "x_test = enc.fit(X_test).fit_transform(X_test)\n",
    "\n",
    "Categ_clf = CategoricalNB().fit(x_train, y_train)\n",
    "Categ_clf.score(x_test, y_test)"
   ]
  },
  {
   "cell_type": "markdown",
   "id": "5f3c08fe",
   "metadata": {},
   "source": [
    "#### Modell 9 Gaussian Naive Bayes algorithm for classification"
   ]
  },
  {
   "cell_type": "code",
   "execution_count": 119,
   "id": "aeacd5f5",
   "metadata": {},
   "outputs": [
    {
     "data": {
      "text/plain": "0.9186351706036745"
     },
     "execution_count": 119,
     "metadata": {},
     "output_type": "execute_result"
    }
   ],
   "source": [
    "from sklearn.naive_bayes import GaussianNB\n",
    "\n",
    "Gaussian_clf = GaussianNB().fit(X_train, y_train)\n",
    "Gaussian_clf.score(X_test, y_test)"
   ]
  },
  {
   "cell_type": "code",
   "execution_count": 120,
   "id": "ebd89ad5",
   "metadata": {},
   "outputs": [
    {
     "name": "stdout",
     "output_type": "stream",
     "text": [
      "Best Estimator is: GaussianNB(var_smoothing=0)\n",
      "Best score on train dataset is: 0.9160101214029988\n",
      "The score on test dataset is: 0.926509186351706\n"
     ]
    }
   ],
   "source": [
    "gridsearch_Gaussian = GridSearchCV(estimator = GaussianNB(), param_grid = {'var_smoothing': [0, 1]}).fit(X_train, y_train)\n",
    "\n",
    "print(\"Best Estimator is: {}\".format(gridsearch_Gaussian.best_estimator_))\n",
    "print(\"Best score on train dataset is: {}\".format(gridsearch_Gaussian.best_score_))\n",
    "print(\"The score on test dataset is: {}\".format(gridsearch_Gaussian.score(X_test, y_test)))"
   ]
  },
  {
   "cell_type": "markdown",
   "id": "8e31a22e",
   "metadata": {},
   "source": [
    "#### Modell 10 Naive Bayes classifier for multinomial models"
   ]
  },
  {
   "cell_type": "code",
   "execution_count": 121,
   "id": "62d9b556",
   "metadata": {},
   "outputs": [
    {
     "data": {
      "text/plain": "0.8517060367454068"
     },
     "execution_count": 121,
     "metadata": {},
     "output_type": "execute_result"
    }
   ],
   "source": [
    "from sklearn.naive_bayes import MultinomialNB\n",
    "\n",
    "Multi_Gaussian_clf = MultinomialNB().fit(X_train, y_train)\n",
    "Multi_Gaussian_clf.score(X_test, y_test)"
   ]
  },
  {
   "cell_type": "code",
   "execution_count": 122,
   "id": "a67a3ce8",
   "metadata": {},
   "outputs": [
    {
     "name": "stdout",
     "output_type": "stream",
     "text": [
      "Best Estimator is: MultinomialNB(alpha=0.001)\n",
      "Best score on train dataset is: 0.8539944547632506\n",
      "The score on test dataset is: 0.8517060367454068\n"
     ]
    }
   ],
   "source": [
    "gridsearch_Multi_Gaussian = GridSearchCV(estimator = MultinomialNB(), param_grid = {'alpha': [0.001, 2]}).fit(X_train, y_train)\n",
    "\n",
    "print(\"Best Estimator is: {}\".format(gridsearch_Multi_Gaussian.best_estimator_))\n",
    "print(\"Best score on train dataset is: {}\".format(gridsearch_Multi_Gaussian.best_score_))\n",
    "print(\"The score on test dataset is: {}\".format(gridsearch_Multi_Gaussian.score(X_test, y_test)))"
   ]
  },
  {
   "cell_type": "markdown",
   "id": "03ca1c66",
   "metadata": {},
   "source": [
    "### (h) Modell 11: Neural Networks"
   ]
  },
  {
   "cell_type": "code",
   "execution_count": 123,
   "id": "b6efb79b",
   "metadata": {},
   "outputs": [
    {
     "data": {
      "text/plain": "0.6496062992125984"
     },
     "execution_count": 123,
     "metadata": {},
     "output_type": "execute_result"
    }
   ],
   "source": [
    "from sklearn.neural_network import MLPClassifier\n",
    "\n",
    "MLP_clf = MLPClassifier().fit(X_train, y_train)\n",
    "MLP_clf.score(X_test, y_test)"
   ]
  },
  {
   "cell_type": "code",
   "execution_count": 124,
   "id": "5ebd1e80",
   "metadata": {},
   "outputs": [
    {
     "name": "stdout",
     "output_type": "stream",
     "text": [
      "Best Estimator is: MLPClassifier(hidden_layer_sizes=10, max_iter=1000, random_state=20)\n",
      "Best Parameter is: {'activation': 'relu', 'alpha': 0.0001, 'hidden_layer_sizes': 10, 'learning_rate': 'constant', 'max_iter': 1000, 'random_state': 20}\n",
      "Best score on train dataset is: 0.7693483000888315\n",
      "The score on test dataset is: 0.7204724409448819\n"
     ]
    }
   ],
   "source": [
    "import warnings\n",
    "warnings.filterwarnings(\"ignore\")\n",
    "\n",
    "gridsearch_MLP = GridSearchCV(\n",
    "    estimator = MLPClassifier(), \n",
    "    param_grid = {'hidden_layer_sizes': [1, 10], 'random_state': [1, 20], 'max_iter': [1000, 10000], \n",
    "                  'activation': ('identity', 'logistic', 'relu', 'tanh'), \n",
    "                  'alpha': [0.0001, 1], 'learning_rate': ('constant', 'invscaling', 'adaptive')}).fit(X_train, y_train)\n",
    "\n",
    "print(\"Best Estimator is: {}\".format(gridsearch_MLP.best_estimator_))\n",
    "print(\"Best Parameter is: {}\".format(gridsearch_MLP.best_params_))\n",
    "print(\"Best score on train dataset is: {}\".format(gridsearch_MLP.best_score_))\n",
    "print(\"The score on test dataset is: {}\".format(gridsearch_MLP.score(X_test, y_test)))"
   ]
  },
  {
   "cell_type": "markdown",
   "id": "5fa62b78",
   "metadata": {},
   "source": [
    "### (i) Ensemble methods"
   ]
  },
  {
   "cell_type": "markdown",
   "id": "22532776",
   "metadata": {},
   "source": [
    "#### Modell 12: Bagging meta-estimator"
   ]
  },
  {
   "cell_type": "code",
   "execution_count": 125,
   "id": "f9bea565",
   "metadata": {},
   "outputs": [
    {
     "data": {
      "text/plain": "0.884514435695538"
     },
     "execution_count": 125,
     "metadata": {},
     "output_type": "execute_result"
    }
   ],
   "source": [
    "from sklearn.ensemble import BaggingClassifier\n",
    "\n",
    "Bag_clf = BaggingClassifier(base_estimator = svm.SVC(), n_estimators=10, random_state = 0).fit(X_train, y_train)\n",
    "Bag_clf.score(X_test, y_test)"
   ]
  },
  {
   "cell_type": "markdown",
   "id": "b4927487",
   "metadata": {},
   "source": [
    " #### Modell 13: Forests of randomized trees"
   ]
  },
  {
   "cell_type": "code",
   "execution_count": 126,
   "id": "b0ebb7ec",
   "metadata": {},
   "outputs": [
    {
     "data": {
      "text/plain": "0.9251968503937008"
     },
     "execution_count": 126,
     "metadata": {},
     "output_type": "execute_result"
    }
   ],
   "source": [
    "from sklearn.ensemble import RandomForestClassifier\n",
    "\n",
    "randForest_clf= RandomForestClassifier().fit(X_train, y_train)\n",
    "randForest_clf.score(X_test, y_test)"
   ]
  },
  {
   "cell_type": "code",
   "execution_count": 127,
   "id": "3717f218",
   "metadata": {},
   "outputs": [
    {
     "name": "stdout",
     "output_type": "stream",
     "text": [
      "Best Estimator is: RandomForestClassifier(max_depth=1, n_estimators=3, random_state=10)\n",
      "Best score on train dataset is: 0.9261811023622046\n",
      "The score on test dataset is: 0.926509186351706\n"
     ]
    }
   ],
   "source": [
    "gridsearch_randForest = GridSearchCV(estimator = RandomForestClassifier(), \n",
    "                                     param_grid = {'max_depth': [1, 10], 'n_estimators': [3, 200], 'random_state': [0, 10]}, cv = 6).fit(X_train, y_train)\n",
    "\n",
    "print(\"Best Estimator is: {}\".format(gridsearch_randForest.best_estimator_))\n",
    "print(\"Best score on train dataset is: {}\".format(gridsearch_randForest.best_score_))\n",
    "print(\"The score on test dataset is: {}\".format(gridsearch_randForest.score(X_test, y_test)))"
   ]
  },
  {
   "cell_type": "markdown",
   "id": "34971cda",
   "metadata": {},
   "source": [
    "#### Modell 14: Boosting - AdaBoost"
   ]
  },
  {
   "cell_type": "code",
   "execution_count": 128,
   "id": "c0ac36d8",
   "metadata": {},
   "outputs": [
    {
     "name": "stdout",
     "output_type": "stream",
     "text": [
      "Best Estimator is: AdaBoostClassifier(n_estimators=3, random_state=0)\n",
      "Best score on train dataset is: 0.9255237018493097\n",
      "The score on test dataset is: 0.9304461942257218\n"
     ]
    }
   ],
   "source": [
    "from sklearn.ensemble import AdaBoostClassifier\n",
    "\n",
    "AdaBoost_clf = AdaBoostClassifier()\n",
    "\n",
    "gridsearch_AdaBoost = GridSearchCV(estimator = AdaBoostClassifier(), \n",
    "                                     param_grid = {'n_estimators': [3, 200], 'random_state': [0, 10]}).fit(X_train, y_train)\n",
    "\n",
    "print(\"Best Estimator is: {}\".format(gridsearch_AdaBoost.best_estimator_))\n",
    "print(\"Best score on train dataset is: {}\".format(gridsearch_AdaBoost.best_score_))\n",
    "print(\"The score on test dataset is: {}\".format(gridsearch_AdaBoost.score(X_test, y_test)))"
   ]
  },
  {
   "cell_type": "code",
   "execution_count": 129,
   "id": "c58888f2",
   "metadata": {},
   "outputs": [
    {
     "name": "stdout",
     "output_type": "stream",
     "text": [
      "Best Estimator is: AdaBoostClassifier(learning_rate=0.1, n_estimators=200, random_state=0)\n",
      "Best score on train dataset is: 0.9271625077391047\n",
      "The score on test dataset is: 0.9304461942257218\n"
     ]
    }
   ],
   "source": [
    "from sklearn.ensemble import GradientBoostingClassifier\n",
    "\n",
    "GraBoost_clf = GradientBoostingClassifier()\n",
    "\n",
    "gridsearch_GraBoost = GridSearchCV(\n",
    "    estimator = AdaBoostClassifier(), \n",
    "    param_grid = {'n_estimators': [3, 200], 'learning_rate': [0.1, 1.0], 'random_state': [0, 10]}).fit(X_train, y_train)\n",
    "\n",
    "print(\"Best Estimator is: {}\".format(gridsearch_GraBoost.best_estimator_))\n",
    "print(\"Best score on train dataset is: {}\".format(gridsearch_GraBoost.best_score_))\n",
    "print(\"The score on test dataset is: {}\".format(gridsearch_GraBoost.score(X_test, y_test)))"
   ]
  },
  {
   "cell_type": "code",
   "execution_count": 130,
   "id": "fb6464bc",
   "metadata": {},
   "outputs": [
    {
     "name": "stdout",
     "output_type": "stream",
     "text": [
      "Best Estimator is: HistGradientBoostingClassifier(learning_rate=1.0, max_bins=100, max_iter=3,\n",
      "                               max_leaf_nodes=20)\n",
      "Best score on train dataset is: 0.9173178282053351\n",
      "The score on test dataset is: 0.9238845144356955\n"
     ]
    }
   ],
   "source": [
    "from sklearn.ensemble import HistGradientBoostingClassifier\n",
    "\n",
    "HistGraBoost_clf = HistGradientBoostingClassifier()\n",
    "\n",
    "gridsearch_HistGraBoost = GridSearchCV(\n",
    "    estimator = HistGradientBoostingClassifier(), \n",
    "    param_grid = {'max_iter': [3, 200], 'learning_rate': [0.1, 1.0], 'max_bins': [100, 255], 'max_leaf_nodes': [20, 50]}).fit(X_train, y_train)\n",
    "\n",
    "print(\"Best Estimator is: {}\".format(gridsearch_HistGraBoost.best_estimator_))\n",
    "print(\"Best score on train dataset is: {}\".format(gridsearch_HistGraBoost.best_score_))\n",
    "print(\"The score on test dataset is: {}\".format(gridsearch_HistGraBoost.score(X_test, y_test)))"
   ]
  },
  {
   "cell_type": "markdown",
   "id": "00af25c4",
   "metadata": {},
   "source": [
    "#### Modell 15.1 Voting Classifier - hard"
   ]
  },
  {
   "cell_type": "code",
   "execution_count": 131,
   "id": "98638d59",
   "metadata": {},
   "outputs": [
    {
     "name": "stdout",
     "output_type": "stream",
     "text": [
      "Accuracy: 0.92 (+/- 0.02) [Random Forest]\n",
      "Accuracy: 0.93 (+/- 0.02) [Logistic Regression]\n",
      "Accuracy: 0.92 (+/- 0.01) [Ensemble]\n"
     ]
    }
   ],
   "source": [
    "from sklearn.model_selection import cross_val_score\n",
    "from sklearn.ensemble import VotingClassifier\n",
    "\n",
    "vot_hard_clf = VotingClassifier(estimators = [('rf', randForest_clf), ('lr', LogistReg_clf)], voting = 'hard')\n",
    "\n",
    "for clf, label in zip([randForest_clf, LogistReg_clf, vot_hard_clf], ['Random Forest', 'Logistic Regression', 'Ensemble']):\n",
    "    scores = cross_val_score(clf, X, y, scoring = 'accuracy', cv = 8)\n",
    "    print(\"Accuracy: %0.2f (+/- %0.2f) [%s]\" % (scores.mean(), scores.std(), label))"
   ]
  },
  {
   "cell_type": "markdown",
   "id": "770741ab",
   "metadata": {},
   "source": [
    "#### Modell 15.2: Voting Classifier - soft"
   ]
  },
  {
   "cell_type": "code",
   "execution_count": 132,
   "id": "690fadb9",
   "metadata": {},
   "outputs": [
    {
     "name": "stdout",
     "output_type": "stream",
     "text": [
      "Accuracy: 0.88 (+/- 0.02) [Decision Tree]\n",
      "Accuracy: 0.88 (+/- 0.03) [Soft SVM]\n",
      "Accuracy: 0.90 (+/- 0.02) [Ensemble]\n"
     ]
    }
   ],
   "source": [
    "# Training classifiers\n",
    "\n",
    "vot_soft_clf = VotingClassifier(estimators = [('dt', DT_clf), ('svc', svm_rbf_clf)], voting = 'soft', weights = [3, 5])\n",
    "\n",
    "for clf, label in zip([DT_clf, svm_rbf_clf, vot_soft_clf], ['Decision Tree', 'Soft SVM', 'Ensemble']):\n",
    "    scores = cross_val_score(clf, X, y, scoring = 'accuracy', cv = 5)\n",
    "    print(\"Accuracy: %0.2f (+/- %0.2f) [%s]\" % (scores.mean(), scores.std(), label))"
   ]
  },
  {
   "cell_type": "markdown",
   "id": "880f7f00",
   "metadata": {},
   "source": [
    "## (3) Zielmetrik auswählen"
   ]
  },
  {
   "cell_type": "markdown",
   "id": "fbc0b80c",
   "metadata": {},
   "source": [
    "Area Under the Receiver Operating Characteristic Curve (ROC AUC)\n",
    "Receiver Operating Characteristics (ROC) Curves, which can make a tradeoff between hit rate (TP) and false alarm (FP) over nosiy channels.\n",
    "Area under the Curve (AUC) can be used to measure the quality of an Algorithm."
   ]
  },
  {
   "cell_type": "markdown",
   "id": "3bf54e49",
   "metadata": {},
   "source": [
    "ROC kann einen Kompromiss zwischen Trefferrate (TP) und Fehlalarm (FP) über verrauschte Kanäle eingehen.\n",
    "AUC kann verwendet werden, um die Qualität eines Algorithmus zu messen"
   ]
  },
  {
   "cell_type": "code",
   "execution_count": 133,
   "id": "60e75b46",
   "metadata": {},
   "outputs": [
    {
     "data": {
      "text/plain": "<Figure size 432x288 with 1 Axes>",
      "image/png": "[encoded data removed]"
     },
     "metadata": {
      "needs_background": "light"
     },
     "output_type": "display_data"
    }
   ],
   "source": [
    "from sklearn import metrics\n",
    "from itertools import cycle\n",
    "from sklearn.metrics import auc\n",
    "from sklearn.metrics import roc_auc_score\n",
    "from sklearn.metrics import RocCurveDisplay\n",
    "from sklearn.model_selection import StratifiedKFold\n",
    "\n",
    "cv = StratifiedKFold(n_splits = 2)\n",
    "classifier = RandomForestClassifier(max_depth = 10, n_estimators = 200, random_state = 0)\n",
    "\n",
    "tprs = []\n",
    "aucs = []\n",
    "mean_fpr = np.linspace(0, 1, 100)\n",
    "\n",
    "fig, ax = plt.subplots()\n",
    "for i, (train, test) in enumerate(cv.split(X, y)):\n",
    "    classifier.fit(X_train, y_train)\n",
    "    viz = RocCurveDisplay.from_estimator(\n",
    "        classifier,\n",
    "        X_test,\n",
    "        y_test,\n",
    "        name = \"ROC fold {}\".format(i),\n",
    "        lw = 1,\n",
    "        ax = ax,\n",
    "    )\n",
    "    interp_tpr = np.interp(mean_fpr, viz.fpr, viz.tpr)\n",
    "    interp_tpr[0] = 0.0\n",
    "    tprs.append(interp_tpr)\n",
    "    aucs.append(viz.roc_auc)\n",
    "\n",
    "ax.plot([0, 1], [0, 1], linestyle = \"--\", lw = 2, color = \"r\", label = \"Chance\", alpha = 0.8)\n",
    "\n",
    "mean_tpr = np.mean(tprs, axis=0)\n",
    "mean_tpr[-1] = 1.0\n",
    "mean_auc = auc(mean_fpr, mean_tpr)\n",
    "std_auc = np.std(aucs)\n",
    "ax.plot(\n",
    "    mean_fpr,\n",
    "    mean_tpr,\n",
    "    color=\"b\",\n",
    "    label=r\"Mean ROC (AUC = %0.2f $\\pm$ %0.2f)\" % (mean_auc, std_auc),\n",
    "    lw=2,\n",
    "    alpha=0.8,\n",
    ")\n",
    "\n",
    "std_tpr = np.std(tprs, axis=0)\n",
    "tprs_upper = np.minimum(mean_tpr + std_tpr, 1)\n",
    "tprs_lower = np.maximum(mean_tpr - std_tpr, 0)\n",
    "ax.fill_between(\n",
    "    mean_fpr,\n",
    "    tprs_lower,\n",
    "    tprs_upper,\n",
    "    color=\"grey\",\n",
    "    alpha=0.2,\n",
    "    label=r\"$\\pm$ 1 std. dev.\",\n",
    ")\n",
    "\n",
    "ax.set(\n",
    "    xlim=[-0.05, 1.05],\n",
    "    ylim=[-0.05, 1.05],\n",
    "    title=\"Receiver operating characteristic for Rice daten with random forest model\",\n",
    ")\n",
    "ax.legend(loc = \"lower right\")\n",
    "plt.show()"
   ]
  },
  {
   "cell_type": "markdown",
   "id": "807a8a51",
   "metadata": {},
   "source": [
    "## (4) Plotten"
   ]
  },
  {
   "cell_type": "markdown",
   "id": "683b3c77",
   "metadata": {},
   "source": [
    "eine Kurve mit der Suchzeit, in Abhängigkeit von der Anzahl an CPU-Kernen."
   ]
  },
  {
   "cell_type": "markdown",
   "id": "744897cd",
   "metadata": {},
   "source": [
    "LogisticRegression Model"
   ]
  },
  {
   "cell_type": "code",
   "execution_count": 134,
   "id": "e670019d",
   "metadata": {},
   "outputs": [
    {
     "data": {
      "text/plain": "<Figure size 432x288 with 1 Axes>",
      "image/png": "[encoded data removed]"
     },
     "metadata": {
      "needs_background": "light"
     },
     "output_type": "display_data"
    }
   ],
   "source": [
    "clf1 = GridSearchCV(estimator = LogisticRegression(), param_grid = {'n_jobs': [-2, -1, 1, 2, 3, 4, 5]}, cv = 6).fit(X_train, y_train)\n",
    "results1 = pd.DataFrame(clf1.cv_results_)\n",
    "fig, ax = plt.subplots()\n",
    "ax.plot(results1.param_n_jobs, results1.mean_fit_time, linewidth = 2.0)\n",
    "plt.title('Kurve für LogisticRegression Model')\n",
    "plt.xlabel('die Anzahl an CPU-Kernen')\n",
    "plt.ylabel('Suchzeit')\n",
    "ax.set(xlim = (-3, 6), ylim = (0, 1))\n",
    "plt.show()"
   ]
  },
  {
   "cell_type": "markdown",
   "id": "6ca5917d",
   "metadata": {},
   "source": [
    "GaussianNB"
   ]
  },
  {
   "cell_type": "code",
   "execution_count": 135,
   "id": "a235a342",
   "metadata": {},
   "outputs": [
    {
     "data": {
      "text/plain": "<Figure size 432x288 with 1 Axes>",
      "image/png": "[encoded data removed]"
     },
     "metadata": {
      "needs_background": "light"
     },
     "output_type": "display_data"
    }
   ],
   "source": [
    "# GaussianNB kann sehr schnell laufen\n",
    "\n",
    "fig, ax = plt.subplots()\n",
    "plt.title('Kurve für SVM Model')\n",
    "plt.xlabel('die Anzahl an CPU-Kernen')\n",
    "plt.ylabel('Suchzeit')\n",
    "ax.set(xlim = (-3, 6), ylim = (0, 0.025))\n",
    "\n",
    "i = -2\n",
    "for i in range(-2, 6):\n",
    "    if i == 0: \n",
    "        continue\n",
    "    clf2 = GridSearchCV(estimator = GaussianNB(), param_grid = {}, n_jobs = i).fit(X_train, y_train)\n",
    "    results2 = pd.DataFrame(clf2.cv_results_).mean_fit_time\n",
    "    ax.plot(i, results2, 'ro')\n",
    "    i = i + 1"
   ]
  },
  {
   "cell_type": "markdown",
   "id": "f8dd1e55",
   "metadata": {},
   "source": [
    "Vergleich zwischen RandomForestClassifier und GaussianNB Classifier"
   ]
  },
  {
   "cell_type": "code",
   "execution_count": 136,
   "id": "28efaa61",
   "metadata": {},
   "outputs": [],
   "source": [
    "results3 = pd.DataFrame()\n",
    "results4 = pd.DataFrame()\n",
    "\n",
    "i = -2\n",
    "for i in range(-2, 6):\n",
    "    if i == 0: \n",
    "        continue\n",
    "    clf3 = GridSearchCV(estimator = RandomForestClassifier(), param_grid = {}, n_jobs = i).fit(X_train, y_train)\n",
    "    results3 = pd.concat([results3, pd.DataFrame(clf3.cv_results_)], axis = 0, ignore_index = True)\n",
    "    i = i + 1\n",
    "    \n",
    "j = -2\n",
    "for j in range(-2, 6):\n",
    "    if j == 0: \n",
    "        continue\n",
    "    clf4 = GridSearchCV(estimator = svm.SVC(), param_grid = {}, n_jobs = j).fit(X_train, y_train)\n",
    "    results4 = pd.concat([results4, pd.DataFrame(clf4.cv_results_)], axis = 0, ignore_index = True)\n",
    "    j = j + 1"
   ]
  },
  {
   "cell_type": "code",
   "execution_count": 137,
   "id": "9e819dcb",
   "metadata": {},
   "outputs": [
    {
     "data": {
      "text/plain": "   n_jobs  RandomForestClassifier  SVM Classifier\n0      -2                0.376712        0.114051\n1      -1                0.376602        0.112603\n2       1                0.250976        0.077063\n3       2                0.276264        0.084978\n4       3                0.301742        0.092382\n5       4                0.329682        0.101409\n6       5                0.378210        0.114345",
      "text/html": "<div>\n<style scoped>\n    .dataframe tbody tr th:only-of-type {\n        vertical-align: middle;\n    }\n\n    .dataframe tbody tr th {\n        vertical-align: top;\n    }\n\n    .dataframe thead th {\n        text-align: right;\n    }\n</style>\n<table border=\"1\" class=\"dataframe\">\n  <thead>\n    <tr style=\"text-align: right;\">\n      <th></th>\n      <th>n_jobs</th>\n      <th>RandomForestClassifier</th>\n      <th>SVM Classifier</th>\n    </tr>\n  </thead>\n  <tbody>\n    <tr>\n      <th>0</th>\n      <td>-2</td>\n      <td>0.376712</td>\n      <td>0.114051</td>\n    </tr>\n    <tr>\n      <th>1</th>\n      <td>-1</td>\n      <td>0.376602</td>\n      <td>0.112603</td>\n    </tr>\n    <tr>\n      <th>2</th>\n      <td>1</td>\n      <td>0.250976</td>\n      <td>0.077063</td>\n    </tr>\n    <tr>\n      <th>3</th>\n      <td>2</td>\n      <td>0.276264</td>\n      <td>0.084978</td>\n    </tr>\n    <tr>\n      <th>4</th>\n      <td>3</td>\n      <td>0.301742</td>\n      <td>0.092382</td>\n    </tr>\n    <tr>\n      <th>5</th>\n      <td>4</td>\n      <td>0.329682</td>\n      <td>0.101409</td>\n    </tr>\n    <tr>\n      <th>6</th>\n      <td>5</td>\n      <td>0.378210</td>\n      <td>0.114345</td>\n    </tr>\n  </tbody>\n</table>\n</div>"
     },
     "execution_count": 137,
     "metadata": {},
     "output_type": "execute_result"
    }
   ],
   "source": [
    "results = pd.DataFrame({\n",
    "    'n_jobs': [-2, -1, 1, 2, 3, 4, 5],\n",
    "    'RandomForestClassifier': results3['mean_fit_time'],\n",
    "    'SVM Classifier': results4['mean_fit_time'],\n",
    "})\n",
    "\n",
    "results"
   ]
  },
  {
   "cell_type": "code",
   "execution_count": 138,
   "id": "befce11d",
   "metadata": {},
   "outputs": [
    {
     "data": {
      "text/plain": "<matplotlib.legend.Legend at 0x7f6e5431b9d0>"
     },
     "execution_count": 138,
     "metadata": {},
     "output_type": "execute_result"
    },
    {
     "data": {
      "text/plain": "<Figure size 432x288 with 1 Axes>",
      "image/png": "[encoded data removed]"
     },
     "metadata": {
      "needs_background": "light"
     },
     "output_type": "display_data"
    }
   ],
   "source": [
    "fig, ax = plt.subplots()\n",
    "plt.title('Vergleich zwischen RandomForestClassifier und SVM Classifier')\n",
    "plt.xlabel('die Anzahl an CPU-Kernen')\n",
    "plt.ylabel('Suchzeit')\n",
    "ax.set(xlim = (-3, 6), ylim=(0, 2))\n",
    "\n",
    "ax.plot(results['n_jobs'], results['RandomForestClassifier'],  label = 'RandomForestClassifier', c = 'blue')\n",
    "plt.plot(results['n_jobs'], results['RandomForestClassifier'] + results3['std_fit_time'], \"b--\")\n",
    "plt.plot(results['n_jobs'], results['RandomForestClassifier'] - results3['std_fit_time'], \"b--\")\n",
    "\n",
    "plt.fill_between(results['n_jobs'], \n",
    "                 results['RandomForestClassifier'] + results3['std_fit_time'], results['RandomForestClassifier'] - results3['std_fit_time'], alpha = 0.2)\n",
    "\n",
    "ax.plot(results['n_jobs'], results['SVM Classifier'], label = 'SVM', c = 'red')\n",
    "plt.plot(results['n_jobs'], results['SVM Classifier'] + results4['std_fit_time'], \"r--\")\n",
    "plt.plot(results['n_jobs'], results['SVM Classifier'] - results4['std_fit_time'], \"r--\")\n",
    "\n",
    "plt.fill_between(results['n_jobs'], results['SVM Classifier'] + results4['std_fit_time'], results['SVM Classifier'] - results4['std_fit_time'], alpha = 0.2)\n",
    "\n",
    "plt.legend(loc=\"upper left\")"
   ]
  },
  {
   "cell_type": "code",
   "execution_count": 139,
   "id": "f63a09f5",
   "metadata": {},
   "outputs": [
    {
     "data": {
      "text/plain": "Text(0.5, 1.0, 'Boxplot für RandomForestClassifier und SVM Classifier')"
     },
     "execution_count": 139,
     "metadata": {},
     "output_type": "execute_result"
    },
    {
     "data": {
      "text/plain": "<Figure size 432x288 with 1 Axes>",
      "image/png": "[encoded data removed]"
     },
     "metadata": {
      "needs_background": "light"
     },
     "output_type": "display_data"
    }
   ],
   "source": [
    "boxplot = results.boxplot(column=['RandomForestClassifier', 'SVM Classifier'])\n",
    "plt.title('Boxplot für RandomForestClassifier und SVM Classifier')"
   ]
  },
  {
   "cell_type": "markdown",
   "id": "9eeeea7d",
   "metadata": {},
   "source": [
    "Zielmetrik in Abhängigkeit von einem Hyperparameter für RandomForestClassifier"
   ]
  },
  {
   "cell_type": "code",
   "execution_count": 140,
   "id": "13eeaa84",
   "metadata": {},
   "outputs": [],
   "source": [
    "df_gridsearch_randForest = pd.DataFrame(gridsearch_randForest.cv_results_)"
   ]
  },
  {
   "cell_type": "code",
   "execution_count": 141,
   "id": "b4062c5b",
   "metadata": {},
   "outputs": [
    {
     "data": {
      "text/plain": "0.943214724034523"
     },
     "execution_count": 141,
     "metadata": {},
     "output_type": "execute_result"
    }
   ],
   "source": [
    "roc_auc_score(y_train, gridsearch_randForest.predict_proba(X_train)[:, 1])"
   ]
  },
  {
   "cell_type": "code",
   "execution_count": 142,
   "id": "3ce0ebfc",
   "metadata": {},
   "outputs": [
    {
     "data": {
      "text/plain": "0.9475370919881306"
     },
     "execution_count": 142,
     "metadata": {},
     "output_type": "execute_result"
    }
   ],
   "source": [
    "roc_auc_score(y_test, gridsearch_randForest.predict_proba(X_test)[:, 1])"
   ]
  },
  {
   "cell_type": "code",
   "execution_count": 143,
   "id": "6731c3dd",
   "metadata": {},
   "outputs": [
    {
     "data": {
      "text/plain": "   mean_fit_time  std_fit_time  mean_score_time  std_score_time  \\\n0       0.006360      0.000199         0.002043        0.000257   \n1       0.006117      0.000206         0.001925        0.000111   \n2       0.227036      0.001803         0.015626        0.000104   \n3       0.226876      0.001417         0.015806        0.000182   \n4       0.010192      0.000227         0.002034        0.000065   \n5       0.009874      0.000260         0.002237        0.000147   \n6       0.481986      0.007078         0.020791        0.000283   \n7       0.480700      0.007423         0.021370        0.000731   \n\n  param_max_depth param_n_estimators param_random_state  \\\n0               1                  3                  0   \n1               1                  3                 10   \n2               1                200                  0   \n3               1                200                 10   \n4              10                  3                  0   \n5              10                  3                 10   \n6              10                200                  0   \n7              10                200                 10   \n\n                                              params  split0_test_score  \\\n0  {'max_depth': 1, 'n_estimators': 3, 'random_st...           0.873770   \n1  {'max_depth': 1, 'n_estimators': 3, 'random_st...           0.911475   \n2  {'max_depth': 1, 'n_estimators': 200, 'random_...           0.901639   \n3  {'max_depth': 1, 'n_estimators': 200, 'random_...           0.898361   \n4  {'max_depth': 10, 'n_estimators': 3, 'random_s...           0.903279   \n5  {'max_depth': 10, 'n_estimators': 3, 'random_s...           0.888525   \n6  {'max_depth': 10, 'n_estimators': 200, 'random...           0.911475   \n7  {'max_depth': 10, 'n_estimators': 200, 'random...           0.911475   \n\n   split1_test_score  split2_test_score  split3_test_score  split4_test_score  \\\n0           0.880328           0.896721           0.858785           0.878489   \n1           0.934426           0.947541           0.926108           0.921182   \n2           0.932787           0.924590           0.906404           0.911330   \n3           0.931148           0.926230           0.904762           0.912972   \n4           0.919672           0.922951           0.909688           0.909688   \n5           0.913115           0.916393           0.901478           0.911330   \n6           0.926230           0.944262           0.917898           0.917898   \n7           0.926230           0.936066           0.919540           0.919540   \n\n   mean_test_score  std_test_score  rank_test_score  \n0         0.877619        0.012186                8  \n1         0.928147        0.012216                1  \n2         0.915350        0.011607                4  \n3         0.914694        0.012427                5  \n4         0.913056        0.007211                6  \n5         0.906168        0.010127                7  \n6         0.923553        0.011365                2  \n7         0.922570        0.008209                3  ",
      "text/html": "<div>\n<style scoped>\n    .dataframe tbody tr th:only-of-type {\n        vertical-align: middle;\n    }\n\n    .dataframe tbody tr th {\n        vertical-align: top;\n    }\n\n    .dataframe thead th {\n        text-align: right;\n    }\n</style>\n<table border=\"1\" class=\"dataframe\">\n  <thead>\n    <tr style=\"text-align: right;\">\n      <th></th>\n      <th>mean_fit_time</th>\n      <th>std_fit_time</th>\n      <th>mean_score_time</th>\n      <th>std_score_time</th>\n      <th>param_max_depth</th>\n      <th>param_n_estimators</th>\n      <th>param_random_state</th>\n      <th>params</th>\n      <th>split0_test_score</th>\n      <th>split1_test_score</th>\n      <th>split2_test_score</th>\n      <th>split3_test_score</th>\n      <th>split4_test_score</th>\n      <th>mean_test_score</th>\n      <th>std_test_score</th>\n      <th>rank_test_score</th>\n    </tr>\n  </thead>\n  <tbody>\n    <tr>\n      <th>0</th>\n      <td>0.006360</td>\n      <td>0.000199</td>\n      <td>0.002043</td>\n      <td>0.000257</td>\n      <td>1</td>\n      <td>3</td>\n      <td>0</td>\n      <td>{'max_depth': 1, 'n_estimators': 3, 'random_st...</td>\n      <td>0.873770</td>\n      <td>0.880328</td>\n      <td>0.896721</td>\n      <td>0.858785</td>\n      <td>0.878489</td>\n      <td>0.877619</td>\n      <td>0.012186</td>\n      <td>8</td>\n    </tr>\n    <tr>\n      <th>1</th>\n      <td>0.006117</td>\n      <td>0.000206</td>\n      <td>0.001925</td>\n      <td>0.000111</td>\n      <td>1</td>\n      <td>3</td>\n      <td>10</td>\n      <td>{'max_depth': 1, 'n_estimators': 3, 'random_st...</td>\n      <td>0.911475</td>\n      <td>0.934426</td>\n      <td>0.947541</td>\n      <td>0.926108</td>\n      <td>0.921182</td>\n      <td>0.928147</td>\n      <td>0.012216</td>\n      <td>1</td>\n    </tr>\n    <tr>\n      <th>2</th>\n      <td>0.227036</td>\n      <td>0.001803</td>\n      <td>0.015626</td>\n      <td>0.000104</td>\n      <td>1</td>\n      <td>200</td>\n      <td>0</td>\n      <td>{'max_depth': 1, 'n_estimators': 200, 'random_...</td>\n      <td>0.901639</td>\n      <td>0.932787</td>\n      <td>0.924590</td>\n      <td>0.906404</td>\n      <td>0.911330</td>\n      <td>0.915350</td>\n      <td>0.011607</td>\n      <td>4</td>\n    </tr>\n    <tr>\n      <th>3</th>\n      <td>0.226876</td>\n      <td>0.001417</td>\n      <td>0.015806</td>\n      <td>0.000182</td>\n      <td>1</td>\n      <td>200</td>\n      <td>10</td>\n      <td>{'max_depth': 1, 'n_estimators': 200, 'random_...</td>\n      <td>0.898361</td>\n      <td>0.931148</td>\n      <td>0.926230</td>\n      <td>0.904762</td>\n      <td>0.912972</td>\n      <td>0.914694</td>\n      <td>0.012427</td>\n      <td>5</td>\n    </tr>\n    <tr>\n      <th>4</th>\n      <td>0.010192</td>\n      <td>0.000227</td>\n      <td>0.002034</td>\n      <td>0.000065</td>\n      <td>10</td>\n      <td>3</td>\n      <td>0</td>\n      <td>{'max_depth': 10, 'n_estimators': 3, 'random_s...</td>\n      <td>0.903279</td>\n      <td>0.919672</td>\n      <td>0.922951</td>\n      <td>0.909688</td>\n      <td>0.909688</td>\n      <td>0.913056</td>\n      <td>0.007211</td>\n      <td>6</td>\n    </tr>\n    <tr>\n      <th>5</th>\n      <td>0.009874</td>\n      <td>0.000260</td>\n      <td>0.002237</td>\n      <td>0.000147</td>\n      <td>10</td>\n      <td>3</td>\n      <td>10</td>\n      <td>{'max_depth': 10, 'n_estimators': 3, 'random_s...</td>\n      <td>0.888525</td>\n      <td>0.913115</td>\n      <td>0.916393</td>\n      <td>0.901478</td>\n      <td>0.911330</td>\n      <td>0.906168</td>\n      <td>0.010127</td>\n      <td>7</td>\n    </tr>\n    <tr>\n      <th>6</th>\n      <td>0.481986</td>\n      <td>0.007078</td>\n      <td>0.020791</td>\n      <td>0.000283</td>\n      <td>10</td>\n      <td>200</td>\n      <td>0</td>\n      <td>{'max_depth': 10, 'n_estimators': 200, 'random...</td>\n      <td>0.911475</td>\n      <td>0.926230</td>\n      <td>0.944262</td>\n      <td>0.917898</td>\n      <td>0.917898</td>\n      <td>0.923553</td>\n      <td>0.011365</td>\n      <td>2</td>\n    </tr>\n    <tr>\n      <th>7</th>\n      <td>0.480700</td>\n      <td>0.007423</td>\n      <td>0.021370</td>\n      <td>0.000731</td>\n      <td>10</td>\n      <td>200</td>\n      <td>10</td>\n      <td>{'max_depth': 10, 'n_estimators': 200, 'random...</td>\n      <td>0.911475</td>\n      <td>0.926230</td>\n      <td>0.936066</td>\n      <td>0.919540</td>\n      <td>0.919540</td>\n      <td>0.922570</td>\n      <td>0.008209</td>\n      <td>3</td>\n    </tr>\n  </tbody>\n</table>\n</div>"
     },
     "execution_count": 143,
     "metadata": {},
     "output_type": "execute_result"
    }
   ],
   "source": [
    "roc = list()\n",
    "for i in range(2, 6):\n",
    "    gridsearch_randForest = GridSearchCV(estimator = RandomForestClassifier(), \n",
    "                                         param_grid = {'max_depth': [1, 10], 'n_estimators': [3, 200], 'random_state': [0, 10]}, cv = i).fit(X_train, y_train)\n",
    "    roc.append( roc_auc_score(y_train, gridsearch_randForest.predict_proba(X_train)[:, 1]) )\n",
    "    i = i + 1\n",
    "pd.DataFrame(gridsearch_randForest.cv_results_)"
   ]
  },
  {
   "cell_type": "code",
   "execution_count": 144,
   "id": "30c3fc73",
   "metadata": {},
   "outputs": [
    {
     "data": {
      "text/plain": "[(1.0, 6.0), (0.0, 1.5)]"
     },
     "execution_count": 144,
     "metadata": {},
     "output_type": "execute_result"
    },
    {
     "data": {
      "text/plain": "<Figure size 432x288 with 1 Axes>",
      "image/png": "[encoded data removed]"
     },
     "metadata": {
      "needs_background": "light"
     },
     "output_type": "display_data"
    }
   ],
   "source": [
    "plt.plot([2, 3, 4, 5], roc, 'bo')\n",
    "plt.title('ROC Kurve für gridsearch_randForest Model, in Abhängigkeit von Hyperparametern cv')\n",
    "plt.xlabel('Cross Validation')\n",
    "plt.ylabel('ROC')\n",
    "ax.set(xlim = (1, 6), ylim = (0, 1.5))"
   ]
  },
  {
   "cell_type": "code",
   "execution_count": 144,
   "id": "8fda0d93",
   "metadata": {},
   "outputs": [],
   "source": []
  }
 ],
 "metadata": {
  "kernelspec": {
   "display_name": "Python 3 (ipykernel)",
   "language": "python",
   "name": "python3"
  },
  "language_info": {
   "codemirror_mode": {
    "name": "ipython",
    "version": 3
   },
   "file_extension": ".py",
   "mimetype": "text/x-python",
   "name": "python",
   "nbconvert_exporter": "python",
   "pygments_lexer": "ipython3",
   "version": "3.8.10"
  }
 },
 "nbformat": 4,
 "nbformat_minor": 5
}