{
 "cells": [
  {
   "cell_type": "markdown",
   "id": "2e6f691e",
   "metadata": {},
   "source": [
    "# Aufgabe 6 Cross Validation und Grid Search"
   ]
  },
  {
   "cell_type": "markdown",
   "id": "72eb6862",
   "metadata": {},
   "source": [
    "## (1) ein Datensatz für die Klassifikationsaufgabe"
   ]
  },
  {
   "cell_type": "markdown",
   "id": "2c29858b",
   "metadata": {},
   "source": [
    "Ich habe einen Datensatz von Commeo and Osmancik Rice Dataset ( siehe https://www.muratkoklu.com/datasets/ ) gesucht. Für die beiden Arten wurden insgesamt 3810 Bilder von Reiskörnern aufgenommen, verarbeitet und Rückschlüsse auf Merkmale gezogen. Für jedes Reiskorn wurden 7 morphologische Merkmale erhalten."
   ]
  },
  {
   "cell_type": "code",
   "execution_count": 1,
   "id": "35ccec1c",
   "metadata": {},
   "outputs": [],
   "source": [
    "# import all the important basic packages\n",
    "\n",
    "import pandas as pd\n",
    "import numpy as np\n",
    "import matplotlib.pyplot as plt\n",
    "import seaborn as sns\n",
    "from sklearn.model_selection import train_test_split\n",
    "from sklearn.model_selection import GridSearchCV\n",
    "from sklearn.metrics import accuracy_score\n",
    "from joblib import Parallel"
   ]
  },
  {
   "cell_type": "code",
   "execution_count": 2,
   "id": "bf72ad25",
   "metadata": {},
   "outputs": [],
   "source": [
    "# import data\n",
    "\n",
    "rice_df = pd.read_excel ('../dataset/Rice_Cammeo_Osmancik.xlsx')"
   ]
  },
  {
   "cell_type": "markdown",
   "id": "778b6962",
   "metadata": {},
   "source": [
    "Die Beschreibung des Datensatzes lautet wie folgt:"
   ]
  },
  {
   "cell_type": "code",
   "execution_count": 3,
   "id": "3bb8a708",
   "metadata": {},
   "outputs": [
    {
     "name": "stdout",
     "output_type": "stream",
     "text": [
      "<class 'pandas.core.frame.DataFrame'>\n",
      "RangeIndex: 3810 entries, 0 to 3809\n",
      "Data columns (total 8 columns):\n",
      " #   Column             Non-Null Count  Dtype  \n",
      "---  ------             --------------  -----  \n",
      " 0   Area               3810 non-null   int64  \n",
      " 1   Perimeter          3810 non-null   float64\n",
      " 2   Major_Axis_Length  3810 non-null   float64\n",
      " 3   Minor_Axis_Length  3810 non-null   float64\n",
      " 4   Eccentricity       3810 non-null   float64\n",
      " 5   Convex_Area        3810 non-null   int64  \n",
      " 6   Extent             3810 non-null   float64\n",
      " 7   Class              3810 non-null   object \n",
      "dtypes: float64(5), int64(2), object(1)\n",
      "memory usage: 238.2+ KB\n"
     ]
    }
   ],
   "source": [
    "rice_df.info()"
   ]
  },
  {
   "cell_type": "code",
   "execution_count": 4,
   "id": "7059af94",
   "metadata": {},
   "outputs": [
    {
     "data": {
      "text/html": [
       "<div>\n",
       "<style scoped>\n",
       "    .dataframe tbody tr th:only-of-type {\n",
       "        vertical-align: middle;\n",
       "    }\n",
       "\n",
       "    .dataframe tbody tr th {\n",
       "        vertical-align: top;\n",
       "    }\n",
       "\n",
       "    .dataframe thead th {\n",
       "        text-align: right;\n",
       "    }\n",
       "</style>\n",
       "<table border=\"1\" class=\"dataframe\">\n",
       "  <thead>\n",
       "    <tr style=\"text-align: right;\">\n",
       "      <th></th>\n",
       "      <th>Area</th>\n",
       "      <th>Perimeter</th>\n",
       "      <th>Major_Axis_Length</th>\n",
       "      <th>Minor_Axis_Length</th>\n",
       "      <th>Eccentricity</th>\n",
       "      <th>Convex_Area</th>\n",
       "      <th>Extent</th>\n",
       "      <th>Class</th>\n",
       "    </tr>\n",
       "  </thead>\n",
       "  <tbody>\n",
       "    <tr>\n",
       "      <th>0</th>\n",
       "      <td>15231</td>\n",
       "      <td>525.578979</td>\n",
       "      <td>229.749878</td>\n",
       "      <td>85.093788</td>\n",
       "      <td>0.928882</td>\n",
       "      <td>15617</td>\n",
       "      <td>0.572896</td>\n",
       "      <td>Cammeo</td>\n",
       "    </tr>\n",
       "    <tr>\n",
       "      <th>1</th>\n",
       "      <td>14656</td>\n",
       "      <td>494.311005</td>\n",
       "      <td>206.020065</td>\n",
       "      <td>91.730972</td>\n",
       "      <td>0.895405</td>\n",
       "      <td>15072</td>\n",
       "      <td>0.615436</td>\n",
       "      <td>Cammeo</td>\n",
       "    </tr>\n",
       "    <tr>\n",
       "      <th>2</th>\n",
       "      <td>14634</td>\n",
       "      <td>501.122009</td>\n",
       "      <td>214.106781</td>\n",
       "      <td>87.768288</td>\n",
       "      <td>0.912118</td>\n",
       "      <td>14954</td>\n",
       "      <td>0.693259</td>\n",
       "      <td>Cammeo</td>\n",
       "    </tr>\n",
       "    <tr>\n",
       "      <th>3</th>\n",
       "      <td>13176</td>\n",
       "      <td>458.342987</td>\n",
       "      <td>193.337387</td>\n",
       "      <td>87.448395</td>\n",
       "      <td>0.891861</td>\n",
       "      <td>13368</td>\n",
       "      <td>0.640669</td>\n",
       "      <td>Cammeo</td>\n",
       "    </tr>\n",
       "    <tr>\n",
       "      <th>4</th>\n",
       "      <td>14688</td>\n",
       "      <td>507.166992</td>\n",
       "      <td>211.743378</td>\n",
       "      <td>89.312454</td>\n",
       "      <td>0.906691</td>\n",
       "      <td>15262</td>\n",
       "      <td>0.646024</td>\n",
       "      <td>Cammeo</td>\n",
       "    </tr>\n",
       "  </tbody>\n",
       "</table>\n",
       "</div>"
      ],
      "text/plain": [
       "    Area   Perimeter  Major_Axis_Length  Minor_Axis_Length  Eccentricity  \\\n",
       "0  15231  525.578979         229.749878          85.093788      0.928882   \n",
       "1  14656  494.311005         206.020065          91.730972      0.895405   \n",
       "2  14634  501.122009         214.106781          87.768288      0.912118   \n",
       "3  13176  458.342987         193.337387          87.448395      0.891861   \n",
       "4  14688  507.166992         211.743378          89.312454      0.906691   \n",
       "\n",
       "   Convex_Area    Extent   Class  \n",
       "0        15617  0.572896  Cammeo  \n",
       "1        15072  0.615436  Cammeo  \n",
       "2        14954  0.693259  Cammeo  \n",
       "3        13368  0.640669  Cammeo  \n",
       "4        15262  0.646024  Cammeo  "
      ]
     },
     "execution_count": 4,
     "metadata": {},
     "output_type": "execute_result"
    }
   ],
   "source": [
    "rice_df.head()"
   ]
  },
  {
   "cell_type": "markdown",
   "id": "b1821d64",
   "metadata": {},
   "source": [
    "## (2) Unter verschiedenen Algorithmen und Hyperparameter das \"beste\" Modell zu finden"
   ]
  },
  {
   "cell_type": "code",
   "execution_count": 5,
   "id": "d8501643",
   "metadata": {},
   "outputs": [],
   "source": [
    "# orignial Daten preprocessing\n",
    "# Training Set and Testing Set spliting\n",
    "\n",
    "X, y = rice_df.drop(columns = 'Class'), rice_df['Class']\n",
    "X_train, X_test, y_train, y_test = train_test_split(X, y, test_size = 0.2)"
   ]
  },
  {
   "cell_type": "markdown",
   "id": "6edb4295",
   "metadata": {},
   "source": [
    "### (a) Modell 1: Logistic Regression"
   ]
  },
  {
   "cell_type": "code",
   "execution_count": 6,
   "id": "792f167d",
   "metadata": {},
   "outputs": [
    {
     "data": {
      "text/plain": [
       "0.9409448818897638"
      ]
     },
     "execution_count": 6,
     "metadata": {},
     "output_type": "execute_result"
    }
   ],
   "source": [
    "from sklearn.linear_model import LogisticRegression\n",
    "\n",
    "LogistReg_clf = LogisticRegression().fit(X_train, y_train)\n",
    "LogistReg_clf.score(X_test, y_test)"
   ]
  },
  {
   "cell_type": "markdown",
   "id": "3e5efb17",
   "metadata": {},
   "source": [
    "Logistic Regression mit dem Anpassen der Hyperparameter eines Schätzers"
   ]
  },
  {
   "cell_type": "code",
   "execution_count": 7,
   "id": "296e2e8b",
   "metadata": {},
   "outputs": [
    {
     "name": "stdout",
     "output_type": "stream",
     "text": [
      "Best Estimator is: LogisticRegression(C=1, random_state=1)\n",
      "Best score on train dataset is: 0.9288093892163989\n",
      "The score on test dataset is: 0.9409448818897638\n"
     ]
    }
   ],
   "source": [
    "gridsearch_LogistReg = GridSearchCV(estimator = LogisticRegression(), param_grid = {'C': [1, 5], 'random_state': [1, 5]}).fit(X_train, y_train)\n",
    "\n",
    "print(\"Best Estimator is: {}\".format(gridsearch_LogistReg.best_estimator_))\n",
    "print(\"Best score on train dataset is: {}\".format(gridsearch_LogistReg.best_score_))\n",
    "print(\"The score on test dataset is: {}\".format(gridsearch_LogistReg.score(X_test, y_test)))"
   ]
  },
  {
   "cell_type": "markdown",
   "id": "fdc864e6",
   "metadata": {},
   "source": [
    "### (b) Modell 2: Ridge Classifier"
   ]
  },
  {
   "cell_type": "code",
   "execution_count": 8,
   "id": "47737ca1",
   "metadata": {},
   "outputs": [
    {
     "data": {
      "text/plain": [
       "0.9356955380577427"
      ]
     },
     "execution_count": 8,
     "metadata": {},
     "output_type": "execute_result"
    }
   ],
   "source": [
    "from sklearn.linear_model import RidgeClassifier\n",
    "\n",
    "Ridge_clf = RidgeClassifier().fit(X_train, y_train)\n",
    "Ridge_clf.score(X_test, y_test)"
   ]
  },
  {
   "cell_type": "markdown",
   "id": "9bdb669f",
   "metadata": {},
   "source": [
    "Ridge Classifier mit dem Anpassen der Hyperparameter eines Schätzers"
   ]
  },
  {
   "cell_type": "code",
   "execution_count": 9,
   "id": "ba19d01c",
   "metadata": {},
   "outputs": [
    {
     "name": "stdout",
     "output_type": "stream",
     "text": [
      "Best Estimator is: LogisticRegression(C=1, random_state=1)\n",
      "Best score on train dataset is: 0.9288093892163989\n",
      "The score on test dataset is: 0.9409448818897638\n"
     ]
    }
   ],
   "source": [
    "gridsearch_Ridge = GridSearchCV(estimator = RidgeClassifier(), param_grid = {'alpha': [1, 5], 'random_state': [1, 5]}).fit(X_train, y_train)\n",
    "\n",
    "print(\"Best Estimator is: {}\".format(gridsearch_LogistReg.best_estimator_))\n",
    "print(\"Best score on train dataset is: {}\".format(gridsearch_LogistReg.best_score_))\n",
    "print(\"The score on test dataset is: {}\".format(gridsearch_LogistReg.score(X_test, y_test)))"
   ]
  },
  {
   "cell_type": "markdown",
   "id": "7ab82176",
   "metadata": {},
   "source": [
    "### (c) Modell 3: benutzen Gradient Decent zur Verbesserung (rule update)"
   ]
  },
  {
   "cell_type": "code",
   "execution_count": 10,
   "id": "9d38906a",
   "metadata": {},
   "outputs": [
    {
     "data": {
      "text/plain": [
       "0.8202099737532809"
      ]
     },
     "execution_count": 10,
     "metadata": {},
     "output_type": "execute_result"
    }
   ],
   "source": [
    "from sklearn.linear_model import SGDClassifier\n",
    "\n",
    "SGD_clf = SGDClassifier().fit(X_train, y_train)\n",
    "SGD_clf.score(X_test, y_test)"
   ]
  },
  {
   "cell_type": "markdown",
   "id": "5867b793",
   "metadata": {},
   "source": [
    "SGDClassifier mit dem Anpassen der Hyperparameter eines Schätzers"
   ]
  },
  {
   "cell_type": "code",
   "execution_count": 11,
   "id": "1aafda77",
   "metadata": {},
   "outputs": [
    {
     "name": "stdout",
     "output_type": "stream",
     "text": [
      "Best Estimator is: SGDClassifier(alpha=10, early_stopping=True, max_iter=100, random_state=10)\n",
      "Best score on train dataset is: 0.5902107728337237\n",
      "The score on test dataset is: 0.573490813648294\n"
     ]
    }
   ],
   "source": [
    "gridsearch_SGD = GridSearchCV(estimator = SGDClassifier(), \n",
    "                              param_grid = {'alpha': [1, 10], 'max_iter': [100, 10000], 'early_stopping': [True], 'random_state': [1, 10]}).fit(X_train, y_train)\n",
    "\n",
    "print(\"Best Estimator is: {}\".format(gridsearch_SGD.best_estimator_))\n",
    "print(\"Best score on train dataset is: {}\".format(gridsearch_SGD.best_score_))\n",
    "print(\"The score on test dataset is: {}\".format(gridsearch_SGD.score(X_test, y_test)))"
   ]
  },
  {
   "cell_type": "markdown",
   "id": "2dbfa4c4",
   "metadata": {},
   "source": [
    "### (d) Modell 4: Support Vector Machines, SVM"
   ]
  },
  {
   "cell_type": "markdown",
   "id": "5b2e03a9",
   "metadata": {},
   "source": [
    "hard SVM"
   ]
  },
  {
   "cell_type": "code",
   "execution_count": 12,
   "id": "49d09286",
   "metadata": {},
   "outputs": [
    {
     "data": {
      "text/plain": [
       "0.8937007874015748"
      ]
     },
     "execution_count": 12,
     "metadata": {},
     "output_type": "execute_result"
    }
   ],
   "source": [
    "from sklearn import svm\n",
    "\n",
    "svm_clf = svm.SVC().fit(X_train, y_train)\n",
    "svm_clf.score(X_test, y_test)"
   ]
  },
  {
   "cell_type": "markdown",
   "id": "08eb7e68",
   "metadata": {},
   "source": [
    "soft SVM"
   ]
  },
  {
   "cell_type": "code",
   "execution_count": 13,
   "id": "a0c3fe19",
   "metadata": {},
   "outputs": [
    {
     "data": {
      "text/plain": [
       "0.8937007874015748"
      ]
     },
     "execution_count": 13,
     "metadata": {},
     "output_type": "execute_result"
    }
   ],
   "source": [
    "svm_rbf_clf = svm.SVC(kernel = 'rbf', probability = True).fit(X_train, y_train)\n",
    "svm_rbf_clf.score(X_test, y_test)"
   ]
  },
  {
   "cell_type": "markdown",
   "id": "319c1231",
   "metadata": {},
   "source": [
    "SVM mit dem Anpassen der Hyperparameter eines Schätzers "
   ]
  },
  {
   "cell_type": "code",
   "execution_count": 14,
   "id": "2c233a4f",
   "metadata": {},
   "outputs": [
    {
     "name": "stdout",
     "output_type": "stream",
     "text": [
      "Best Estimator is: SVC(C=10, degree=1, kernel='linear')\n",
      "Best score on train dataset is: 0.9271668147191041\n",
      "The score on test dataset is: 0.9383202099737533\n"
     ]
    }
   ],
   "source": [
    "gridsearch_svm = GridSearchCV(\n",
    "    estimator = svm.SVC(), param_grid = {'C': [1, 10], 'kernel': ('linear', 'rbf', 'poly', 'sigmoid'), 'degree': [1, 5]}).fit(X_train, y_train)\n",
    "\n",
    "print(\"Best Estimator is: {}\".format(gridsearch_svm.best_estimator_))\n",
    "print(\"Best score on train dataset is: {}\".format(gridsearch_svm.best_score_))\n",
    "print(\"The score on test dataset is: {}\".format(gridsearch_svm.score(X_test, y_test)))"
   ]
  },
  {
   "cell_type": "code",
   "execution_count": 15,
   "id": "b3dfb2bd",
   "metadata": {},
   "outputs": [
    {
     "data": {
      "text/plain": [
       "{'mean_fit_time': array([1.79901581, 0.08633995, 0.06103854, 0.18877282, 1.79700255,\n",
       "        0.08674688, 0.0646842 , 0.19279947, 1.39187374, 0.0869792 ,\n",
       "        0.06096082, 0.15758843, 1.42019076, 0.0888752 , 0.09604287,\n",
       "        0.15732121]),\n",
       " 'std_fit_time': array([0.5223385 , 0.00223661, 0.00259079, 0.02416145, 0.51560618,\n",
       "        0.00159218, 0.00186544, 0.02392751, 0.35514479, 0.00265827,\n",
       "        0.00289215, 0.06119734, 0.37032309, 0.00246434, 0.00658359,\n",
       "        0.05779761]),\n",
       " 'mean_score_time': array([0.00595784, 0.05235543, 0.01388488, 0.04048042, 0.0060935 ,\n",
       "        0.05306559, 0.01189857, 0.04214578, 0.00611548, 0.05066061,\n",
       "        0.01271057, 0.03948998, 0.00659509, 0.05047822, 0.01311011,\n",
       "        0.03693199]),\n",
       " 'std_score_time': array([0.00013346, 0.00105859, 0.00137818, 0.00047507, 0.00016061,\n",
       "        0.0007532 , 0.00016957, 0.00088898, 0.00017683, 0.00097264,\n",
       "        0.00072041, 0.0181217 , 0.00013487, 0.00185546, 0.0003907 ,\n",
       "        0.01291903]),\n",
       " 'param_C': masked_array(data=[1, 1, 1, 1, 1, 1, 1, 1, 10, 10, 10, 10, 10, 10, 10, 10],\n",
       "              mask=[False, False, False, False, False, False, False, False,\n",
       "                    False, False, False, False, False, False, False, False],\n",
       "        fill_value='?',\n",
       "             dtype=object),\n",
       " 'param_degree': masked_array(data=[1, 1, 1, 1, 5, 5, 5, 5, 1, 1, 1, 1, 5, 5, 5, 5],\n",
       "              mask=[False, False, False, False, False, False, False, False,\n",
       "                    False, False, False, False, False, False, False, False],\n",
       "        fill_value='?',\n",
       "             dtype=object),\n",
       " 'param_kernel': masked_array(data=['linear', 'rbf', 'poly', 'sigmoid', 'linear', 'rbf',\n",
       "                    'poly', 'sigmoid', 'linear', 'rbf', 'poly', 'sigmoid',\n",
       "                    'linear', 'rbf', 'poly', 'sigmoid'],\n",
       "              mask=[False, False, False, False, False, False, False, False,\n",
       "                    False, False, False, False, False, False, False, False],\n",
       "        fill_value='?',\n",
       "             dtype=object),\n",
       " 'params': [{'C': 1, 'degree': 1, 'kernel': 'linear'},\n",
       "  {'C': 1, 'degree': 1, 'kernel': 'rbf'},\n",
       "  {'C': 1, 'degree': 1, 'kernel': 'poly'},\n",
       "  {'C': 1, 'degree': 1, 'kernel': 'sigmoid'},\n",
       "  {'C': 1, 'degree': 5, 'kernel': 'linear'},\n",
       "  {'C': 1, 'degree': 5, 'kernel': 'rbf'},\n",
       "  {'C': 1, 'degree': 5, 'kernel': 'poly'},\n",
       "  {'C': 1, 'degree': 5, 'kernel': 'sigmoid'},\n",
       "  {'C': 10, 'degree': 1, 'kernel': 'linear'},\n",
       "  {'C': 10, 'degree': 1, 'kernel': 'rbf'},\n",
       "  {'C': 10, 'degree': 1, 'kernel': 'poly'},\n",
       "  {'C': 10, 'degree': 1, 'kernel': 'sigmoid'},\n",
       "  {'C': 10, 'degree': 5, 'kernel': 'linear'},\n",
       "  {'C': 10, 'degree': 5, 'kernel': 'rbf'},\n",
       "  {'C': 10, 'degree': 5, 'kernel': 'poly'},\n",
       "  {'C': 10, 'degree': 5, 'kernel': 'sigmoid'}],\n",
       " 'split0_test_score': array([0.90819672, 0.86721311, 0.86721311, 0.21639344, 0.90819672,\n",
       "        0.86721311, 0.86557377, 0.21639344, 0.91639344, 0.86557377,\n",
       "        0.86885246, 0.20327869, 0.91639344, 0.86557377, 0.8704918 ,\n",
       "        0.20327869]),\n",
       " 'split1_test_score': array([0.92622951, 0.87540984, 0.87540984, 0.21311475, 0.92622951,\n",
       "        0.87540984, 0.87868852, 0.21311475, 0.92622951, 0.87868852,\n",
       "        0.87704918, 0.20655738, 0.92622951, 0.87868852, 0.88032787,\n",
       "        0.20655738]),\n",
       " 'split2_test_score': array([0.93770492, 0.88360656, 0.88360656, 0.22131148, 0.93770492,\n",
       "        0.88360656, 0.8852459 , 0.22131148, 0.93442623, 0.88688525,\n",
       "        0.8852459 , 0.21311475, 0.93442623, 0.88688525, 0.89016393,\n",
       "        0.21311475]),\n",
       " 'split3_test_score': array([0.93103448, 0.89162562, 0.89162562, 0.19047619, 0.93103448,\n",
       "        0.89162562, 0.89819376, 0.19047619, 0.93103448, 0.8998358 ,\n",
       "        0.88834154, 0.17898194, 0.93103448, 0.8998358 , 0.88998358,\n",
       "        0.17898194]),\n",
       " 'split4_test_score': array([0.92939245, 0.87027915, 0.87192118, 0.2183908 , 0.92939245,\n",
       "        0.87027915, 0.87027915, 0.2183908 , 0.92775041, 0.87192118,\n",
       "        0.87027915, 0.87520525, 0.92775041, 0.87192118, 0.88013136,\n",
       "        0.87520525]),\n",
       " 'mean_test_score': array([0.92651162, 0.87762685, 0.87795526, 0.21193733, 0.92651162,\n",
       "        0.87762685, 0.87959622, 0.21193733, 0.92716681, 0.8805809 ,\n",
       "        0.87795365, 0.3354276 , 0.92716681, 0.8805809 , 0.88221971,\n",
       "        0.3354276 ]),\n",
       " 'std_test_score': array([0.00989505, 0.00893389, 0.00868445, 0.01105754, 0.00989505,\n",
       "        0.00893389, 0.01150694, 0.01105754, 0.00608182, 0.01195225,\n",
       "        0.00779273, 0.27013569, 0.00608182, 0.01195225, 0.00733311,\n",
       "        0.27013569]),\n",
       " 'rank_test_score': array([ 3, 11,  9, 15,  3, 11,  8, 15,  1,  6, 10, 13,  1,  6,  5, 13],\n",
       "       dtype=int32)}"
      ]
     },
     "execution_count": 15,
     "metadata": {},
     "output_type": "execute_result"
    }
   ],
   "source": [
    "gridsearch_svm.cv_results_"
   ]
  },
  {
   "cell_type": "markdown",
   "id": "9fb633ee",
   "metadata": {},
   "source": [
    "### (e) Modell 5: k-Nearest Neighbor"
   ]
  },
  {
   "cell_type": "code",
   "execution_count": 16,
   "id": "d5161183",
   "metadata": {},
   "outputs": [
    {
     "data": {
      "text/plain": [
       "0.9041994750656168"
      ]
     },
     "execution_count": 16,
     "metadata": {},
     "output_type": "execute_result"
    }
   ],
   "source": [
    "from sklearn.neighbors import KNeighborsClassifier\n",
    "\n",
    "neigh_clf = KNeighborsClassifier().fit(X_train, y_train)\n",
    "neigh_clf.score(X_test, y_test)"
   ]
  },
  {
   "cell_type": "markdown",
   "id": "d79b271d",
   "metadata": {},
   "source": [
    "KNeighborsClassifier  mit dem Anpassen der Hyperparameter eines Schätzers"
   ]
  },
  {
   "cell_type": "code",
   "execution_count": 17,
   "id": "4c269b6c",
   "metadata": {},
   "outputs": [
    {
     "name": "stdout",
     "output_type": "stream",
     "text": [
      "Best Estimator is: KNeighborsClassifier(leaf_size=1, n_neighbors=10)\n",
      "Best score on train dataset is: 0.8736891975557889\n",
      "The score on test dataset is: 0.9002624671916011\n"
     ]
    }
   ],
   "source": [
    "gridsearch_neigh = GridSearchCV(estimator = KNeighborsClassifier(), \n",
    "                                param_grid = {'n_neighbors': [1, 10], 'algorithm': ('auto', 'ball_tree', 'kd_tree', 'brute'), 'leaf_size': [1, 50]}).fit(X_train, y_train)\n",
    "\n",
    "print(\"Best Estimator is: {}\".format(gridsearch_neigh.best_estimator_))\n",
    "print(\"Best score on train dataset is: {}\".format(gridsearch_neigh.best_score_))\n",
    "print(\"The score on test dataset is: {}\".format(gridsearch_neigh.score(X_test, y_test)))"
   ]
  },
  {
   "cell_type": "markdown",
   "id": "15767912",
   "metadata": {},
   "source": [
    "### (f) Modell 6: Decision Tree"
   ]
  },
  {
   "cell_type": "code",
   "execution_count": 18,
   "id": "69f88e8e",
   "metadata": {},
   "outputs": [
    {
     "data": {
      "text/plain": [
       "0.8871391076115486"
      ]
     },
     "execution_count": 18,
     "metadata": {},
     "output_type": "execute_result"
    }
   ],
   "source": [
    "from sklearn import tree\n",
    "\n",
    "DT_clf = tree.DecisionTreeClassifier().fit(X_train, y_train)\n",
    "DT_clf.score(X_test, y_test)"
   ]
  },
  {
   "cell_type": "markdown",
   "id": "39800570",
   "metadata": {},
   "source": [
    "Decision Tree mit dem Anpassen der Hyperparameter eines Schätzers"
   ]
  },
  {
   "cell_type": "code",
   "execution_count": 19,
   "id": "faaf3368",
   "metadata": {},
   "outputs": [
    {
     "name": "stdout",
     "output_type": "stream",
     "text": [
      "Best Estimator is: DecisionTreeClassifier(max_depth=1)\n",
      "Best score on train dataset is: 0.9268405609841448\n",
      "The score on test dataset is: 0.9304461942257218\n"
     ]
    }
   ],
   "source": [
    "gridsearch_DT = GridSearchCV(\n",
    "    estimator = tree.DecisionTreeClassifier(), \n",
    "    param_grid = {'criterion': ('gini', 'entropy'), 'splitter': ('best', 'random'), 'max_depth': [1, 50], 'min_samples_leaf': [1, 10]}).fit(X_train, y_train)\n",
    "\n",
    "print(\"Best Estimator is: {}\".format(gridsearch_DT.best_estimator_))\n",
    "print(\"Best score on train dataset is: {}\".format(gridsearch_DT.best_score_))\n",
    "print(\"The score on test dataset is: {}\".format(gridsearch_DT.score(X_test, y_test)))"
   ]
  },
  {
   "cell_type": "markdown",
   "id": "d65313b7",
   "metadata": {},
   "source": [
    "### (g) Bayesian Classification"
   ]
  },
  {
   "cell_type": "markdown",
   "id": "6a28bebb",
   "metadata": {},
   "source": [
    "#### Modell 7 Naive Bayes classifier for multivariate Bernoulli models"
   ]
  },
  {
   "cell_type": "code",
   "execution_count": 20,
   "id": "d4bfbcb0",
   "metadata": {},
   "outputs": [
    {
     "data": {
      "text/plain": [
       "0.573490813648294"
      ]
     },
     "execution_count": 20,
     "metadata": {},
     "output_type": "execute_result"
    }
   ],
   "source": [
    "from sklearn.naive_bayes import BernoulliNB\n",
    "\n",
    "Bernoulli_clf = BernoulliNB().fit(X_train, y_train)\n",
    "Bernoulli_clf.score(X_test, y_test)"
   ]
  },
  {
   "cell_type": "code",
   "execution_count": 21,
   "id": "4261ac54",
   "metadata": {},
   "outputs": [
    {
     "name": "stdout",
     "output_type": "stream",
     "text": [
      "Best Estimator is: BernoulliNB(alpha=1, fit_prior=False)\n",
      "Best score on train dataset is: 0.5718501170960186\n",
      "The score on test dataset is: 0.573490813648294\n"
     ]
    }
   ],
   "source": [
    "gridsearch_Bernoulli = GridSearchCV(estimator = BernoulliNB(), param_grid = {'alpha': [1, 2], 'fit_prior': [False]}).fit(X_train, y_train)\n",
    "\n",
    "print(\"Best Estimator is: {}\".format(gridsearch_Bernoulli.best_estimator_))\n",
    "print(\"Best score on train dataset is: {}\".format(gridsearch_Bernoulli.best_score_))\n",
    "print(\"The score on test dataset is: {}\".format(gridsearch_Bernoulli.score(X_test, y_test)))"
   ]
  },
  {
   "cell_type": "markdown",
   "id": "b29e2c4e",
   "metadata": {},
   "source": [
    "#### Modell 8 Naive Bayes classifier for categorical features"
   ]
  },
  {
   "cell_type": "code",
   "execution_count": 22,
   "id": "2008a198",
   "metadata": {},
   "outputs": [
    {
     "data": {
      "text/plain": [
       "0.573490813648294"
      ]
     },
     "execution_count": 22,
     "metadata": {},
     "output_type": "execute_result"
    }
   ],
   "source": [
    "from sklearn.preprocessing import OrdinalEncoder\n",
    "from sklearn.naive_bayes import CategoricalNB\n",
    "\n",
    "enc = OrdinalEncoder()\n",
    "\n",
    "x_train = enc.fit(X_train).fit_transform(X_train)\n",
    "x_test = enc.fit(X_test).fit_transform(X_test)\n",
    "\n",
    "Categ_clf = CategoricalNB().fit(x_train, y_train)\n",
    "Categ_clf.score(x_test, y_test)"
   ]
  },
  {
   "cell_type": "markdown",
   "id": "5f3c08fe",
   "metadata": {},
   "source": [
    "#### Modell 9 Gaussian Naive Bayes algorithm for classification"
   ]
  },
  {
   "cell_type": "code",
   "execution_count": 23,
   "id": "aeacd5f5",
   "metadata": {},
   "outputs": [
    {
     "data": {
      "text/plain": [
       "0.9212598425196851"
      ]
     },
     "execution_count": 23,
     "metadata": {},
     "output_type": "execute_result"
    }
   ],
   "source": [
    "from sklearn.naive_bayes import GaussianNB\n",
    "\n",
    "Gaussian_clf = GaussianNB().fit(X_train, y_train)\n",
    "Gaussian_clf.score(X_test, y_test)"
   ]
  },
  {
   "cell_type": "code",
   "execution_count": 24,
   "id": "ebd89ad5",
   "metadata": {},
   "outputs": [
    {
     "name": "stdout",
     "output_type": "stream",
     "text": [
      "Best Estimator is: GaussianNB(var_smoothing=0)\n",
      "Best score on train dataset is: 0.9140450617782443\n",
      "The score on test dataset is: 0.931758530183727\n"
     ]
    }
   ],
   "source": [
    "gridsearch_Gaussian = GridSearchCV(estimator = GaussianNB(), param_grid = {'var_smoothing': [0, 1]}).fit(X_train, y_train)\n",
    "\n",
    "print(\"Best Estimator is: {}\".format(gridsearch_Gaussian.best_estimator_))\n",
    "print(\"Best score on train dataset is: {}\".format(gridsearch_Gaussian.best_score_))\n",
    "print(\"The score on test dataset is: {}\".format(gridsearch_Gaussian.score(X_test, y_test)))"
   ]
  },
  {
   "cell_type": "markdown",
   "id": "8e31a22e",
   "metadata": {},
   "source": [
    "#### Modell 10 Naive Bayes classifier for multinomial models"
   ]
  },
  {
   "cell_type": "code",
   "execution_count": 25,
   "id": "62d9b556",
   "metadata": {},
   "outputs": [
    {
     "data": {
      "text/plain": [
       "0.8674540682414699"
      ]
     },
     "execution_count": 25,
     "metadata": {},
     "output_type": "execute_result"
    }
   ],
   "source": [
    "from sklearn.naive_bayes import MultinomialNB\n",
    "\n",
    "Multi_Gaussian_clf = MultinomialNB().fit(X_train, y_train)\n",
    "Multi_Gaussian_clf.score(X_test, y_test)"
   ]
  },
  {
   "cell_type": "code",
   "execution_count": 26,
   "id": "a67a3ce8",
   "metadata": {},
   "outputs": [
    {
     "name": "stdout",
     "output_type": "stream",
     "text": [
      "Best Estimator is: MultinomialNB(alpha=0.001)\n",
      "Best score on train dataset is: 0.8510533257961184\n",
      "The score on test dataset is: 0.8674540682414699\n"
     ]
    }
   ],
   "source": [
    "gridsearch_Multi_Gaussian = GridSearchCV(estimator = MultinomialNB(), param_grid = {'alpha': [0.001, 2]}).fit(X_train, y_train)\n",
    "\n",
    "print(\"Best Estimator is: {}\".format(gridsearch_Multi_Gaussian.best_estimator_))\n",
    "print(\"Best score on train dataset is: {}\".format(gridsearch_Multi_Gaussian.best_score_))\n",
    "print(\"The score on test dataset is: {}\".format(gridsearch_Multi_Gaussian.score(X_test, y_test)))"
   ]
  },
  {
   "cell_type": "markdown",
   "id": "03ca1c66",
   "metadata": {},
   "source": [
    "### (h) Modell 11: Neural Networks"
   ]
  },
  {
   "cell_type": "code",
   "execution_count": 27,
   "id": "b6efb79b",
   "metadata": {},
   "outputs": [
    {
     "data": {
      "text/plain": [
       "0.45013123359580054"
      ]
     },
     "execution_count": 27,
     "metadata": {},
     "output_type": "execute_result"
    }
   ],
   "source": [
    "from sklearn.neural_network import MLPClassifier\n",
    "\n",
    "MLP_clf = MLPClassifier().fit(X_train, y_train)\n",
    "MLP_clf.score(X_test, y_test)"
   ]
  },
  {
   "cell_type": "code",
   "execution_count": 28,
   "id": "5ebd1e80",
   "metadata": {},
   "outputs": [
    {
     "name": "stdout",
     "output_type": "stream",
     "text": [
      "Best Estimator is: MLPClassifier(hidden_layer_sizes=10, max_iter=1000, random_state=20)\n",
      "Best Parameter is: {'activation': 'relu', 'alpha': 0.0001, 'hidden_layer_sizes': 10, 'learning_rate': 'constant', 'max_iter': 1000, 'random_state': 20}\n",
      "Best score on train dataset is: 0.7909951815661257\n",
      "The score on test dataset is: 0.8307086614173228\n"
     ]
    }
   ],
   "source": [
    "import warnings\n",
    "warnings.filterwarnings(\"ignore\")\n",
    "\n",
    "gridsearch_MLP = GridSearchCV(\n",
    "    estimator = MLPClassifier(), \n",
    "    param_grid = {'hidden_layer_sizes': [1, 10], 'random_state': [1, 20], 'max_iter': [1000, 10000], \n",
    "                  'activation': ('identity', 'logistic', 'relu', 'tanh'), \n",
    "                  'alpha': [0.0001, 1], 'learning_rate': ('constant', 'invscaling', 'adaptive')}).fit(X_train, y_train)\n",
    "\n",
    "print(\"Best Estimator is: {}\".format(gridsearch_MLP.best_estimator_))\n",
    "print(\"Best Parameter is: {}\".format(gridsearch_MLP.best_params_))\n",
    "print(\"Best score on train dataset is: {}\".format(gridsearch_MLP.best_score_))\n",
    "print(\"The score on test dataset is: {}\".format(gridsearch_MLP.score(X_test, y_test)))"
   ]
  },
  {
   "cell_type": "markdown",
   "id": "5fa62b78",
   "metadata": {},
   "source": [
    "### (i) Ensemble methods"
   ]
  },
  {
   "cell_type": "markdown",
   "id": "22532776",
   "metadata": {},
   "source": [
    "#### Modell 12: Bagging meta-estimator"
   ]
  },
  {
   "cell_type": "code",
   "execution_count": 29,
   "id": "f9bea565",
   "metadata": {},
   "outputs": [
    {
     "data": {
      "text/plain": [
       "0.8923884514435696"
      ]
     },
     "execution_count": 29,
     "metadata": {},
     "output_type": "execute_result"
    }
   ],
   "source": [
    "from sklearn.ensemble import BaggingClassifier\n",
    "\n",
    "Bag_clf = BaggingClassifier(base_estimator = svm.SVC(), n_estimators=10, random_state = 0).fit(X_train, y_train)\n",
    "Bag_clf.score(X_test, y_test)"
   ]
  },
  {
   "cell_type": "markdown",
   "id": "b4927487",
   "metadata": {},
   "source": [
    " #### Modell 13: Forests of randomized trees"
   ]
  },
  {
   "cell_type": "code",
   "execution_count": 30,
   "id": "b0ebb7ec",
   "metadata": {},
   "outputs": [
    {
     "data": {
      "text/plain": [
       "0.9304461942257218"
      ]
     },
     "execution_count": 30,
     "metadata": {},
     "output_type": "execute_result"
    }
   ],
   "source": [
    "from sklearn.ensemble import RandomForestClassifier\n",
    "\n",
    "randForest_clf= RandomForestClassifier().fit(X_train, y_train)\n",
    "randForest_clf.score(X_test, y_test)"
   ]
  },
  {
   "cell_type": "code",
   "execution_count": 31,
   "id": "3717f218",
   "metadata": {},
   "outputs": [
    {
     "name": "stdout",
     "output_type": "stream",
     "text": [
      "Best Estimator is: RandomForestClassifier(max_depth=1, n_estimators=3, random_state=10)\n",
      "Best score on train dataset is: 0.9268372703412074\n",
      "The score on test dataset is: 0.9343832020997376\n"
     ]
    }
   ],
   "source": [
    "gridsearch_randForest = GridSearchCV(estimator = RandomForestClassifier(), \n",
    "                                     param_grid = {'max_depth': [1, 10], 'n_estimators': [3, 200], 'random_state': [0, 10]}, cv = 6).fit(X_train, y_train)\n",
    "\n",
    "print(\"Best Estimator is: {}\".format(gridsearch_randForest.best_estimator_))\n",
    "print(\"Best score on train dataset is: {}\".format(gridsearch_randForest.best_score_))\n",
    "print(\"The score on test dataset is: {}\".format(gridsearch_randForest.score(X_test, y_test)))"
   ]
  },
  {
   "cell_type": "markdown",
   "id": "34971cda",
   "metadata": {},
   "source": [
    "#### Modell 14: Boosting - AdaBoost"
   ]
  },
  {
   "cell_type": "code",
   "execution_count": 32,
   "id": "c0ac36d8",
   "metadata": {},
   "outputs": [
    {
     "name": "stdout",
     "output_type": "stream",
     "text": [
      "Best Estimator is: AdaBoostClassifier(n_estimators=3, random_state=0)\n",
      "Best score on train dataset is: 0.9268405609841448\n",
      "The score on test dataset is: 0.9304461942257218\n"
     ]
    }
   ],
   "source": [
    "from sklearn.ensemble import AdaBoostClassifier\n",
    "\n",
    "AdaBoost_clf = AdaBoostClassifier()\n",
    "\n",
    "gridsearch_AdaBoost = GridSearchCV(estimator = AdaBoostClassifier(), \n",
    "                                     param_grid = {'n_estimators': [3, 200], 'random_state': [0, 10]}).fit(X_train, y_train)\n",
    "\n",
    "print(\"Best Estimator is: {}\".format(gridsearch_AdaBoost.best_estimator_))\n",
    "print(\"Best score on train dataset is: {}\".format(gridsearch_AdaBoost.best_score_))\n",
    "print(\"The score on test dataset is: {}\".format(gridsearch_AdaBoost.score(X_test, y_test)))"
   ]
  },
  {
   "cell_type": "code",
   "execution_count": 33,
   "id": "c58888f2",
   "metadata": {},
   "outputs": [
    {
     "name": "stdout",
     "output_type": "stream",
     "text": [
      "Best Estimator is: AdaBoostClassifier(n_estimators=3, random_state=0)\n",
      "Best score on train dataset is: 0.9268405609841448\n",
      "The score on test dataset is: 0.9304461942257218\n"
     ]
    }
   ],
   "source": [
    "from sklearn.ensemble import GradientBoostingClassifier\n",
    "\n",
    "GraBoost_clf = GradientBoostingClassifier()\n",
    "\n",
    "gridsearch_GraBoost = GridSearchCV(\n",
    "    estimator = AdaBoostClassifier(), \n",
    "    param_grid = {'n_estimators': [3, 200], 'learning_rate': [0.1, 1.0], 'random_state': [0, 10]}).fit(X_train, y_train)\n",
    "\n",
    "print(\"Best Estimator is: {}\".format(gridsearch_GraBoost.best_estimator_))\n",
    "print(\"Best score on train dataset is: {}\".format(gridsearch_GraBoost.best_score_))\n",
    "print(\"The score on test dataset is: {}\".format(gridsearch_GraBoost.score(X_test, y_test)))"
   ]
  },
  {
   "cell_type": "code",
   "execution_count": 34,
   "id": "fb6464bc",
   "metadata": {},
   "outputs": [
    {
     "name": "stdout",
     "output_type": "stream",
     "text": [
      "Best Estimator is: HistGradientBoostingClassifier(max_iter=3, max_leaf_nodes=20)\n",
      "Best score on train dataset is: 0.9186389943201702\n",
      "The score on test dataset is: 0.9278215223097113\n"
     ]
    }
   ],
   "source": [
    "from sklearn.ensemble import HistGradientBoostingClassifier\n",
    "\n",
    "HistGraBoost_clf = HistGradientBoostingClassifier()\n",
    "\n",
    "gridsearch_HistGraBoost = GridSearchCV(\n",
    "    estimator = HistGradientBoostingClassifier(), \n",
    "    param_grid = {'max_iter': [3, 200], 'learning_rate': [0.1, 1.0], 'max_bins': [100, 255], 'max_leaf_nodes': [20, 50]}).fit(X_train, y_train)\n",
    "\n",
    "print(\"Best Estimator is: {}\".format(gridsearch_HistGraBoost.best_estimator_))\n",
    "print(\"Best score on train dataset is: {}\".format(gridsearch_HistGraBoost.best_score_))\n",
    "print(\"The score on test dataset is: {}\".format(gridsearch_HistGraBoost.score(X_test, y_test)))"
   ]
  },
  {
   "cell_type": "markdown",
   "id": "00af25c4",
   "metadata": {},
   "source": [
    "#### Modell 15.1 Voting Classifier - hard"
   ]
  },
  {
   "cell_type": "code",
   "execution_count": 35,
   "id": "98638d59",
   "metadata": {},
   "outputs": [
    {
     "name": "stdout",
     "output_type": "stream",
     "text": [
      "Accuracy: 0.92 (+/- 0.02) [Random Forest]\n",
      "Accuracy: 0.93 (+/- 0.02) [Logistic Regression]\n",
      "Accuracy: 0.92 (+/- 0.01) [Ensemble]\n"
     ]
    }
   ],
   "source": [
    "from sklearn.model_selection import cross_val_score\n",
    "from sklearn.ensemble import VotingClassifier\n",
    "\n",
    "vot_hard_clf = VotingClassifier(estimators = [('rf', randForest_clf), ('lr', LogistReg_clf)], voting = 'hard')\n",
    "\n",
    "for clf, label in zip([randForest_clf, LogistReg_clf, vot_hard_clf], ['Random Forest', 'Logistic Regression', 'Ensemble']):\n",
    "    scores = cross_val_score(clf, X, y, scoring = 'accuracy', cv = 8)\n",
    "    print(\"Accuracy: %0.2f (+/- %0.2f) [%s]\" % (scores.mean(), scores.std(), label))"
   ]
  },
  {
   "cell_type": "markdown",
   "id": "770741ab",
   "metadata": {},
   "source": [
    "#### Modell 15.2: Voting Classifier - soft"
   ]
  },
  {
   "cell_type": "code",
   "execution_count": 36,
   "id": "690fadb9",
   "metadata": {},
   "outputs": [
    {
     "name": "stdout",
     "output_type": "stream",
     "text": [
      "Accuracy: 0.89 (+/- 0.02) [Decision Tree]\n",
      "Accuracy: 0.88 (+/- 0.03) [Soft SVM]\n",
      "Accuracy: 0.90 (+/- 0.03) [Ensemble]\n"
     ]
    }
   ],
   "source": [
    "# Training classifiers\n",
    "\n",
    "vot_soft_clf = VotingClassifier(estimators = [('dt', DT_clf), ('svc', svm_rbf_clf)], voting = 'soft', weights = [3, 5])\n",
    "\n",
    "for clf, label in zip([DT_clf, svm_rbf_clf, vot_soft_clf], ['Decision Tree', 'Soft SVM', 'Ensemble']):\n",
    "    scores = cross_val_score(clf, X, y, scoring = 'accuracy', cv = 5)\n",
    "    print(\"Accuracy: %0.2f (+/- %0.2f) [%s]\" % (scores.mean(), scores.std(), label))"
   ]
  },
  {
   "cell_type": "markdown",
   "id": "880f7f00",
   "metadata": {},
   "source": [
    "## (3) Zielmetrik auswählen"
   ]
  },
  {
   "cell_type": "markdown",
   "id": "fbc0b80c",
   "metadata": {},
   "source": [
    "Area Under the Receiver Operating Characteristic Curve (ROC AUC)\n",
    "Receiver Operating Characteristics (ROC) Curves, which can make a tradeoff between hit rate (TP) and false alarm (FP) over nosiy channels.\n",
    "Area under the Curve (AUC) can be used to measure the quality of an Algorithm."
   ]
  },
  {
   "cell_type": "markdown",
   "id": "3bf54e49",
   "metadata": {},
   "source": [
    "ROC kann einen Kompromiss zwischen Trefferrate (TP) und Fehlalarm (FP) über verrauschte Kanäle eingehen.\n",
    "AUC kann verwendet werden, um die Qualität eines Algorithmus zu messen"
   ]
  },
  {
   "cell_type": "code",
   "execution_count": 37,
   "id": "60e75b46",
   "metadata": {},
   "outputs": [
    {
     "data": {
      "image/png": "[encoded data removed]",
      "text/plain": [
       "<Figure size 432x288 with 1 Axes>"
      ]
     },
     "metadata": {
      "needs_background": "light"
     },
     "output_type": "display_data"
    }
   ],
   "source": [
    "from sklearn import metrics\n",
    "from itertools import cycle\n",
    "from sklearn.metrics import auc\n",
    "from sklearn.metrics import roc_auc_score\n",
    "from sklearn.metrics import RocCurveDisplay\n",
    "from sklearn.model_selection import StratifiedKFold\n",
    "\n",
    "cv = StratifiedKFold(n_splits = 2)\n",
    "classifier = RandomForestClassifier(max_depth = 10, n_estimators = 200, random_state = 0)\n",
    "\n",
    "tprs = []\n",
    "aucs = []\n",
    "mean_fpr = np.linspace(0, 1, 100)\n",
    "\n",
    "fig, ax = plt.subplots()\n",
    "for i, (train, test) in enumerate(cv.split(X, y)):\n",
    "    classifier.fit(X_train, y_train)\n",
    "    viz = RocCurveDisplay.from_estimator(\n",
    "        classifier,\n",
    "        X_test,\n",
    "        y_test,\n",
    "        name = \"ROC fold {}\".format(i),\n",
    "        lw = 1,\n",
    "        ax = ax,\n",
    "    )\n",
    "    interp_tpr = np.interp(mean_fpr, viz.fpr, viz.tpr)\n",
    "    interp_tpr[0] = 0.0\n",
    "    tprs.append(interp_tpr)\n",
    "    aucs.append(viz.roc_auc)\n",
    "\n",
    "ax.plot([0, 1], [0, 1], linestyle = \"--\", lw = 2, color = \"r\", label = \"Chance\", alpha = 0.8)\n",
    "\n",
    "mean_tpr = np.mean(tprs, axis=0)\n",
    "mean_tpr[-1] = 1.0\n",
    "mean_auc = auc(mean_fpr, mean_tpr)\n",
    "std_auc = np.std(aucs)\n",
    "ax.plot(\n",
    "    mean_fpr,\n",
    "    mean_tpr,\n",
    "    color=\"b\",\n",
    "    label=r\"Mean ROC (AUC = %0.2f $\\pm$ %0.2f)\" % (mean_auc, std_auc),\n",
    "    lw=2,\n",
    "    alpha=0.8,\n",
    ")\n",
    "\n",
    "std_tpr = np.std(tprs, axis=0)\n",
    "tprs_upper = np.minimum(mean_tpr + std_tpr, 1)\n",
    "tprs_lower = np.maximum(mean_tpr - std_tpr, 0)\n",
    "ax.fill_between(\n",
    "    mean_fpr,\n",
    "    tprs_lower,\n",
    "    tprs_upper,\n",
    "    color=\"grey\",\n",
    "    alpha=0.2,\n",
    "    label=r\"$\\pm$ 1 std. dev.\",\n",
    ")\n",
    "\n",
    "ax.set(\n",
    "    xlim=[-0.05, 1.05],\n",
    "    ylim=[-0.05, 1.05],\n",
    "    title=\"Receiver operating characteristic for Rice daten with random forest model\",\n",
    ")\n",
    "ax.legend(loc = \"lower right\")\n",
    "plt.show()"
   ]
  },
  {
   "cell_type": "markdown",
   "id": "807a8a51",
   "metadata": {},
   "source": [
    "## (4) Plotten"
   ]
  },
  {
   "cell_type": "markdown",
   "id": "683b3c77",
   "metadata": {},
   "source": [
    "eine Kurve mit der Suchzeit, in Abhängigkeit von der Anzahl an CPU-Kernen."
   ]
  },
  {
   "cell_type": "markdown",
   "id": "744897cd",
   "metadata": {},
   "source": [
    "LogisticRegression Model"
   ]
  },
  {
   "cell_type": "code",
   "execution_count": 49,
   "id": "e670019d",
   "metadata": {},
   "outputs": [
    {
     "data": {
      "image/png": "[encoded data removed]",
      "text/plain": [
       "<Figure size 432x288 with 1 Axes>"
      ]
     },
     "metadata": {
      "needs_background": "light"
     },
     "output_type": "display_data"
    }
   ],
   "source": [
    "clf1 = GridSearchCV(estimator = LogisticRegression(), param_grid = {'n_jobs': [-2, -1, 1, 2, 3, 4, 5]}, cv = 6).fit(X_train, y_train)\n",
    "results1 = pd.DataFrame(clf1.cv_results_)\n",
    "fig, ax = plt.subplots()\n",
    "ax.plot(results1.param_n_jobs, results1.mean_fit_time, linewidth = 2.0)\n",
    "plt.title('Kurve für LogisticRegression Model')\n",
    "plt.xlabel('die Anzahl an CPU-Kernen')\n",
    "plt.ylabel('Suchzeit')\n",
    "ax.set(xlim = (-3, 6), ylim = (0, 1))\n",
    "plt.show()"
   ]
  },
  {
   "cell_type": "markdown",
   "id": "6ca5917d",
   "metadata": {},
   "source": [
    "GaussianNB"
   ]
  },
  {
   "cell_type": "code",
   "execution_count": 50,
   "id": "a235a342",
   "metadata": {},
   "outputs": [
    {
     "data": {
      "image/png": "[encoded data removed]",
      "text/plain": [
       "<Figure size 432x288 with 1 Axes>"
      ]
     },
     "metadata": {
      "needs_background": "light"
     },
     "output_type": "display_data"
    }
   ],
   "source": [
    "# GaussianNB kann sehr schnell laufen\n",
    "\n",
    "fig, ax = plt.subplots()\n",
    "plt.title('Kurve für SVM Model')\n",
    "plt.xlabel('die Anzahl an CPU-Kernen')\n",
    "plt.ylabel('Suchzeit')\n",
    "ax.set(xlim = (-3, 6), ylim = (0, 0.025))\n",
    "\n",
    "i = -2\n",
    "for i in range(-2, 6):\n",
    "    if i == 0: \n",
    "        continue\n",
    "    clf2 = GridSearchCV(estimator = GaussianNB(), param_grid = {}, n_jobs = i).fit(X_train, y_train)\n",
    "    results2 = pd.DataFrame(clf2.cv_results_).mean_fit_time\n",
    "    ax.plot(i, results2, 'ro')\n",
    "    i = i + 1"
   ]
  },
  {
   "cell_type": "markdown",
   "id": "f8dd1e55",
   "metadata": {},
   "source": [
    "Vergleich zwischen RandomForestClassifier und GaussianNB Classifier"
   ]
  },
  {
   "cell_type": "code",
   "execution_count": 40,
   "id": "28efaa61",
   "metadata": {},
   "outputs": [],
   "source": [
    "results3 = pd.DataFrame()\n",
    "results4 = pd.DataFrame()\n",
    "\n",
    "i = -2\n",
    "for i in range(-2, 6):\n",
    "    if i == 0: \n",
    "        continue\n",
    "    clf3 = GridSearchCV(estimator = RandomForestClassifier(), param_grid = {}, n_jobs = i).fit(X_train, y_train)\n",
    "    results3 = pd.concat([results3, pd.DataFrame(clf3.cv_results_)], axis = 0, ignore_index = True)\n",
    "    i = i + 1\n",
    "    \n",
    "j = -2\n",
    "for j in range(-2, 6):\n",
    "    if j == 0: \n",
    "        continue\n",
    "    clf4 = GridSearchCV(estimator = svm.SVC(), param_grid = {}, n_jobs = j).fit(X_train, y_train)\n",
    "    results4 = pd.concat([results4, pd.DataFrame(clf4.cv_results_)], axis = 0, ignore_index = True)\n",
    "    j = j + 1"
   ]
  },
  {
   "cell_type": "code",
   "execution_count": 41,
   "id": "9e819dcb",
   "metadata": {},
   "outputs": [
    {
     "data": {
      "text/html": [
       "<div>\n",
       "<style scoped>\n",
       "    .dataframe tbody tr th:only-of-type {\n",
       "        vertical-align: middle;\n",
       "    }\n",
       "\n",
       "    .dataframe tbody tr th {\n",
       "        vertical-align: top;\n",
       "    }\n",
       "\n",
       "    .dataframe thead th {\n",
       "        text-align: right;\n",
       "    }\n",
       "</style>\n",
       "<table border=\"1\" class=\"dataframe\">\n",
       "  <thead>\n",
       "    <tr style=\"text-align: right;\">\n",
       "      <th></th>\n",
       "      <th>n_jobs</th>\n",
       "      <th>RandomForestClassifier</th>\n",
       "      <th>SVM Classifier</th>\n",
       "    </tr>\n",
       "  </thead>\n",
       "  <tbody>\n",
       "    <tr>\n",
       "      <th>0</th>\n",
       "      <td>-2</td>\n",
       "      <td>1.061026</td>\n",
       "      <td>0.248117</td>\n",
       "    </tr>\n",
       "    <tr>\n",
       "      <th>1</th>\n",
       "      <td>-1</td>\n",
       "      <td>1.409119</td>\n",
       "      <td>0.326596</td>\n",
       "    </tr>\n",
       "    <tr>\n",
       "      <th>2</th>\n",
       "      <td>1</td>\n",
       "      <td>0.791328</td>\n",
       "      <td>0.156020</td>\n",
       "    </tr>\n",
       "    <tr>\n",
       "      <th>3</th>\n",
       "      <td>2</td>\n",
       "      <td>0.745377</td>\n",
       "      <td>0.242854</td>\n",
       "    </tr>\n",
       "    <tr>\n",
       "      <th>4</th>\n",
       "      <td>3</td>\n",
       "      <td>0.833200</td>\n",
       "      <td>0.292820</td>\n",
       "    </tr>\n",
       "    <tr>\n",
       "      <th>5</th>\n",
       "      <td>4</td>\n",
       "      <td>0.873443</td>\n",
       "      <td>0.289363</td>\n",
       "    </tr>\n",
       "    <tr>\n",
       "      <th>6</th>\n",
       "      <td>5</td>\n",
       "      <td>1.226071</td>\n",
       "      <td>0.448211</td>\n",
       "    </tr>\n",
       "  </tbody>\n",
       "</table>\n",
       "</div>"
      ],
      "text/plain": [
       "   n_jobs  RandomForestClassifier  SVM Classifier\n",
       "0      -2                1.061026        0.248117\n",
       "1      -1                1.409119        0.326596\n",
       "2       1                0.791328        0.156020\n",
       "3       2                0.745377        0.242854\n",
       "4       3                0.833200        0.292820\n",
       "5       4                0.873443        0.289363\n",
       "6       5                1.226071        0.448211"
      ]
     },
     "execution_count": 41,
     "metadata": {},
     "output_type": "execute_result"
    }
   ],
   "source": [
    "results = pd.DataFrame({\n",
    "    'n_jobs': [-2, -1, 1, 2, 3, 4, 5],\n",
    "    'RandomForestClassifier': results3['mean_fit_time'],\n",
    "    'SVM Classifier': results4['mean_fit_time'],\n",
    "})\n",
    "\n",
    "results"
   ]
  },
  {
   "cell_type": "code",
   "execution_count": 52,
   "id": "befce11d",
   "metadata": {},
   "outputs": [
    {
     "data": {
      "text/plain": [
       "<matplotlib.legend.Legend at 0x12bef1910>"
      ]
     },
     "execution_count": 52,
     "metadata": {},
     "output_type": "execute_result"
    },
    {
     "data": {
      "image/png": "[encoded data removed]",
      "text/plain": [
       "<Figure size 432x288 with 1 Axes>"
      ]
     },
     "metadata": {
      "needs_background": "light"
     },
     "output_type": "display_data"
    }
   ],
   "source": [
    "fig, ax = plt.subplots()\n",
    "plt.title('Vergleich zwischen RandomForestClassifier und SVM Classifier')\n",
    "plt.xlabel('die Anzahl an CPU-Kernen')\n",
    "plt.ylabel('Suchzeit')\n",
    "ax.set(xlim = (-3, 6), ylim=(0, 2))\n",
    "\n",
    "ax.plot(results['n_jobs'], results['RandomForestClassifier'],  label = 'RandomForestClassifier', c = 'blue')\n",
    "plt.plot(results['n_jobs'], results['RandomForestClassifier'] + results3['std_fit_time'], \"b--\")\n",
    "plt.plot(results['n_jobs'], results['RandomForestClassifier'] - results3['std_fit_time'], \"b--\")\n",
    "\n",
    "plt.fill_between(results['n_jobs'], \n",
    "                 results['RandomForestClassifier'] + results3['std_fit_time'], results['RandomForestClassifier'] - results3['std_fit_time'], alpha = 0.2)\n",
    "\n",
    "ax.plot(results['n_jobs'], results['SVM Classifier'], label = 'SVM', c = 'red')\n",
    "plt.plot(results['n_jobs'], results['SVM Classifier'] + results4['std_fit_time'], \"r--\")\n",
    "plt.plot(results['n_jobs'], results['SVM Classifier'] - results4['std_fit_time'], \"r--\")\n",
    "\n",
    "plt.fill_between(results['n_jobs'], results['SVM Classifier'] + results4['std_fit_time'], results['SVM Classifier'] - results4['std_fit_time'], alpha = 0.2)\n",
    "\n",
    "plt.legend(loc=\"upper left\")"
   ]
  },
  {
   "cell_type": "code",
   "execution_count": 43,
   "id": "f63a09f5",
   "metadata": {},
   "outputs": [
    {
     "data": {
      "text/plain": [
       "Text(0.5, 1.0, 'Boxplot für RandomForestClassifier und SVM Classifier')"
      ]
     },
     "execution_count": 43,
     "metadata": {},
     "output_type": "execute_result"
    },
    {
     "data": {
      "image/png": "[encoded data removed]",
      "text/plain": [
       "<Figure size 432x288 with 1 Axes>"
      ]
     },
     "metadata": {
      "needs_background": "light"
     },
     "output_type": "display_data"
    }
   ],
   "source": [
    "boxplot = results.boxplot(column=['RandomForestClassifier', 'SVM Classifier'])\n",
    "plt.title('Boxplot für RandomForestClassifier und SVM Classifier')"
   ]
  },
  {
   "cell_type": "markdown",
   "id": "9eeeea7d",
   "metadata": {},
   "source": [
    "Zielmetrik in Abhängigkeit von einem Hyperparameter für RandomForestClassifier"
   ]
  },
  {
   "cell_type": "code",
   "execution_count": 44,
   "id": "13eeaa84",
   "metadata": {},
   "outputs": [],
   "source": [
    "df_gridsearch_randForest = pd.DataFrame(gridsearch_randForest.cv_results_)"
   ]
  },
  {
   "cell_type": "code",
   "execution_count": 45,
   "id": "b4062c5b",
   "metadata": {},
   "outputs": [
    {
     "data": {
      "text/plain": [
       "0.946430055196154"
      ]
     },
     "execution_count": 45,
     "metadata": {},
     "output_type": "execute_result"
    }
   ],
   "source": [
    "roc_auc_score(y_train, gridsearch_randForest.predict_proba(X_train)[:, 1])"
   ]
  },
  {
   "cell_type": "code",
   "execution_count": 46,
   "id": "3ce0ebfc",
   "metadata": {},
   "outputs": [
    {
     "data": {
      "text/plain": [
       "0.9580918852314734"
      ]
     },
     "execution_count": 46,
     "metadata": {},
     "output_type": "execute_result"
    }
   ],
   "source": [
    "roc_auc_score(y_test, gridsearch_randForest.predict_proba(X_test)[:, 1])"
   ]
  },
  {
   "cell_type": "code",
   "execution_count": 47,
   "id": "6731c3dd",
   "metadata": {},
   "outputs": [
    {
     "data": {
      "text/html": [
       "<div>\n",
       "<style scoped>\n",
       "    .dataframe tbody tr th:only-of-type {\n",
       "        vertical-align: middle;\n",
       "    }\n",
       "\n",
       "    .dataframe tbody tr th {\n",
       "        vertical-align: top;\n",
       "    }\n",
       "\n",
       "    .dataframe thead th {\n",
       "        text-align: right;\n",
       "    }\n",
       "</style>\n",
       "<table border=\"1\" class=\"dataframe\">\n",
       "  <thead>\n",
       "    <tr style=\"text-align: right;\">\n",
       "      <th></th>\n",
       "      <th>mean_fit_time</th>\n",
       "      <th>std_fit_time</th>\n",
       "      <th>mean_score_time</th>\n",
       "      <th>std_score_time</th>\n",
       "      <th>param_max_depth</th>\n",
       "      <th>param_n_estimators</th>\n",
       "      <th>param_random_state</th>\n",
       "      <th>params</th>\n",
       "      <th>split0_test_score</th>\n",
       "      <th>split1_test_score</th>\n",
       "      <th>split2_test_score</th>\n",
       "      <th>split3_test_score</th>\n",
       "      <th>split4_test_score</th>\n",
       "      <th>mean_test_score</th>\n",
       "      <th>std_test_score</th>\n",
       "      <th>rank_test_score</th>\n",
       "    </tr>\n",
       "  </thead>\n",
       "  <tbody>\n",
       "    <tr>\n",
       "      <th>0</th>\n",
       "      <td>0.012690</td>\n",
       "      <td>0.001525</td>\n",
       "      <td>0.004364</td>\n",
       "      <td>0.001253</td>\n",
       "      <td>1</td>\n",
       "      <td>3</td>\n",
       "      <td>0</td>\n",
       "      <td>{'max_depth': 1, 'n_estimators': 3, 'random_st...</td>\n",
       "      <td>0.862295</td>\n",
       "      <td>0.878689</td>\n",
       "      <td>0.873770</td>\n",
       "      <td>0.886700</td>\n",
       "      <td>0.873563</td>\n",
       "      <td>0.875003</td>\n",
       "      <td>0.007943</td>\n",
       "      <td>8</td>\n",
       "    </tr>\n",
       "    <tr>\n",
       "      <th>1</th>\n",
       "      <td>0.012040</td>\n",
       "      <td>0.000884</td>\n",
       "      <td>0.003666</td>\n",
       "      <td>0.000469</td>\n",
       "      <td>1</td>\n",
       "      <td>3</td>\n",
       "      <td>10</td>\n",
       "      <td>{'max_depth': 1, 'n_estimators': 3, 'random_st...</td>\n",
       "      <td>0.908197</td>\n",
       "      <td>0.916393</td>\n",
       "      <td>0.939344</td>\n",
       "      <td>0.935961</td>\n",
       "      <td>0.929392</td>\n",
       "      <td>0.925857</td>\n",
       "      <td>0.011815</td>\n",
       "      <td>1</td>\n",
       "    </tr>\n",
       "    <tr>\n",
       "      <th>2</th>\n",
       "      <td>0.461633</td>\n",
       "      <td>0.045946</td>\n",
       "      <td>0.064619</td>\n",
       "      <td>0.064292</td>\n",
       "      <td>1</td>\n",
       "      <td>200</td>\n",
       "      <td>0</td>\n",
       "      <td>{'max_depth': 1, 'n_estimators': 200, 'random_...</td>\n",
       "      <td>0.901639</td>\n",
       "      <td>0.924590</td>\n",
       "      <td>0.926230</td>\n",
       "      <td>0.926108</td>\n",
       "      <td>0.911330</td>\n",
       "      <td>0.917979</td>\n",
       "      <td>0.009890</td>\n",
       "      <td>4</td>\n",
       "    </tr>\n",
       "    <tr>\n",
       "      <th>3</th>\n",
       "      <td>0.729874</td>\n",
       "      <td>0.198334</td>\n",
       "      <td>0.050768</td>\n",
       "      <td>0.017395</td>\n",
       "      <td>1</td>\n",
       "      <td>200</td>\n",
       "      <td>10</td>\n",
       "      <td>{'max_depth': 1, 'n_estimators': 200, 'random_...</td>\n",
       "      <td>0.895082</td>\n",
       "      <td>0.914754</td>\n",
       "      <td>0.922951</td>\n",
       "      <td>0.921182</td>\n",
       "      <td>0.903120</td>\n",
       "      <td>0.911418</td>\n",
       "      <td>0.010726</td>\n",
       "      <td>6</td>\n",
       "    </tr>\n",
       "    <tr>\n",
       "      <th>4</th>\n",
       "      <td>0.021215</td>\n",
       "      <td>0.001819</td>\n",
       "      <td>0.004164</td>\n",
       "      <td>0.000719</td>\n",
       "      <td>10</td>\n",
       "      <td>3</td>\n",
       "      <td>0</td>\n",
       "      <td>{'max_depth': 10, 'n_estimators': 3, 'random_s...</td>\n",
       "      <td>0.900000</td>\n",
       "      <td>0.895082</td>\n",
       "      <td>0.913115</td>\n",
       "      <td>0.922824</td>\n",
       "      <td>0.911330</td>\n",
       "      <td>0.908470</td>\n",
       "      <td>0.009867</td>\n",
       "      <td>7</td>\n",
       "    </tr>\n",
       "    <tr>\n",
       "      <th>5</th>\n",
       "      <td>0.020025</td>\n",
       "      <td>0.002349</td>\n",
       "      <td>0.004744</td>\n",
       "      <td>0.000535</td>\n",
       "      <td>10</td>\n",
       "      <td>3</td>\n",
       "      <td>10</td>\n",
       "      <td>{'max_depth': 10, 'n_estimators': 3, 'random_s...</td>\n",
       "      <td>0.900000</td>\n",
       "      <td>0.903279</td>\n",
       "      <td>0.911475</td>\n",
       "      <td>0.927750</td>\n",
       "      <td>0.917898</td>\n",
       "      <td>0.912081</td>\n",
       "      <td>0.010032</td>\n",
       "      <td>5</td>\n",
       "    </tr>\n",
       "    <tr>\n",
       "      <th>6</th>\n",
       "      <td>0.924351</td>\n",
       "      <td>0.064784</td>\n",
       "      <td>0.048145</td>\n",
       "      <td>0.010978</td>\n",
       "      <td>10</td>\n",
       "      <td>200</td>\n",
       "      <td>0</td>\n",
       "      <td>{'max_depth': 10, 'n_estimators': 200, 'random...</td>\n",
       "      <td>0.906557</td>\n",
       "      <td>0.921311</td>\n",
       "      <td>0.914754</td>\n",
       "      <td>0.937603</td>\n",
       "      <td>0.922824</td>\n",
       "      <td>0.920610</td>\n",
       "      <td>0.010256</td>\n",
       "      <td>2</td>\n",
       "    </tr>\n",
       "    <tr>\n",
       "      <th>7</th>\n",
       "      <td>1.046821</td>\n",
       "      <td>0.402655</td>\n",
       "      <td>0.060200</td>\n",
       "      <td>0.037945</td>\n",
       "      <td>10</td>\n",
       "      <td>200</td>\n",
       "      <td>10</td>\n",
       "      <td>{'max_depth': 10, 'n_estimators': 200, 'random...</td>\n",
       "      <td>0.908197</td>\n",
       "      <td>0.918033</td>\n",
       "      <td>0.913115</td>\n",
       "      <td>0.937603</td>\n",
       "      <td>0.922824</td>\n",
       "      <td>0.919954</td>\n",
       "      <td>0.010084</td>\n",
       "      <td>3</td>\n",
       "    </tr>\n",
       "  </tbody>\n",
       "</table>\n",
       "</div>"
      ],
      "text/plain": [
       "   mean_fit_time  std_fit_time  mean_score_time  std_score_time  \\\n",
       "0       0.012690      0.001525         0.004364        0.001253   \n",
       "1       0.012040      0.000884         0.003666        0.000469   \n",
       "2       0.461633      0.045946         0.064619        0.064292   \n",
       "3       0.729874      0.198334         0.050768        0.017395   \n",
       "4       0.021215      0.001819         0.004164        0.000719   \n",
       "5       0.020025      0.002349         0.004744        0.000535   \n",
       "6       0.924351      0.064784         0.048145        0.010978   \n",
       "7       1.046821      0.402655         0.060200        0.037945   \n",
       "\n",
       "  param_max_depth param_n_estimators param_random_state  \\\n",
       "0               1                  3                  0   \n",
       "1               1                  3                 10   \n",
       "2               1                200                  0   \n",
       "3               1                200                 10   \n",
       "4              10                  3                  0   \n",
       "5              10                  3                 10   \n",
       "6              10                200                  0   \n",
       "7              10                200                 10   \n",
       "\n",
       "                                              params  split0_test_score  \\\n",
       "0  {'max_depth': 1, 'n_estimators': 3, 'random_st...           0.862295   \n",
       "1  {'max_depth': 1, 'n_estimators': 3, 'random_st...           0.908197   \n",
       "2  {'max_depth': 1, 'n_estimators': 200, 'random_...           0.901639   \n",
       "3  {'max_depth': 1, 'n_estimators': 200, 'random_...           0.895082   \n",
       "4  {'max_depth': 10, 'n_estimators': 3, 'random_s...           0.900000   \n",
       "5  {'max_depth': 10, 'n_estimators': 3, 'random_s...           0.900000   \n",
       "6  {'max_depth': 10, 'n_estimators': 200, 'random...           0.906557   \n",
       "7  {'max_depth': 10, 'n_estimators': 200, 'random...           0.908197   \n",
       "\n",
       "   split1_test_score  split2_test_score  split3_test_score  split4_test_score  \\\n",
       "0           0.878689           0.873770           0.886700           0.873563   \n",
       "1           0.916393           0.939344           0.935961           0.929392   \n",
       "2           0.924590           0.926230           0.926108           0.911330   \n",
       "3           0.914754           0.922951           0.921182           0.903120   \n",
       "4           0.895082           0.913115           0.922824           0.911330   \n",
       "5           0.903279           0.911475           0.927750           0.917898   \n",
       "6           0.921311           0.914754           0.937603           0.922824   \n",
       "7           0.918033           0.913115           0.937603           0.922824   \n",
       "\n",
       "   mean_test_score  std_test_score  rank_test_score  \n",
       "0         0.875003        0.007943                8  \n",
       "1         0.925857        0.011815                1  \n",
       "2         0.917979        0.009890                4  \n",
       "3         0.911418        0.010726                6  \n",
       "4         0.908470        0.009867                7  \n",
       "5         0.912081        0.010032                5  \n",
       "6         0.920610        0.010256                2  \n",
       "7         0.919954        0.010084                3  "
      ]
     },
     "execution_count": 47,
     "metadata": {},
     "output_type": "execute_result"
    }
   ],
   "source": [
    "roc = list()\n",
    "for i in range(2, 6):\n",
    "    gridsearch_randForest = GridSearchCV(estimator = RandomForestClassifier(), \n",
    "                                         param_grid = {'max_depth': [1, 10], 'n_estimators': [3, 200], 'random_state': [0, 10]}, cv = i).fit(X_train, y_train)\n",
    "    roc.append( roc_auc_score(y_train, gridsearch_randForest.predict_proba(X_train)[:, 1]) )\n",
    "    i = i + 1\n",
    "pd.DataFrame(gridsearch_randForest.cv_results_)"
   ]
  },
  {
   "cell_type": "code",
   "execution_count": 53,
   "id": "30c3fc73",
   "metadata": {},
   "outputs": [
    {
     "data": {
      "text/plain": [
       "[(1.0, 6.0), (0.0, 1.5)]"
      ]
     },
     "execution_count": 53,
     "metadata": {},
     "output_type": "execute_result"
    },
    {
     "data": {
      "image/png": "[encoded data removed]",
      "text/plain": [
       "<Figure size 432x288 with 1 Axes>"
      ]
     },
     "metadata": {
      "needs_background": "light"
     },
     "output_type": "display_data"
    }
   ],
   "source": [
    "plt.plot([2, 3, 4, 5], roc, 'bo')\n",
    "plt.title('ROC Kurve für gridsearch_randForest Model, in Abhängigkeit von Hyperparametern cv')\n",
    "plt.xlabel('Cross Validation')\n",
    "plt.ylabel('ROC')\n",
    "ax.set(xlim = (1, 6), ylim = (0, 1.5))"
   ]
  },
  {
   "cell_type": "code",
   "execution_count": null,
   "id": "8fda0d93",
   "metadata": {},
   "outputs": [],
   "source": []
  }
 ],
 "metadata": {
  "kernelspec": {
   "display_name": "Python 3 (ipykernel)",
   "language": "python",
   "name": "python3"
  },
  "language_info": {
   "codemirror_mode": {
    "name": "ipython",
    "version": 3
   },
   "file_extension": ".py",
   "mimetype": "text/x-python",
   "name": "python",
   "nbconvert_exporter": "python",
   "pygments_lexer": "ipython3",
   "version": "3.8.10"
  }
 },
 "nbformat": 4,
 "nbformat_minor": 5
}
