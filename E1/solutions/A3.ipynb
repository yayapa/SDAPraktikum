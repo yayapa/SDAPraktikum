{
 "cells": [
  {
   "cell_type": "markdown",
   "id": "6355072c",
   "metadata": {},
   "source": [
    "# Aufgabe 3"
   ]
  },
  {
   "cell_type": "markdown",
   "id": "f0bff5e8",
   "metadata": {},
   "source": [
    "### Datensatz Employment"
   ]
  },
  {
   "cell_type": "markdown",
   "id": "f054f1cd",
   "metadata": {},
   "source": [
    "Für diesen Datensatz muss eine Klassifizierung mit zwei Klassen (arbeitslos/nicht arbeitslos) durchgeführt werden. \n",
    "Mögliche Methoden sind logistische Regression, k-Nearest-Neighbours, Decision Trees. "
   ]
  },
  {
   "cell_type": "code",
   "execution_count": 1,
   "id": "56d59ec7",
   "metadata": {},
   "outputs": [],
   "source": [
    "import pandas as pd\n",
    "import numpy as np\n",
    "from matplotlib import pyplot as plt\n",
    "from scipy import stats\n",
    "from sklearn import linear_model\n",
    "from sklearn.model_selection import train_test_split \n",
    "from sklearn import metrics\n",
    "from pathlib import Path"
   ]
  },
  {
   "cell_type": "code",
   "execution_count": 2,
   "id": "e993c321",
   "metadata": {},
   "outputs": [
    {
     "data": {
      "text/plain": "<AxesSubplot:>"
     },
     "execution_count": 2,
     "metadata": {},
     "output_type": "execute_result"
    },
    {
     "data": {
      "text/plain": "<Figure size 432x288 with 1 Axes>",
      "image/png": "[encoded data removed]"
     },
     "metadata": {
      "needs_background": "light"
     },
     "output_type": "display_data"
    }
   ],
   "source": [
    "df = pd.read_csv(Path(r'../dataset/employment_08_09.csv'), sep=';')\n",
    "df = df.replace(np.nan, 0)\n",
    "df['unemployed'].hist(bins=2)"
   ]
  },
  {
   "cell_type": "markdown",
   "id": "cc39a152",
   "metadata": {},
   "source": [
    "Zunächst stellt sich die Frage, welchen Einfluss das Alter auf eine mögliche Arbeitslosigkeit hat. Die Analyse zeigt, dass das Risiko alter Personen (>= 40 Jahre) etwas geringer ist, als das Risiko junger Personen"
   ]
  },
  {
   "cell_type": "code",
   "execution_count": 3,
   "id": "8b65ee1b",
   "metadata": {},
   "outputs": [
    {
     "name": "stdout",
     "output_type": "stream",
     "text": [
      "Risiko unter 40:  0.05032618825722274\n",
      "Risiko über 40:  0.04011022657685242\n"
     ]
    }
   ],
   "source": [
    "mean_risk_young = np.sum(df[df['age'] < 40]['unemployed'].values) / df[df['age'] < 40]['unemployed'].shape[0]\n",
    "mean_risk_old = np.sum(df[df['age'] >= 40]['unemployed'].values) / df[df['age'] >= 40]['unemployed'].shape[0]\n",
    "\n",
    "print(\"Risiko unter 40: \", mean_risk_young)\n",
    "print(\"Risiko über 40: \", mean_risk_old)"
   ]
  },
  {
   "cell_type": "markdown",
   "id": "884b1c06",
   "metadata": {},
   "source": [
    "Das Durchführen von Linearer Regression führt auf dem Testdatensatz zu einem ähnlichen Ergebnis."
   ]
  },
  {
   "cell_type": "code",
   "execution_count": 4,
   "id": "ebc0ef15",
   "metadata": {},
   "outputs": [
    {
     "name": "stdout",
     "output_type": "stream",
     "text": [
      "Risiko unter 40:  0.05028579526508357\n",
      "Risiko über 40:  0.04239314547993008\n"
     ]
    }
   ],
   "source": [
    "train,test=train_test_split(df, train_size = .8,random_state =42)\n",
    "\n",
    "X_index = ['age', 'race', 'earnwke', 'married', 'union',\n",
    "       'ne_states', 'so_states', 'ce_states', 'we_states', 'government',\n",
    "       'private', 'self', 'educ_lths', 'educ_hs', 'educ_somecol', 'educ_aa',\n",
    "       'educ_bac', 'educ_adv', 'female']\n",
    "Y_index = ['unemployed']\n",
    "regr = linear_model.LinearRegression()\n",
    "regr.fit(train[X_index], train[Y_index])\n",
    "\n",
    "pred_risk = regr.predict(test[X_index])\n",
    "pred_risk[pred_risk < 0] = 0\n",
    "\n",
    "risk_age = pd.DataFrame()\n",
    "risk_age['age'] = test['age']\n",
    "risk_age['pred_risk'] = pred_risk\n",
    "\n",
    "mean_risk_young = np.sum(risk_age[risk_age['age'] < 40]['pred_risk'].values) / risk_age[risk_age['age'] < 40]['pred_risk'].shape[0]\n",
    "mean_risk_old = np.sum(risk_age[risk_age['age'] >= 40]['pred_risk'].values) / risk_age[risk_age['age'] >= 40]['pred_risk'].shape[0]\n",
    "\n",
    "print(\"Risiko unter 40: \", mean_risk_young)\n",
    "print(\"Risiko über 40: \", mean_risk_old)"
   ]
  },
  {
   "cell_type": "markdown",
   "id": "2bd44423",
   "metadata": {},
   "source": [
    "Wie im Histogramm zu sehen ist, ist der Anteil der Personen, die ihren Job verlieren, sehr gering. Die Vorhersage \"Person behält ihren Job\" (most represented class) hat also eine sehr hohe Accuracy."
   ]
  },
  {
   "cell_type": "code",
   "execution_count": 5,
   "id": "0bb89e0f",
   "metadata": {},
   "outputs": [
    {
     "name": "stdout",
     "output_type": "stream",
     "text": [
      "Accuracy most represented class: 0.9602954755309326\n"
     ]
    }
   ],
   "source": [
    "unemployed = np.sum(train[Y_index].values)\n",
    "most_represented_class = 0\n",
    "if(unemployed >= (train.shape[0] / 2)):\n",
    "    most_represented = 1\n",
    "accuracy = 1 - np.sum(np.abs(test[Y_index].values - most_represented_class)/test.shape[0])\n",
    "print(\"Accuracy most represented class:\", accuracy)"
   ]
  },
  {
   "cell_type": "markdown",
   "id": "def0457b",
   "metadata": {},
   "source": [
    "Zudem wird nun die k-Nearest-Neighbours-Methode durchgeführt. Auch hier ist eine hohe Accuracy zu erwarten, da die Zielvariable nur zwei Klassen enthält."
   ]
  },
  {
   "cell_type": "code",
   "execution_count": 6,
   "id": "ae14a06d",
   "metadata": {},
   "outputs": [
    {
     "name": "stdout",
     "output_type": "stream",
     "text": [
      "Accuracy k-NN: 0.9575253924284395\n"
     ]
    }
   ],
   "source": [
    "from sklearn.neighbors import KNeighborsClassifier\n",
    "neigh = KNeighborsClassifier()\n",
    "neigh.fit(train[X_index],train[Y_index].values.ravel())\n",
    "y_pred = neigh.predict(test[X_index])\n",
    "print(\"Accuracy k-NN:\",metrics.accuracy_score(test[Y_index], y_pred))"
   ]
  },
  {
   "cell_type": "markdown",
   "id": "672aef66",
   "metadata": {},
   "source": [
    "### Datensatz Wachstum"
   ]
  },
  {
   "cell_type": "code",
   "execution_count": 7,
   "id": "11c318f9",
   "metadata": {},
   "outputs": [
    {
     "data": {
      "text/plain": "     country_name    growth  oil       rgdp60  tradeshare  yearsschool  \\\n0           India  1.915168    0   765.999817    0.140502         1.45   \n1       Argentina  0.617645    0  4462.001465    0.156623         4.99   \n2           Japan  4.304759    0  2953.999512    0.157703         6.71   \n3          Brazil  2.930097    0  1783.999878    0.160405         2.89   \n4   United States  1.712265    0  9895.003906    0.160815         8.66   \n..            ...       ...  ...          ...         ...          ...   \n60         Cyprus  5.384184    0  2037.000366    0.979355         4.29   \n61       Malaysia  4.114544    0  1420.000244    1.105364         2.34   \n62        Belgium  2.651335    0  5495.001953    1.115917         7.46   \n63      Mauritius  3.024178    0  2861.999268    1.127937         2.44   \n64          Malta  6.652838    0  1374.000000    1.992616         5.64   \n\n    rev_coups  assasinations  \n0    0.133333       0.866667  \n1    0.933333       1.933333  \n2    0.000000       0.200000  \n3    0.100000       0.100000  \n4    0.000000       0.433333  \n..        ...            ...  \n60   0.100000       0.166667  \n61   0.033333       0.033333  \n62   0.000000       0.000000  \n63   0.000000       0.000000  \n64   0.000000       0.000000  \n\n[65 rows x 8 columns]",
      "text/html": "<div>\n<style scoped>\n    .dataframe tbody tr th:only-of-type {\n        vertical-align: middle;\n    }\n\n    .dataframe tbody tr th {\n        vertical-align: top;\n    }\n\n    .dataframe thead th {\n        text-align: right;\n    }\n</style>\n<table border=\"1\" class=\"dataframe\">\n  <thead>\n    <tr style=\"text-align: right;\">\n      <th></th>\n      <th>country_name</th>\n      <th>growth</th>\n      <th>oil</th>\n      <th>rgdp60</th>\n      <th>tradeshare</th>\n      <th>yearsschool</th>\n      <th>rev_coups</th>\n      <th>assasinations</th>\n    </tr>\n  </thead>\n  <tbody>\n    <tr>\n      <th>0</th>\n      <td>India</td>\n      <td>1.915168</td>\n      <td>0</td>\n      <td>765.999817</td>\n      <td>0.140502</td>\n      <td>1.45</td>\n      <td>0.133333</td>\n      <td>0.866667</td>\n    </tr>\n    <tr>\n      <th>1</th>\n      <td>Argentina</td>\n      <td>0.617645</td>\n      <td>0</td>\n      <td>4462.001465</td>\n      <td>0.156623</td>\n      <td>4.99</td>\n      <td>0.933333</td>\n      <td>1.933333</td>\n    </tr>\n    <tr>\n      <th>2</th>\n      <td>Japan</td>\n      <td>4.304759</td>\n      <td>0</td>\n      <td>2953.999512</td>\n      <td>0.157703</td>\n      <td>6.71</td>\n      <td>0.000000</td>\n      <td>0.200000</td>\n    </tr>\n    <tr>\n      <th>3</th>\n      <td>Brazil</td>\n      <td>2.930097</td>\n      <td>0</td>\n      <td>1783.999878</td>\n      <td>0.160405</td>\n      <td>2.89</td>\n      <td>0.100000</td>\n      <td>0.100000</td>\n    </tr>\n    <tr>\n      <th>4</th>\n      <td>United States</td>\n      <td>1.712265</td>\n      <td>0</td>\n      <td>9895.003906</td>\n      <td>0.160815</td>\n      <td>8.66</td>\n      <td>0.000000</td>\n      <td>0.433333</td>\n    </tr>\n    <tr>\n      <th>...</th>\n      <td>...</td>\n      <td>...</td>\n      <td>...</td>\n      <td>...</td>\n      <td>...</td>\n      <td>...</td>\n      <td>...</td>\n      <td>...</td>\n    </tr>\n    <tr>\n      <th>60</th>\n      <td>Cyprus</td>\n      <td>5.384184</td>\n      <td>0</td>\n      <td>2037.000366</td>\n      <td>0.979355</td>\n      <td>4.29</td>\n      <td>0.100000</td>\n      <td>0.166667</td>\n    </tr>\n    <tr>\n      <th>61</th>\n      <td>Malaysia</td>\n      <td>4.114544</td>\n      <td>0</td>\n      <td>1420.000244</td>\n      <td>1.105364</td>\n      <td>2.34</td>\n      <td>0.033333</td>\n      <td>0.033333</td>\n    </tr>\n    <tr>\n      <th>62</th>\n      <td>Belgium</td>\n      <td>2.651335</td>\n      <td>0</td>\n      <td>5495.001953</td>\n      <td>1.115917</td>\n      <td>7.46</td>\n      <td>0.000000</td>\n      <td>0.000000</td>\n    </tr>\n    <tr>\n      <th>63</th>\n      <td>Mauritius</td>\n      <td>3.024178</td>\n      <td>0</td>\n      <td>2861.999268</td>\n      <td>1.127937</td>\n      <td>2.44</td>\n      <td>0.000000</td>\n      <td>0.000000</td>\n    </tr>\n    <tr>\n      <th>64</th>\n      <td>Malta</td>\n      <td>6.652838</td>\n      <td>0</td>\n      <td>1374.000000</td>\n      <td>1.992616</td>\n      <td>5.64</td>\n      <td>0.000000</td>\n      <td>0.000000</td>\n    </tr>\n  </tbody>\n</table>\n<p>65 rows × 8 columns</p>\n</div>"
     },
     "execution_count": 7,
     "metadata": {},
     "output_type": "execute_result"
    },
    {
     "data": {
      "text/plain": "<Figure size 432x288 with 1 Axes>",
      "image/png": "[encoded data removed]"
     },
     "metadata": {
      "needs_background": "light"
     },
     "output_type": "display_data"
    }
   ],
   "source": [
    "df = pd.read_csv(Path(r'../dataset/Growth.csv'), sep=';')\n",
    "df['growth'].hist(bins=15)\n",
    "df"
   ]
  },
  {
   "cell_type": "markdown",
   "id": "434cf4eb",
   "metadata": {},
   "source": [
    "Zunächst wird das Wachstum der Länder durch das durchschnittliche Wachstum in den Trainingsdaten vorhergesagt."
   ]
  },
  {
   "cell_type": "code",
   "execution_count": 8,
   "id": "dc41d6de",
   "metadata": {},
   "outputs": [
    {
     "name": "stdout",
     "output_type": "stream",
     "text": [
      "MSE average growth:  6.4634735415105675\n"
     ]
    }
   ],
   "source": [
    "train,test=train_test_split(df, train_size = .8,random_state =42)\n",
    "\n",
    "avg_growth = np.sum(train['growth'].values) / train.shape[0]\n",
    "\n",
    "mse = np.square(np.subtract(test['growth'], avg_growth)).mean()\n",
    "\n",
    "print(\"MSE average growth: \", mse)"
   ]
  },
  {
   "cell_type": "markdown",
   "id": "9c40ef30",
   "metadata": {},
   "source": [
    "Zunächst ist zu erkennen, dass der Indikator \"oil\" für alle Länder 0 ist und damit nicht berücksichtigt werden muss.\n",
    "Die Verteilung den Wachstums ist annähernd normalverteilt, daher bietet sich Lineare Regession an. Der MSE ist niedriger als zuvor und lineare Regression damit die bessere Methode"
   ]
  },
  {
   "cell_type": "code",
   "execution_count": 9,
   "id": "d8c23294",
   "metadata": {},
   "outputs": [
    {
     "name": "stdout",
     "output_type": "stream",
     "text": [
      "MSE Linear Regression:  3.3542206511129966\n"
     ]
    }
   ],
   "source": [
    "X_index = ['rgdp60', 'tradeshare', 'yearsschool',\n",
    "       'rev_coups', 'assasinations']\n",
    "Y_index = ['growth']\n",
    "regr = linear_model.LinearRegression()\n",
    "regr.fit(train[X_index], train[Y_index].values.ravel())\n",
    "\n",
    "pred_growth = regr.predict(test[X_index])\n",
    "mse = np.square(np.subtract(test['growth'].values, pred_growth)).mean()\n",
    "print(\"MSE Linear Regression: \", mse)"
   ]
  },
  {
   "cell_type": "markdown",
   "id": "6ccdda32",
   "metadata": {},
   "source": [
    "### Datensatz Krebse"
   ]
  },
  {
   "cell_type": "code",
   "execution_count": 10,
   "id": "330fea3a",
   "metadata": {},
   "outputs": [
    {
     "data": {
      "text/plain": "      ID  Color  Spine  Width  Weight  Satellites\n0      1      2      3   28.3    3.05           8\n1      2      3      3   26.0    2.60           4\n2      3      3      3   25.6    2.15           0\n3      4      4      2   21.0    1.85           0\n4      5      2      3   29.0    3.00           1\n..   ...    ...    ...    ...     ...         ...\n168  169      2      3   28.3    3.20           0\n169  170      2      3   26.5    2.35           4\n170  171      2      3   26.5    2.75           7\n171  172      3      3   26.1    2.75           3\n172  173      2      2   24.5    2.00           0\n\n[173 rows x 6 columns]",
      "text/html": "<div>\n<style scoped>\n    .dataframe tbody tr th:only-of-type {\n        vertical-align: middle;\n    }\n\n    .dataframe tbody tr th {\n        vertical-align: top;\n    }\n\n    .dataframe thead th {\n        text-align: right;\n    }\n</style>\n<table border=\"1\" class=\"dataframe\">\n  <thead>\n    <tr style=\"text-align: right;\">\n      <th></th>\n      <th>ID</th>\n      <th>Color</th>\n      <th>Spine</th>\n      <th>Width</th>\n      <th>Weight</th>\n      <th>Satellites</th>\n    </tr>\n  </thead>\n  <tbody>\n    <tr>\n      <th>0</th>\n      <td>1</td>\n      <td>2</td>\n      <td>3</td>\n      <td>28.3</td>\n      <td>3.05</td>\n      <td>8</td>\n    </tr>\n    <tr>\n      <th>1</th>\n      <td>2</td>\n      <td>3</td>\n      <td>3</td>\n      <td>26.0</td>\n      <td>2.60</td>\n      <td>4</td>\n    </tr>\n    <tr>\n      <th>2</th>\n      <td>3</td>\n      <td>3</td>\n      <td>3</td>\n      <td>25.6</td>\n      <td>2.15</td>\n      <td>0</td>\n    </tr>\n    <tr>\n      <th>3</th>\n      <td>4</td>\n      <td>4</td>\n      <td>2</td>\n      <td>21.0</td>\n      <td>1.85</td>\n      <td>0</td>\n    </tr>\n    <tr>\n      <th>4</th>\n      <td>5</td>\n      <td>2</td>\n      <td>3</td>\n      <td>29.0</td>\n      <td>3.00</td>\n      <td>1</td>\n    </tr>\n    <tr>\n      <th>...</th>\n      <td>...</td>\n      <td>...</td>\n      <td>...</td>\n      <td>...</td>\n      <td>...</td>\n      <td>...</td>\n    </tr>\n    <tr>\n      <th>168</th>\n      <td>169</td>\n      <td>2</td>\n      <td>3</td>\n      <td>28.3</td>\n      <td>3.20</td>\n      <td>0</td>\n    </tr>\n    <tr>\n      <th>169</th>\n      <td>170</td>\n      <td>2</td>\n      <td>3</td>\n      <td>26.5</td>\n      <td>2.35</td>\n      <td>4</td>\n    </tr>\n    <tr>\n      <th>170</th>\n      <td>171</td>\n      <td>2</td>\n      <td>3</td>\n      <td>26.5</td>\n      <td>2.75</td>\n      <td>7</td>\n    </tr>\n    <tr>\n      <th>171</th>\n      <td>172</td>\n      <td>3</td>\n      <td>3</td>\n      <td>26.1</td>\n      <td>2.75</td>\n      <td>3</td>\n    </tr>\n    <tr>\n      <th>172</th>\n      <td>173</td>\n      <td>2</td>\n      <td>2</td>\n      <td>24.5</td>\n      <td>2.00</td>\n      <td>0</td>\n    </tr>\n  </tbody>\n</table>\n<p>173 rows × 6 columns</p>\n</div>"
     },
     "execution_count": 10,
     "metadata": {},
     "output_type": "execute_result"
    },
    {
     "data": {
      "text/plain": "<Figure size 432x288 with 1 Axes>",
      "image/png": "[encoded data removed]"
     },
     "metadata": {
      "needs_background": "light"
     },
     "output_type": "display_data"
    }
   ],
   "source": [
    "data = pd.read_csv(Path(r'../dataset/crabs.txt'), sep=\"     \", header=None,engine='python')\n",
    "data.rename(columns= {0: 'ID', 1: 'Color', 2: \"Spine\", 3:\"Width\", 4:\"Weight\", 5:\"Satellites\"},inplace=True)\n",
    "data['Satellites'].hist(bins=16)\n",
    "data"
   ]
  },
  {
   "cell_type": "markdown",
   "id": "9c388724",
   "metadata": {},
   "source": [
    "Die Verteilung der \"Satellites\" entspricht einer Poisson-Verteilung (Zähl-Experiment), daher führen wir Poisson-Regession durch."
   ]
  },
  {
   "cell_type": "code",
   "execution_count": 11,
   "id": "9eb2e0c8",
   "metadata": {},
   "outputs": [
    {
     "name": "stdout",
     "output_type": "stream",
     "text": [
      "MSE poisson regression:  9.333313758058885\n"
     ]
    }
   ],
   "source": [
    "train,test=train_test_split(data, train_size = .8,random_state =42)\n",
    "\n",
    "X_index = ['Color', 'Spine', 'Width', 'Weight']\n",
    "Y_index = ['Satellites']\n",
    "regr = linear_model.PoissonRegressor()\n",
    "regr.fit(train[X_index], train[Y_index].values.ravel())\n",
    "\n",
    "pred = regr.predict(test[X_index])\n",
    "mse = np.square(np.subtract(test[Y_index].values, pred)).mean()\n",
    "print(\"MSE poisson regression: \", mse)"
   ]
  },
  {
   "cell_type": "markdown",
   "id": "0fa9c74f",
   "metadata": {},
   "source": [
    "Eine weiter Möglichkeit ist lineare Regression. Der MSE dieser Methode ist leicht größer, als der der Poisson Regression, da sie die Verteilung der Zielvariablen nicht berücksichtigt."
   ]
  },
  {
   "cell_type": "code",
   "execution_count": 12,
   "id": "3a29bbb6",
   "metadata": {},
   "outputs": [
    {
     "name": "stdout",
     "output_type": "stream",
     "text": [
      "MSE Linear:  9.694105430200578\n"
     ]
    }
   ],
   "source": [
    "regr = linear_model.LinearRegression()\n",
    "regr.fit(train[X_index], train[Y_index].values.ravel())\n",
    "\n",
    "pred = regr.predict(test[X_index])\n",
    "mse = np.square(np.subtract(test[Y_index].values, pred)).mean()\n",
    "print(\"MSE Linear: \", mse)"
   ]
  },
  {
   "cell_type": "markdown",
   "id": "7fe09df9",
   "metadata": {},
   "source": [
    "### Gasoline Datensatz"
   ]
  },
  {
   "cell_type": "code",
   "execution_count": 13,
   "id": "3c0dec58",
   "metadata": {
    "scrolled": true
   },
   "outputs": [
    {
     "data": {
      "text/plain": "    Unnamed: 0  yield gravity pressure  temp10  temp  batch\n0            1  0.122    50.8      8.6     190   205      1\n1            2  0.223    50.8      8.6     190   275      1\n2            3  0.347    50.8      8.6     190   345      1\n3            4  0.457    50.8      8.6     190   407      1\n4            5  0.080    40.8      3.5     210   218      2\n5            6  0.131    40.8      3.5     210   273      2\n6            7  0.266    40.8      3.5     210   347      2\n7            8  0.074      40      6.1     217   212      3\n8            9  0.182      40      6.1     217   272      3\n9           10  0.304      40      6.1     217   340      3\n10          11  0.069    38.4      6.1     220   235      4\n11          12  0.152    38.4      6.1     220   300      4\n12          13  0.260    38.4      6.1     220   365      4\n13          14  0.336    38.4      6.1     220   410      4\n14          15  0.144    40.3      4.8     231   307      5\n15          16  0.268    40.3      4.8     231   367      5\n16          17  0.349    40.3      4.8     231   395      5\n17          18  0.100    32.2      5.2     236   267      6\n18          19  0.248    32.2      5.2     236   360      6\n19          20  0.317    32.2      5.2     236   402      6\n20          21  0.028    41.3      1.8     267   235      7\n21          22  0.064    41.3      1.8     267   275      7\n22          23  0.161    41.3      1.8     267   358      7\n23          24  0.278    41.3      1.8     267   416      7\n24          25  0.050    38.1      1.2     274   285      8\n25          26  0.176    38.1      1.2     274   365      8\n26          27  0.321    38.1      1.2     274   444      8\n27          28  0.140    32.2      2.4     284   351      9\n28          29  0.232    32.2      2.4     284   424      9\n29          30  0.085    31.8      0.2     316   365     10\n30          31  0.147    31.8      0.2     316   379     10\n31          32  0.180    31.8      0.2     316   428     10",
      "text/html": "<div>\n<style scoped>\n    .dataframe tbody tr th:only-of-type {\n        vertical-align: middle;\n    }\n\n    .dataframe tbody tr th {\n        vertical-align: top;\n    }\n\n    .dataframe thead th {\n        text-align: right;\n    }\n</style>\n<table border=\"1\" class=\"dataframe\">\n  <thead>\n    <tr style=\"text-align: right;\">\n      <th></th>\n      <th>Unnamed: 0</th>\n      <th>yield</th>\n      <th>gravity</th>\n      <th>pressure</th>\n      <th>temp10</th>\n      <th>temp</th>\n      <th>batch</th>\n    </tr>\n  </thead>\n  <tbody>\n    <tr>\n      <th>0</th>\n      <td>1</td>\n      <td>0.122</td>\n      <td>50.8</td>\n      <td>8.6</td>\n      <td>190</td>\n      <td>205</td>\n      <td>1</td>\n    </tr>\n    <tr>\n      <th>1</th>\n      <td>2</td>\n      <td>0.223</td>\n      <td>50.8</td>\n      <td>8.6</td>\n      <td>190</td>\n      <td>275</td>\n      <td>1</td>\n    </tr>\n    <tr>\n      <th>2</th>\n      <td>3</td>\n      <td>0.347</td>\n      <td>50.8</td>\n      <td>8.6</td>\n      <td>190</td>\n      <td>345</td>\n      <td>1</td>\n    </tr>\n    <tr>\n      <th>3</th>\n      <td>4</td>\n      <td>0.457</td>\n      <td>50.8</td>\n      <td>8.6</td>\n      <td>190</td>\n      <td>407</td>\n      <td>1</td>\n    </tr>\n    <tr>\n      <th>4</th>\n      <td>5</td>\n      <td>0.080</td>\n      <td>40.8</td>\n      <td>3.5</td>\n      <td>210</td>\n      <td>218</td>\n      <td>2</td>\n    </tr>\n    <tr>\n      <th>5</th>\n      <td>6</td>\n      <td>0.131</td>\n      <td>40.8</td>\n      <td>3.5</td>\n      <td>210</td>\n      <td>273</td>\n      <td>2</td>\n    </tr>\n    <tr>\n      <th>6</th>\n      <td>7</td>\n      <td>0.266</td>\n      <td>40.8</td>\n      <td>3.5</td>\n      <td>210</td>\n      <td>347</td>\n      <td>2</td>\n    </tr>\n    <tr>\n      <th>7</th>\n      <td>8</td>\n      <td>0.074</td>\n      <td>40</td>\n      <td>6.1</td>\n      <td>217</td>\n      <td>212</td>\n      <td>3</td>\n    </tr>\n    <tr>\n      <th>8</th>\n      <td>9</td>\n      <td>0.182</td>\n      <td>40</td>\n      <td>6.1</td>\n      <td>217</td>\n      <td>272</td>\n      <td>3</td>\n    </tr>\n    <tr>\n      <th>9</th>\n      <td>10</td>\n      <td>0.304</td>\n      <td>40</td>\n      <td>6.1</td>\n      <td>217</td>\n      <td>340</td>\n      <td>3</td>\n    </tr>\n    <tr>\n      <th>10</th>\n      <td>11</td>\n      <td>0.069</td>\n      <td>38.4</td>\n      <td>6.1</td>\n      <td>220</td>\n      <td>235</td>\n      <td>4</td>\n    </tr>\n    <tr>\n      <th>11</th>\n      <td>12</td>\n      <td>0.152</td>\n      <td>38.4</td>\n      <td>6.1</td>\n      <td>220</td>\n      <td>300</td>\n      <td>4</td>\n    </tr>\n    <tr>\n      <th>12</th>\n      <td>13</td>\n      <td>0.260</td>\n      <td>38.4</td>\n      <td>6.1</td>\n      <td>220</td>\n      <td>365</td>\n      <td>4</td>\n    </tr>\n    <tr>\n      <th>13</th>\n      <td>14</td>\n      <td>0.336</td>\n      <td>38.4</td>\n      <td>6.1</td>\n      <td>220</td>\n      <td>410</td>\n      <td>4</td>\n    </tr>\n    <tr>\n      <th>14</th>\n      <td>15</td>\n      <td>0.144</td>\n      <td>40.3</td>\n      <td>4.8</td>\n      <td>231</td>\n      <td>307</td>\n      <td>5</td>\n    </tr>\n    <tr>\n      <th>15</th>\n      <td>16</td>\n      <td>0.268</td>\n      <td>40.3</td>\n      <td>4.8</td>\n      <td>231</td>\n      <td>367</td>\n      <td>5</td>\n    </tr>\n    <tr>\n      <th>16</th>\n      <td>17</td>\n      <td>0.349</td>\n      <td>40.3</td>\n      <td>4.8</td>\n      <td>231</td>\n      <td>395</td>\n      <td>5</td>\n    </tr>\n    <tr>\n      <th>17</th>\n      <td>18</td>\n      <td>0.100</td>\n      <td>32.2</td>\n      <td>5.2</td>\n      <td>236</td>\n      <td>267</td>\n      <td>6</td>\n    </tr>\n    <tr>\n      <th>18</th>\n      <td>19</td>\n      <td>0.248</td>\n      <td>32.2</td>\n      <td>5.2</td>\n      <td>236</td>\n      <td>360</td>\n      <td>6</td>\n    </tr>\n    <tr>\n      <th>19</th>\n      <td>20</td>\n      <td>0.317</td>\n      <td>32.2</td>\n      <td>5.2</td>\n      <td>236</td>\n      <td>402</td>\n      <td>6</td>\n    </tr>\n    <tr>\n      <th>20</th>\n      <td>21</td>\n      <td>0.028</td>\n      <td>41.3</td>\n      <td>1.8</td>\n      <td>267</td>\n      <td>235</td>\n      <td>7</td>\n    </tr>\n    <tr>\n      <th>21</th>\n      <td>22</td>\n      <td>0.064</td>\n      <td>41.3</td>\n      <td>1.8</td>\n      <td>267</td>\n      <td>275</td>\n      <td>7</td>\n    </tr>\n    <tr>\n      <th>22</th>\n      <td>23</td>\n      <td>0.161</td>\n      <td>41.3</td>\n      <td>1.8</td>\n      <td>267</td>\n      <td>358</td>\n      <td>7</td>\n    </tr>\n    <tr>\n      <th>23</th>\n      <td>24</td>\n      <td>0.278</td>\n      <td>41.3</td>\n      <td>1.8</td>\n      <td>267</td>\n      <td>416</td>\n      <td>7</td>\n    </tr>\n    <tr>\n      <th>24</th>\n      <td>25</td>\n      <td>0.050</td>\n      <td>38.1</td>\n      <td>1.2</td>\n      <td>274</td>\n      <td>285</td>\n      <td>8</td>\n    </tr>\n    <tr>\n      <th>25</th>\n      <td>26</td>\n      <td>0.176</td>\n      <td>38.1</td>\n      <td>1.2</td>\n      <td>274</td>\n      <td>365</td>\n      <td>8</td>\n    </tr>\n    <tr>\n      <th>26</th>\n      <td>27</td>\n      <td>0.321</td>\n      <td>38.1</td>\n      <td>1.2</td>\n      <td>274</td>\n      <td>444</td>\n      <td>8</td>\n    </tr>\n    <tr>\n      <th>27</th>\n      <td>28</td>\n      <td>0.140</td>\n      <td>32.2</td>\n      <td>2.4</td>\n      <td>284</td>\n      <td>351</td>\n      <td>9</td>\n    </tr>\n    <tr>\n      <th>28</th>\n      <td>29</td>\n      <td>0.232</td>\n      <td>32.2</td>\n      <td>2.4</td>\n      <td>284</td>\n      <td>424</td>\n      <td>9</td>\n    </tr>\n    <tr>\n      <th>29</th>\n      <td>30</td>\n      <td>0.085</td>\n      <td>31.8</td>\n      <td>0.2</td>\n      <td>316</td>\n      <td>365</td>\n      <td>10</td>\n    </tr>\n    <tr>\n      <th>30</th>\n      <td>31</td>\n      <td>0.147</td>\n      <td>31.8</td>\n      <td>0.2</td>\n      <td>316</td>\n      <td>379</td>\n      <td>10</td>\n    </tr>\n    <tr>\n      <th>31</th>\n      <td>32</td>\n      <td>0.180</td>\n      <td>31.8</td>\n      <td>0.2</td>\n      <td>316</td>\n      <td>428</td>\n      <td>10</td>\n    </tr>\n  </tbody>\n</table>\n</div>"
     },
     "execution_count": 13,
     "metadata": {},
     "output_type": "execute_result"
    }
   ],
   "source": [
    "df = pd.read_csv(Path(r'../dataset/gasoline.csv'), sep=';')\n",
    "#Vorverarbeitung der Werte\n",
    "df['yield'] = pd.to_numeric(df['yield'].apply(lambda x: x.replace(',','.')))\n",
    "df['gravity'] = df['gravity'].apply(lambda x: x.replace(',','.'))\n",
    "df['pressure'] = df['pressure'].apply(lambda x: x.replace(',','.'))\n",
    "df"
   ]
  },
  {
   "cell_type": "code",
   "execution_count": 14,
   "id": "e68ee26d",
   "metadata": {},
   "outputs": [
    {
     "data": {
      "text/plain": "<AxesSubplot:>"
     },
     "execution_count": 14,
     "metadata": {},
     "output_type": "execute_result"
    },
    {
     "data": {
      "text/plain": "<Figure size 432x288 with 1 Axes>",
      "image/png": "[encoded data removed]"
     },
     "metadata": {
      "needs_background": "light"
     },
     "output_type": "display_data"
    }
   ],
   "source": [
    "df['yield'].hist(bins=10)"
   ]
  },
  {
   "cell_type": "markdown",
   "id": "190b35ec",
   "metadata": {},
   "source": [
    "Die Zielvariablen dieses Modells liegen im Intervall [0,1] und sind annähernd normalverteilt. Daher bietet sich Beta Regression an."
   ]
  },
  {
   "cell_type": "code",
   "execution_count": 15,
   "id": "916d9e37",
   "metadata": {},
   "outputs": [
    {
     "name": "stdout",
     "output_type": "stream",
     "text": [
      "MSE Beta:  0.0007258271939043981\n"
     ]
    }
   ],
   "source": [
    "class BetaRegression(linear_model.LinearRegression):\n",
    "\n",
    "    def fit(self, x, p):\n",
    "        p = np.asarray(p)\n",
    "        y = np.log(p / (1 - p))\n",
    "        return super().fit(x, y)\n",
    "\n",
    "    def predict(self, x):\n",
    "        y = super().predict(x)\n",
    "        return 1 / (np.exp(-y) + 1)\n",
    "    \n",
    "train,test=train_test_split(df, train_size = .8,random_state =42)\n",
    "\n",
    "\n",
    "X_index = ['gravity', 'pressure', 'temp10', 'temp', 'batch']\n",
    "Y_index = ['yield']\n",
    "    \n",
    "model = BetaRegression()\n",
    "model.fit(df[X_index], df[Y_index])\n",
    "pred = model.predict(test[X_index])\n",
    "mse = np.square(np.subtract(test[Y_index].values, pred)).mean()\n",
    "print(\"MSE Beta: \", mse)"
   ]
  },
  {
   "cell_type": "markdown",
   "id": "d1543455",
   "metadata": {},
   "source": [
    "Für eine ungefähre Annährung kann der Durchschnittswert verwendet werden, da die Zielvariable annähernd normalverteilt ist. Beta-Regression erreicht im Schnitt aber deutlich exaktere Werte"
   ]
  },
  {
   "cell_type": "code",
   "execution_count": 16,
   "id": "c866c4c6",
   "metadata": {},
   "outputs": [
    {
     "name": "stdout",
     "output_type": "stream",
     "text": [
      "MSE Average:  0.009691525714285715\n"
     ]
    }
   ],
   "source": [
    "avg_yield = np.sum(train['yield'].values) / train.shape[0]\n",
    "\n",
    "mse = np.square(np.subtract(test['yield'], avg_yield)).mean()\n",
    "print(\"MSE Average: \", mse)"
   ]
  }
 ],
 "metadata": {
  "kernelspec": {
   "display_name": "Python 3 (ipykernel)",
   "language": "python",
   "name": "python3"
  },
  "language_info": {
   "codemirror_mode": {
    "name": "ipython",
    "version": 3
   },
   "file_extension": ".py",
   "mimetype": "text/x-python",
   "name": "python",
   "nbconvert_exporter": "python",
   "pygments_lexer": "ipython3",
   "version": "3.9.7"
  }
 },
 "nbformat": 4,
 "nbformat_minor": 5
}