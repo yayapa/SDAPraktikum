{
 "cells": [
  {
   "cell_type": "code",
   "execution_count": 3,
   "outputs": [],
   "source": [
    "# read data from crest format\n",
    "import pandas as pd\n",
    "df = pd.read_excel(r'simeval5.xlsx')\n",
    "json_test = []\n",
    "json_train = []"
   ],
   "metadata": {
    "collapsed": false,
    "pycharm": {
     "name": "#%%\n"
    }
   }
  },
  {
   "cell_type": "code",
   "execution_count": 4,
   "outputs": [],
   "source": [
    "# convert crest into cnn format\n",
    "def find_index_in_sentence(sentence, searched_word):\n",
    "    for i, word in enumerate(sentence):\n",
    "        if word == searched_word:\n",
    "            return i\n",
    "    return -1\n",
    "\n",
    "def extract_start_end_position(sentence, span):\n",
    "    span = span.split()\n",
    "    if len(span) == 0:\n",
    "        return -1, -1\n",
    "    else:\n",
    "        start = find_index_in_sentence(sentence, span[0])\n",
    "    if len(span) > 1:\n",
    "        end = find_index_in_sentence(sentence, span[-1])\n",
    "    else:\n",
    "        end = start\n",
    "    return start, end\n",
    "for index, row in df.iterrows():\n",
    "    line = {}\n",
    "    line['id'] = str(row['global_id'])\n",
    "    line['sentence'] = row['context'].split(\" \")\n",
    "    for i in range(len(line['sentence'])):\n",
    "        line['sentence'][i] = ''.join([i for i in line['sentence'][i] if i.isalpha()])\n",
    "    line['sentence'].append(\".\")\n",
    "    span1, span2 = row['span1'][2:-2], row['span2'][2:-2]\n",
    "    line['head'] = span1\n",
    "    line['tail'] = span2\n",
    "    line['subj_start'], line['subj_end'] = extract_start_end_position(line['sentence'], span1)\n",
    "    line['obj_start'], line['obj_end'] = extract_start_end_position(line['sentence'], span2)\n",
    "    if row['label'] == 1:\n",
    "        if row['direction'] == 0:\n",
    "            line['relation'] = \"Cause-Effect(e1,e2)\"\n",
    "        else:\n",
    "            line['relation'] = \"Cause-Effect(e2,e1)\"\n",
    "    else:\n",
    "        line['relation'] = \"Other\"\n",
    "    if row['split'] == 0:\n",
    "        json_train.append(line)\n",
    "    else:\n",
    "        json_test.append(line)"
   ],
   "metadata": {
    "collapsed": false,
    "pycharm": {
     "name": "#%%\n"
    }
   }
  },
  {
   "cell_type": "code",
   "execution_count": 5,
   "outputs": [],
   "source": [
    "# save train.json; put it into CNN/data/\n",
    "import json\n",
    "with open(\"train.json\", \"w\") as json_file:\n",
    "    for line in json_train:\n",
    "        json_file.write(json.dumps(line))\n",
    "        json_file.write(\"\\n\")"
   ],
   "metadata": {
    "collapsed": false,
    "pycharm": {
     "name": "#%%\n"
    }
   }
  },
  {
   "cell_type": "code",
   "execution_count": 6,
   "outputs": [],
   "source": [
    "# save test.json; put it into CNN/data/\n",
    "with open(\"test.json\", \"w\") as json_file:\n",
    "    for line in json_test:\n",
    "        json_file.write(json.dumps(line))\n",
    "        json_file.write(\"\\n\")"
   ],
   "metadata": {
    "collapsed": false,
    "pycharm": {
     "name": "#%%\n"
    }
   }
  },
  {
   "cell_type": "code",
   "execution_count": null,
   "outputs": [],
   "source": [],
   "metadata": {
    "collapsed": false,
    "pycharm": {
     "name": "#%%\n"
    }
   }
  }
 ],
 "metadata": {
  "kernelspec": {
   "display_name": "Python 3",
   "language": "python",
   "name": "python3"
  },
  "language_info": {
   "codemirror_mode": {
    "name": "ipython",
    "version": 2
   },
   "file_extension": ".py",
   "mimetype": "text/x-python",
   "name": "python",
   "nbconvert_exporter": "python",
   "pygments_lexer": "ipython2",
   "version": "2.7.6"
  }
 },
 "nbformat": 4,
 "nbformat_minor": 0
}