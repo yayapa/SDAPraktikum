{
 "cells": [
  {
   "cell_type": "code",
   "execution_count": 9,
   "metadata": {
    "collapsed": false,
    "jupyter": {
     "outputs_hidden": false
    },
    "pycharm": {
     "name": "#%%\n"
    }
   },
   "outputs": [],
   "source": [
    "# read data from crest format\n",
    "import pandas as pd\n",
    "df = pd.read_excel('CNN/data/data_xlsx/simeval8.xlsx')\n",
    "json_test = []\n",
    "json_train = []"
   ]
  },
  {
   "cell_type": "code",
   "execution_count": 73,
   "metadata": {},
   "outputs": [
    {
     "data": {
      "text/html": [
       "<div>\n",
       "<style scoped>\n",
       "    .dataframe tbody tr th:only-of-type {\n",
       "        vertical-align: middle;\n",
       "    }\n",
       "\n",
       "    .dataframe tbody tr th {\n",
       "        vertical-align: top;\n",
       "    }\n",
       "\n",
       "    .dataframe thead th {\n",
       "        text-align: right;\n",
       "    }\n",
       "</style>\n",
       "<table border=\"1\" class=\"dataframe\">\n",
       "  <thead>\n",
       "    <tr style=\"text-align: right;\">\n",
       "      <th></th>\n",
       "      <th>Unnamed: 0</th>\n",
       "      <th>original_id</th>\n",
       "      <th>span1</th>\n",
       "      <th>span2</th>\n",
       "      <th>signal</th>\n",
       "      <th>context</th>\n",
       "      <th>idx</th>\n",
       "      <th>label</th>\n",
       "      <th>direction</th>\n",
       "      <th>source</th>\n",
       "      <th>ann_file</th>\n",
       "      <th>split</th>\n",
       "      <th>global_id</th>\n",
       "    </tr>\n",
       "  </thead>\n",
       "  <tbody>\n",
       "    <tr>\n",
       "      <th>0</th>\n",
       "      <td>0</td>\n",
       "      <td>1</td>\n",
       "      <td>['configuration']</td>\n",
       "      <td>['elements']</td>\n",
       "      <td>[]</td>\n",
       "      <td>The system as described above has its greatest...</td>\n",
       "      <td>span1 73:86\\nspan2 98:106\\nsignal</td>\n",
       "      <td>0</td>\n",
       "      <td>1</td>\n",
       "      <td>2</td>\n",
       "      <td>NaN</td>\n",
       "      <td>0</td>\n",
       "      <td>1</td>\n",
       "    </tr>\n",
       "    <tr>\n",
       "      <th>1</th>\n",
       "      <td>1</td>\n",
       "      <td>2</td>\n",
       "      <td>['child']</td>\n",
       "      <td>['cradle']</td>\n",
       "      <td>[]</td>\n",
       "      <td>The child was carefully wrapped and bound into...</td>\n",
       "      <td>span1 4:9\\nspan2 51:57\\nsignal</td>\n",
       "      <td>0</td>\n",
       "      <td>-1</td>\n",
       "      <td>2</td>\n",
       "      <td>NaN</td>\n",
       "      <td>0</td>\n",
       "      <td>2</td>\n",
       "    </tr>\n",
       "    <tr>\n",
       "      <th>2</th>\n",
       "      <td>2</td>\n",
       "      <td>3</td>\n",
       "      <td>['author']</td>\n",
       "      <td>['disassembler']</td>\n",
       "      <td>[]</td>\n",
       "      <td>The author of a keygen uses a disassembler to ...</td>\n",
       "      <td>span1 4:10\\nspan2 30:42\\nsignal</td>\n",
       "      <td>0</td>\n",
       "      <td>1</td>\n",
       "      <td>2</td>\n",
       "      <td>NaN</td>\n",
       "      <td>0</td>\n",
       "      <td>3</td>\n",
       "    </tr>\n",
       "    <tr>\n",
       "      <th>3</th>\n",
       "      <td>3</td>\n",
       "      <td>4</td>\n",
       "      <td>['ridge']</td>\n",
       "      <td>['surge']</td>\n",
       "      <td>[]</td>\n",
       "      <td>A misty ridge uprises from the surge.</td>\n",
       "      <td>span1 8:13\\nspan2 31:36\\nsignal</td>\n",
       "      <td>0</td>\n",
       "      <td>-1</td>\n",
       "      <td>2</td>\n",
       "      <td>NaN</td>\n",
       "      <td>0</td>\n",
       "      <td>4</td>\n",
       "    </tr>\n",
       "    <tr>\n",
       "      <th>4</th>\n",
       "      <td>4</td>\n",
       "      <td>5</td>\n",
       "      <td>['student']</td>\n",
       "      <td>['association']</td>\n",
       "      <td>[]</td>\n",
       "      <td>The student association is the voice of the un...</td>\n",
       "      <td>span1 4:11\\nspan2 12:23\\nsignal</td>\n",
       "      <td>0</td>\n",
       "      <td>0</td>\n",
       "      <td>2</td>\n",
       "      <td>NaN</td>\n",
       "      <td>0</td>\n",
       "      <td>5</td>\n",
       "    </tr>\n",
       "  </tbody>\n",
       "</table>\n",
       "</div>"
      ],
      "text/plain": [
       "   Unnamed: 0  original_id              span1             span2 signal  \\\n",
       "0           0            1  ['configuration']      ['elements']     []   \n",
       "1           1            2          ['child']        ['cradle']     []   \n",
       "2           2            3         ['author']  ['disassembler']     []   \n",
       "3           3            4          ['ridge']         ['surge']     []   \n",
       "4           4            5        ['student']   ['association']     []   \n",
       "\n",
       "                                             context  \\\n",
       "0  The system as described above has its greatest...   \n",
       "1  The child was carefully wrapped and bound into...   \n",
       "2  The author of a keygen uses a disassembler to ...   \n",
       "3              A misty ridge uprises from the surge.   \n",
       "4  The student association is the voice of the un...   \n",
       "\n",
       "                                 idx  label  direction  source  ann_file  \\\n",
       "0  span1 73:86\\nspan2 98:106\\nsignal      0          1       2       NaN   \n",
       "1     span1 4:9\\nspan2 51:57\\nsignal      0         -1       2       NaN   \n",
       "2    span1 4:10\\nspan2 30:42\\nsignal      0          1       2       NaN   \n",
       "3    span1 8:13\\nspan2 31:36\\nsignal      0         -1       2       NaN   \n",
       "4    span1 4:11\\nspan2 12:23\\nsignal      0          0       2       NaN   \n",
       "\n",
       "   split  global_id  \n",
       "0      0          1  \n",
       "1      0          2  \n",
       "2      0          3  \n",
       "3      0          4  \n",
       "4      0          5  "
      ]
     },
     "execution_count": 73,
     "metadata": {},
     "output_type": "execute_result"
    }
   ],
   "source": [
    "df.head()"
   ]
  },
  {
   "cell_type": "code",
   "execution_count": 74,
   "metadata": {
    "collapsed": false,
    "jupyter": {
     "outputs_hidden": false
    },
    "pycharm": {
     "name": "#%%\n"
    }
   },
   "outputs": [],
   "source": [
    "# convert crest into cnn format\n",
    "def find_index_in_sentence(sentence, searched_word):\n",
    "    for i, word in enumerate(sentence):\n",
    "        if word == searched_word:\n",
    "            return i\n",
    "    return -1\n",
    "\n",
    "def extract_start_end_position(sentence, span):\n",
    "    # sentence = remove_special_characters(sentence) \n",
    "    # span = remove_special_characters(span) \n",
    "    span = span.split()\n",
    "    if len(span) == 0:\n",
    "        return -1, -1\n",
    "    else:\n",
    "        start = find_index_in_sentence(sentence, span[0])\n",
    "    if len(span) > 1:\n",
    "        end = find_index_in_sentence(sentence, span[-1]) \n",
    "    else:\n",
    "        end = start\n",
    "    return start, end \n",
    "\n",
    "def remove_special_characters(sentence): \n",
    "    specialChars = \"!#$%^&*()-,.\" \n",
    "    for specialChar in specialChars:\n",
    "        sentence = sentence.replace(specialChar, ' ')\n",
    "    sentence = ' '.join(sentence.split())\n",
    "    return sentence\n",
    "    \n",
    "\n",
    "for index, row in df.iterrows():\n",
    "    line = {}\n",
    "    line['id'] = str(row['global_id']) \n",
    "    if row['label'] == 1:\n",
    "        if row['direction'] == 0:\n",
    "            line['relation'] = \"Cause-Effect(e1,e2)\"\n",
    "        else:\n",
    "            line['relation'] = \"Cause-Effect(e2,e1)\"\n",
    "    else:\n",
    "        line['relation'] = \"Other\"\n",
    "    row['context'] = remove_special_characters(row['context'])\n",
    "    sentence = row['context'].split(\" \")\n",
    "    sentence.append(\".\") \n",
    "    span1, span2 = row['span1'][2:-2], row['span2'][2:-2]\n",
    "    line['head'] = remove_special_characters(span1)\n",
    "    line['tail'] = remove_special_characters(span2)\n",
    "    line['subj_start'], line['subj_end'] = extract_start_end_position(sentence, line['head']) \n",
    "    line['obj_start'], line['obj_end'] = extract_start_end_position(sentence, line['tail'])  \n",
    "    line['sentence'] = sentence\n",
    "    if row['split'] == 0:\n",
    "        json_train.append(line)\n",
    "    elif row['split'] == 2:\n",
    "        json_test.append(line)"
   ]
  },
  {
   "cell_type": "code",
   "execution_count": 75,
   "metadata": {
    "collapsed": false,
    "jupyter": {
     "outputs_hidden": false
    },
    "pycharm": {
     "name": "#%%\n"
    }
   },
   "outputs": [],
   "source": [
    "# save train.json; put it into CNN/data/\n",
    "import json\n",
    "with open(\"train2010.json\", \"w\") as json_file:\n",
    "    for line in json_train:\n",
    "        json_file.write(json.dumps(line))\n",
    "        json_file.write(\"\\n\")"
   ]
  },
  {
   "cell_type": "code",
   "execution_count": 76,
   "metadata": {
    "collapsed": false,
    "jupyter": {
     "outputs_hidden": false
    },
    "pycharm": {
     "name": "#%%\n"
    }
   },
   "outputs": [],
   "source": [
    "# save test.json; put it into CNN/data/\n",
    "with open(\"test2010.json\", \"w\") as json_file:\n",
    "    for line in json_test:\n",
    "        json_file.write(json.dumps(line))\n",
    "        json_file.write(\"\\n\")"
   ]
  },
  {
   "cell_type": "code",
   "execution_count": null,
   "metadata": {
    "collapsed": false,
    "jupyter": {
     "outputs_hidden": false
    },
    "pycharm": {
     "name": "#%%\n"
    }
   },
   "outputs": [],
   "source": []
  }
 ],
 "metadata": {
  "kernelspec": {
   "display_name": "Python 3 (ipykernel)",
   "language": "python",
   "name": "python3"
  },
  "language_info": {
   "codemirror_mode": {
    "name": "ipython",
    "version": 3
   },
   "file_extension": ".py",
   "mimetype": "text/x-python",
   "name": "python",
   "nbconvert_exporter": "python",
   "pygments_lexer": "ipython3",
   "version": "3.8.13"
  }
 },
 "nbformat": 4,
 "nbformat_minor": 4
}
