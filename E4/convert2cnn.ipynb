{
 "cells": [
  {
   "cell_type": "markdown",
   "source": [
    "# Convert Data From (CREST) to CNN Format\n",
    "This allows using word embedding dataloader for both baseline and CNN model."
   ],
   "metadata": {
    "collapsed": false,
    "pycharm": {
     "name": "#%% md\n"
    }
   }
  },
  {
   "cell_type": "code",
   "execution_count": 1,
   "outputs": [],
   "source": [
    "# read data from crest format\n",
    "import pandas as pd\n",
    "df = pd.read_excel('CNN/data/data_xlsx/simeval2010.xlsx')\n",
    "json_test = []\n",
    "json_train = []"
   ],
   "metadata": {
    "collapsed": false,
    "pycharm": {
     "name": "#%%\n"
    }
   }
  },
  {
   "cell_type": "code",
   "execution_count": 2,
   "metadata": {
    "pycharm": {
     "name": "#%%\n"
    }
   },
   "outputs": [
    {
     "data": {
      "text/plain": "   Unnamed: 0  original_id              span1             span2 signal  \\\n0           0            1  ['configuration']      ['elements']     []   \n1           1            2          ['child']        ['cradle']     []   \n2           2            3         ['author']  ['disassembler']     []   \n3           3            4          ['ridge']         ['surge']     []   \n4           4            5        ['student']   ['association']     []   \n\n                                             context  \\\n0  The system as described above has its greatest...   \n1  The child was carefully wrapped and bound into...   \n2  The author of a keygen uses a disassembler to ...   \n3              A misty ridge uprises from the surge.   \n4  The student association is the voice of the un...   \n\n                                 idx  label  direction  source  ann_file  \\\n0  span1 73:86\\nspan2 98:106\\nsignal      0          1       2       NaN   \n1     span1 4:9\\nspan2 51:57\\nsignal      0         -1       2       NaN   \n2    span1 4:10\\nspan2 30:42\\nsignal      0          1       2       NaN   \n3    span1 8:13\\nspan2 31:36\\nsignal      0         -1       2       NaN   \n4    span1 4:11\\nspan2 12:23\\nsignal      0          0       2       NaN   \n\n   split  global_id  \n0      0          1  \n1      0          2  \n2      0          3  \n3      0          4  \n4      0          5  ",
      "text/html": "<div>\n<style scoped>\n    .dataframe tbody tr th:only-of-type {\n        vertical-align: middle;\n    }\n\n    .dataframe tbody tr th {\n        vertical-align: top;\n    }\n\n    .dataframe thead th {\n        text-align: right;\n    }\n</style>\n<table border=\"1\" class=\"dataframe\">\n  <thead>\n    <tr style=\"text-align: right;\">\n      <th></th>\n      <th>Unnamed: 0</th>\n      <th>original_id</th>\n      <th>span1</th>\n      <th>span2</th>\n      <th>signal</th>\n      <th>context</th>\n      <th>idx</th>\n      <th>label</th>\n      <th>direction</th>\n      <th>source</th>\n      <th>ann_file</th>\n      <th>split</th>\n      <th>global_id</th>\n    </tr>\n  </thead>\n  <tbody>\n    <tr>\n      <th>0</th>\n      <td>0</td>\n      <td>1</td>\n      <td>['configuration']</td>\n      <td>['elements']</td>\n      <td>[]</td>\n      <td>The system as described above has its greatest...</td>\n      <td>span1 73:86\\nspan2 98:106\\nsignal</td>\n      <td>0</td>\n      <td>1</td>\n      <td>2</td>\n      <td>NaN</td>\n      <td>0</td>\n      <td>1</td>\n    </tr>\n    <tr>\n      <th>1</th>\n      <td>1</td>\n      <td>2</td>\n      <td>['child']</td>\n      <td>['cradle']</td>\n      <td>[]</td>\n      <td>The child was carefully wrapped and bound into...</td>\n      <td>span1 4:9\\nspan2 51:57\\nsignal</td>\n      <td>0</td>\n      <td>-1</td>\n      <td>2</td>\n      <td>NaN</td>\n      <td>0</td>\n      <td>2</td>\n    </tr>\n    <tr>\n      <th>2</th>\n      <td>2</td>\n      <td>3</td>\n      <td>['author']</td>\n      <td>['disassembler']</td>\n      <td>[]</td>\n      <td>The author of a keygen uses a disassembler to ...</td>\n      <td>span1 4:10\\nspan2 30:42\\nsignal</td>\n      <td>0</td>\n      <td>1</td>\n      <td>2</td>\n      <td>NaN</td>\n      <td>0</td>\n      <td>3</td>\n    </tr>\n    <tr>\n      <th>3</th>\n      <td>3</td>\n      <td>4</td>\n      <td>['ridge']</td>\n      <td>['surge']</td>\n      <td>[]</td>\n      <td>A misty ridge uprises from the surge.</td>\n      <td>span1 8:13\\nspan2 31:36\\nsignal</td>\n      <td>0</td>\n      <td>-1</td>\n      <td>2</td>\n      <td>NaN</td>\n      <td>0</td>\n      <td>4</td>\n    </tr>\n    <tr>\n      <th>4</th>\n      <td>4</td>\n      <td>5</td>\n      <td>['student']</td>\n      <td>['association']</td>\n      <td>[]</td>\n      <td>The student association is the voice of the un...</td>\n      <td>span1 4:11\\nspan2 12:23\\nsignal</td>\n      <td>0</td>\n      <td>0</td>\n      <td>2</td>\n      <td>NaN</td>\n      <td>0</td>\n      <td>5</td>\n    </tr>\n  </tbody>\n</table>\n</div>"
     },
     "execution_count": 2,
     "metadata": {},
     "output_type": "execute_result"
    }
   ],
   "source": [
    "df.head()"
   ]
  },
  {
   "cell_type": "code",
   "execution_count": 3,
   "metadata": {
    "collapsed": false,
    "jupyter": {
     "outputs_hidden": false
    },
    "pycharm": {
     "name": "#%%\n"
    }
   },
   "outputs": [],
   "source": [
    "# convert crest into cnn format\n",
    "def find_index_in_sentence(sentence, searched_word):\n",
    "    for i, word in enumerate(sentence):\n",
    "        if word == searched_word:\n",
    "            return i\n",
    "    return -1\n",
    "\n",
    "def extract_start_end_position(sentence, span):\n",
    "    # sentence = remove_special_characters(sentence) \n",
    "    # span = remove_special_characters(span) \n",
    "    span = span.split()\n",
    "    if len(span) == 0:\n",
    "        return -1, -1\n",
    "    else:\n",
    "        start = find_index_in_sentence(sentence, span[0])\n",
    "    if len(span) > 1:\n",
    "        end = find_index_in_sentence(sentence, span[-1]) \n",
    "    else:\n",
    "        end = start\n",
    "    return start, end \n",
    "\n",
    "def remove_special_characters(sentence): \n",
    "    specialChars = \"!#$%^&*()-,.\" \n",
    "    for specialChar in specialChars:\n",
    "        sentence = sentence.replace(specialChar, ' ')\n",
    "    sentence = ' '.join(sentence.split())\n",
    "    return sentence\n",
    "    \n",
    "#assign element from the CREST format to its equivalent in the cnn format\n",
    "for index, row in df.iterrows():\n",
    "    line = {}\n",
    "    line['id'] = str(row['global_id']) \n",
    "    if row['label'] == 1:\n",
    "        if row['direction'] == 0:\n",
    "            line['relation'] = \"Cause-Effect(e1,e2)\"\n",
    "        else:\n",
    "            line['relation'] = \"Cause-Effect(e2,e1)\"\n",
    "    else:\n",
    "        line['relation'] = \"Other\"\n",
    "    row['context'] = remove_special_characters(row['context'])\n",
    "    sentence = row['context'].split(\" \")\n",
    "    sentence.append(\".\") \n",
    "    span1, span2 = row['span1'][2:-2], row['span2'][2:-2]\n",
    "    line['head'] = remove_special_characters(span1)\n",
    "    line['tail'] = remove_special_characters(span2)\n",
    "    line['subj_start'], line['subj_end'] = extract_start_end_position(sentence, line['head']) \n",
    "    line['obj_start'], line['obj_end'] = extract_start_end_position(sentence, line['tail'])  \n",
    "    line['sentence'] = sentence\n",
    "    if row['split'] == 0:\n",
    "        json_train.append(line)\n",
    "    elif row['split'] == 2:\n",
    "        json_test.append(line)"
   ]
  },
  {
   "cell_type": "code",
   "execution_count": 4,
   "metadata": {
    "collapsed": false,
    "jupyter": {
     "outputs_hidden": false
    },
    "pycharm": {
     "name": "#%%\n"
    }
   },
   "outputs": [],
   "source": [
    "# save train.json; put it into CNN/data/\n",
    "import json\n",
    "with open(\"train.json\", \"w\") as json_file:\n",
    "    for line in json_train:\n",
    "        json_file.write(json.dumps(line))\n",
    "        json_file.write(\"\\n\")"
   ]
  },
  {
   "cell_type": "code",
   "execution_count": 5,
   "metadata": {
    "collapsed": false,
    "jupyter": {
     "outputs_hidden": false
    },
    "pycharm": {
     "name": "#%%\n"
    }
   },
   "outputs": [],
   "source": [
    "# save test.json; put it into CNN/data/\n",
    "with open(\"test.json\", \"w\") as json_file:\n",
    "    for line in json_test:\n",
    "        json_file.write(json.dumps(line))\n",
    "        json_file.write(\"\\n\")"
   ]
  },
  {
   "cell_type": "code",
   "execution_count": null,
   "metadata": {
    "collapsed": false,
    "jupyter": {
     "outputs_hidden": false
    },
    "pycharm": {
     "name": "#%%\n"
    }
   },
   "outputs": [],
   "source": []
  }
 ],
 "metadata": {
  "kernelspec": {
   "display_name": "Python 3 (ipykernel)",
   "language": "python",
   "name": "python3"
  },
  "language_info": {
   "codemirror_mode": {
    "name": "ipython",
    "version": 3
   },
   "file_extension": ".py",
   "mimetype": "text/x-python",
   "name": "python",
   "nbconvert_exporter": "python",
   "pygments_lexer": "ipython3",
   "version": "3.8.13"
  }
 },
 "nbformat": 4,
 "nbformat_minor": 4
}