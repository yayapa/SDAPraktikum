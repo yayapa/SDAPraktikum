{
 "cells": [
  {
   "cell_type": "markdown",
   "metadata": {
    "pycharm": {
     "name": "#%% md\n"
    }
   },
   "source": [
    "# Baseline for datasets"
   ]
  },
  {
   "cell_type": "code",
   "execution_count": 1,
   "metadata": {
    "pycharm": {
     "name": "#%%\n"
    }
   },
   "outputs": [
    {
     "name": "stderr",
     "output_type": "stream",
     "text": [
      "/home/dmitrii/anaconda3/envs/psdaub4/lib/python3.10/site-packages/tqdm/auto.py:22: TqdmWarning: IProgress not found. Please update jupyter and ipywidgets. See https://ipywidgets.readthedocs.io/en/stable/user_install.html\n",
      "  from .autonotebook import tqdm as notebook_tqdm\n"
     ]
    }
   ],
   "source": [
    "from CNN.config import Config\n",
    "from CNN.utils import WordEmbeddingLoader, RelationLoader, SemEvalDataLoader\n",
    "import numpy as np\n",
    "config = Config()\n",
    "config.batch_size = 1\n",
    "config.embedding_path = \"./CNN/embedding/hlbl-embeddings-scaled.EMBEDDING_SIZE=50.txt\"\n",
    "config.data_dir = \"./CNN/data/simeval2010/\"  # change the dataset here\n",
    "word2id, word_vec = WordEmbeddingLoader(config).load_embedding()\n",
    "rel2id, id2rel, class_num = RelationLoader(config).get_relation()\n",
    "loader = SemEvalDataLoader(rel2id, word2id, config)"
   ]
  },
  {
   "cell_type": "markdown",
   "metadata": {
    "pycharm": {
     "name": "#%% md\n"
    }
   },
   "source": [
    "## Get X and y vectors from dataset\n",
    "NB: X is already a feature vector got from the word embedding"
   ]
  },
  {
   "cell_type": "code",
   "execution_count": 2,
   "metadata": {
    "pycharm": {
     "name": "#%%\n"
    }
   },
   "outputs": [],
   "source": [
    "def get_x_y_from_loader(loader):\n",
    "    # upload train and test from dataloader\n",
    "    X = []\n",
    "    y = []\n",
    "    for step, (data, label) in enumerate(loader):\n",
    "        x = data.detach().numpy().flatten()\n",
    "        x.astype(int)\n",
    "        X.append(x)\n",
    "        y.append(label.detach().numpy()[0])\n",
    "    X = np.array(X)\n",
    "    y = np.array(y)\n",
    "    return X, y\n",
    "\n",
    "X_train, y_train = get_x_y_from_loader(loader.get_train())\n",
    "X_test, y_test = get_x_y_from_loader(loader.get_test())"
   ]
  },
  {
   "cell_type": "markdown",
   "metadata": {
    "pycharm": {
     "name": "#%% md\n"
    }
   },
   "source": [
    "## Metrics\n",
    "According to the [survey](https://link.springer.com/content/pdf/10.1007/s10115-022-01665-w.pdf), the main metrics are Accuracy, Precision, Recall and F1 Score. However, they may generate overoptimistic, misleading results on\n",
    "imbalanced datasets, as they failed to consider the ratio between positive and negative classes. To mitigate this, Matthews Correlation Coefficient (It is high only when the classifier is doing well in both positive and negative\n",
    "classes) and G-Mean-Score (a poor performance in positive examples prediction will lead to a low G-mean\n",
    "value, even if negative instances are correctly classified by the classifier) are used."
   ]
  },
  {
   "cell_type": "code",
   "execution_count": 3,
   "metadata": {
    "pycharm": {
     "name": "#%%\n"
    }
   },
   "outputs": [],
   "source": [
    "from custom_statistics import Statistics\n",
    "stats = Statistics()\n",
    "random_states = [0, 1, 42, 100, 5782]"
   ]
  },
  {
   "cell_type": "markdown",
   "metadata": {
    "pycharm": {
     "name": "#%% md\n"
    }
   },
   "source": [
    "## Baseline: Bayessian Classifier\n",
    "According to the [survey](https://link.springer.com/content/pdf/10.1007/s10115-022-01665-w.pdf), different baselines are possible. For instance, Logistic Regression, Decision Trees, SVM. [Sorgente et al.](http://ceur-ws.org/Vol-1109/paper4.pdf) used Naive Bayes."
   ]
  },
  {
   "cell_type": "markdown",
   "metadata": {
    "pycharm": {
     "name": "#%% md\n"
    }
   },
   "source": [
    "### Naive Bayes"
   ]
  },
  {
   "cell_type": "code",
   "execution_count": 4,
   "metadata": {
    "pycharm": {
     "name": "#%%\n"
    }
   },
   "outputs": [
    {
     "name": "stdout",
     "output_type": "stream",
     "text": [
      "Accuracy Score ->  0.3813029076186971\n",
      "Precision Score ->  0.7800360837739175\n",
      "Recall Score ->  0.3813029076186971\n",
      "F1 Score ->  0.4874455624889103\n",
      "Matthews Correlation Coefficient ->  0.010199865830754223\n",
      "G Mean Score ->  0.3518476211430939\n"
     ]
    }
   ],
   "source": [
    "from sklearn.naive_bayes import MultinomialNB\n",
    "nb = MultinomialNB()\n",
    "nb.fit(X_train, y_train)\n",
    "predictions_nb = nb.predict(X_test)\n",
    "re_nb = stats.get_metrics(predictions_nb, y_test, show=True)"
   ]
  },
  {
   "cell_type": "markdown",
   "metadata": {},
   "source": [
    "#### with train_test_split"
   ]
  },
  {
   "cell_type": "code",
   "execution_count": 5,
   "metadata": {},
   "outputs": [
    {
     "name": "stdout",
     "output_type": "stream",
     "text": [
      "Accuracy Score ->  0.41001104158998897\n",
      "Precision Score ->  0.7801453541099056\n",
      "Recall Score ->  0.41001104158998897\n",
      "F1 Score ->  0.5156699423987103\n",
      "Matthews Correlation Coefficient ->  0.009825948592028629\n",
      "G Mean Score ->  0.3507180494934826\n"
     ]
    }
   ],
   "source": [
    "from sklearn.model_selection import train_test_split\n",
    "\n",
    "# train_test_split(X_train, y_train, test_size=0.5, random_state=0, shuffle=False)  for dataset simeval2010\n",
    "# train_test_split(X_train, y_train, test_size=0.4, random_state=3) for dataset simeval2007\n",
    "XX_train, XX_test, yy_train, yy_test = train_test_split(X_train, y_train, test_size=0.5, random_state=0, shuffle=False) \n",
    "nb.fit(XX_train, yy_train)\n",
    "predictions_nb_split = nb.predict(X_test)\n",
    "re_nb_split = stats.get_metrics(predictions_nb_split, y_test, show=True)"
   ]
  },
  {
   "cell_type": "markdown",
   "metadata": {},
   "source": [
    "#### with RepeatedKFold"
   ]
  },
  {
   "cell_type": "code",
   "execution_count": 6,
   "metadata": {},
   "outputs": [
    {
     "name": "stdout",
     "output_type": "stream",
     "text": [
      "Accuracy Score ->  0.3702613176297387\n",
      "Precision Score ->  0.7829896147430058\n",
      "Recall Score ->  0.3702613176297387\n",
      "F1 Score ->  0.4773051801868002\n",
      "Matthews Correlation Coefficient ->  0.01197705235775481\n",
      "G Mean Score ->  0.34805434475766883\n"
     ]
    }
   ],
   "source": [
    "from sklearn.model_selection import RepeatedKFold\n",
    "\n",
    "rkf = RepeatedKFold(n_splits=10, n_repeats=2, random_state=3)\n",
    "for train, test in rkf.split(X_train):\n",
    "    Xx_train, Xx_test = X_train[train], X_train[test]\n",
    "    Yy_train, Yy_test = y_train[train], y_train[test]\n",
    "    nb_kf = nb.fit(Xx_train, Yy_train)\n",
    "predictions_nb_kf = nb_kf.predict(X_test)\n",
    "re_nb_kf = stats.get_metrics(predictions_nb_kf, y_test, show=True) "
   ]
  },
  {
   "cell_type": "markdown",
   "metadata": {
    "pycharm": {
     "name": "#%% md\n"
    }
   },
   "source": [
    "## Other possible baselines\n",
    "### Logistic Regression"
   ]
  },
  {
   "cell_type": "code",
   "execution_count": 7,
   "outputs": [
    {
     "name": "stderr",
     "output_type": "stream",
     "text": [
      "/home/dmitrii/anaconda3/envs/psdaub4/lib/python3.10/site-packages/sklearn/linear_model/_logistic.py:444: ConvergenceWarning: lbfgs failed to converge (status=1):\n",
      "STOP: TOTAL NO. of ITERATIONS REACHED LIMIT.\n",
      "\n",
      "Increase the number of iterations (max_iter) or scale the data as shown in:\n",
      "    https://scikit-learn.org/stable/modules/preprocessing.html\n",
      "Please also refer to the documentation for alternative solver options:\n",
      "    https://scikit-learn.org/stable/modules/linear_model.html#logistic-regression\n",
      "  n_iter_i = _check_optimize_result(\n",
      "/home/dmitrii/anaconda3/envs/psdaub4/lib/python3.10/site-packages/sklearn/linear_model/_logistic.py:444: ConvergenceWarning: lbfgs failed to converge (status=1):\n",
      "STOP: TOTAL NO. of ITERATIONS REACHED LIMIT.\n",
      "\n",
      "Increase the number of iterations (max_iter) or scale the data as shown in:\n",
      "    https://scikit-learn.org/stable/modules/preprocessing.html\n",
      "Please also refer to the documentation for alternative solver options:\n",
      "    https://scikit-learn.org/stable/modules/linear_model.html#logistic-regression\n",
      "  n_iter_i = _check_optimize_result(\n",
      "/home/dmitrii/anaconda3/envs/psdaub4/lib/python3.10/site-packages/sklearn/linear_model/_logistic.py:444: ConvergenceWarning: lbfgs failed to converge (status=1):\n",
      "STOP: TOTAL NO. of ITERATIONS REACHED LIMIT.\n",
      "\n",
      "Increase the number of iterations (max_iter) or scale the data as shown in:\n",
      "    https://scikit-learn.org/stable/modules/preprocessing.html\n",
      "Please also refer to the documentation for alternative solver options:\n",
      "    https://scikit-learn.org/stable/modules/linear_model.html#logistic-regression\n",
      "  n_iter_i = _check_optimize_result(\n",
      "/home/dmitrii/anaconda3/envs/psdaub4/lib/python3.10/site-packages/sklearn/linear_model/_logistic.py:444: ConvergenceWarning: lbfgs failed to converge (status=1):\n",
      "STOP: TOTAL NO. of ITERATIONS REACHED LIMIT.\n",
      "\n",
      "Increase the number of iterations (max_iter) or scale the data as shown in:\n",
      "    https://scikit-learn.org/stable/modules/preprocessing.html\n",
      "Please also refer to the documentation for alternative solver options:\n",
      "    https://scikit-learn.org/stable/modules/linear_model.html#logistic-regression\n",
      "  n_iter_i = _check_optimize_result(\n"
     ]
    },
    {
     "name": "stdout",
     "output_type": "stream",
     "text": [
      "Accuracy Score ->  (0.8763341921236659, 1.1102230246251565e-16)\n",
      "Precision Score ->  (0.7728174178602575, 0.0)\n",
      "Recall Score ->  (0.8763341921236659, 1.1102230246251565e-16)\n",
      "F1 Score ->  (0.8213269458546243, 0.0)\n",
      "Matthews Correlation Coefficient ->  (-0.015306158991591826, 1.734723475976807e-18)\n",
      "G Mean Score ->  (0.0, 0.0)\n"
     ]
    },
    {
     "name": "stderr",
     "output_type": "stream",
     "text": [
      "/home/dmitrii/anaconda3/envs/psdaub4/lib/python3.10/site-packages/sklearn/linear_model/_logistic.py:444: ConvergenceWarning: lbfgs failed to converge (status=1):\n",
      "STOP: TOTAL NO. of ITERATIONS REACHED LIMIT.\n",
      "\n",
      "Increase the number of iterations (max_iter) or scale the data as shown in:\n",
      "    https://scikit-learn.org/stable/modules/preprocessing.html\n",
      "Please also refer to the documentation for alternative solver options:\n",
      "    https://scikit-learn.org/stable/modules/linear_model.html#logistic-regression\n",
      "  n_iter_i = _check_optimize_result(\n"
     ]
    }
   ],
   "source": [
    "import warnings\n",
    "\n",
    "warnings.filterwarnings('ignore')\n",
    "\n",
    "stats.clean()\n",
    "from sklearn.linear_model import LogisticRegression\n",
    "for random_state in random_states:\n",
    "    logreg = LogisticRegression(solver='lbfgs', random_state=random_state, multi_class='multinomial', max_iter=100, n_jobs=16)\n",
    "    logreg.fit(X_train, y_train)\n",
    "    predictions_logreg = logreg.predict(X_test)\n",
    "    stats.add(predictions_logreg, y_test)\n",
    "re_logreg = stats.get_metrics(predictions_logreg, y_test, show=False)\n",
    "stats.show('weighted')"
   ],
   "metadata": {
    "collapsed": false,
    "pycharm": {
     "name": "#%%\n"
    }
   }
  },
  {
   "cell_type": "markdown",
   "source": [
    "#### with train_test_split"
   ],
   "metadata": {
    "collapsed": false,
    "pycharm": {
     "name": "#%% md\n"
    }
   }
  },
  {
   "cell_type": "code",
   "execution_count": 8,
   "outputs": [
    {
     "name": "stdout",
     "output_type": "stream",
     "text": [
      "Accuracy Score ->  0.8744939271255061\n",
      "Precision Score ->  0.7726205591356634\n",
      "Recall Score ->  0.8744939271255061\n",
      "F1 Score ->  0.8204068297281893\n",
      "Matthews Correlation Coefficient ->  -0.019751150711162176\n",
      "G Mean Score ->  0.0\n"
     ]
    },
    {
     "name": "stderr",
     "output_type": "stream",
     "text": [
      "/home/dmitrii/anaconda3/envs/psdaub4/lib/python3.10/site-packages/sklearn/linear_model/_logistic.py:444: ConvergenceWarning: lbfgs failed to converge (status=1):\n",
      "STOP: TOTAL NO. of ITERATIONS REACHED LIMIT.\n",
      "\n",
      "Increase the number of iterations (max_iter) or scale the data as shown in:\n",
      "    https://scikit-learn.org/stable/modules/preprocessing.html\n",
      "Please also refer to the documentation for alternative solver options:\n",
      "    https://scikit-learn.org/stable/modules/linear_model.html#logistic-regression\n",
      "  n_iter_i = _check_optimize_result(\n"
     ]
    }
   ],
   "source": [
    "logreg.fit(XX_train, yy_train)\n",
    "predictions_logreg = logreg.predict(X_test)\n",
    "re_logreg_split = stats.get_metrics(predictions_logreg, y_test, show=True)"
   ],
   "metadata": {
    "collapsed": false,
    "pycharm": {
     "name": "#%%\n"
    }
   }
  },
  {
   "cell_type": "markdown",
   "source": [
    "#### with RepeatedKFold"
   ],
   "metadata": {
    "collapsed": false,
    "pycharm": {
     "name": "#%% md\n"
    }
   }
  },
  {
   "cell_type": "code",
   "execution_count": 9,
   "outputs": [
    {
     "name": "stderr",
     "output_type": "stream",
     "text": [
      "/home/dmitrii/anaconda3/envs/psdaub4/lib/python3.10/site-packages/sklearn/linear_model/_logistic.py:444: ConvergenceWarning: lbfgs failed to converge (status=1):\n",
      "STOP: TOTAL NO. of ITERATIONS REACHED LIMIT.\n",
      "\n",
      "Increase the number of iterations (max_iter) or scale the data as shown in:\n",
      "    https://scikit-learn.org/stable/modules/preprocessing.html\n",
      "Please also refer to the documentation for alternative solver options:\n",
      "    https://scikit-learn.org/stable/modules/linear_model.html#logistic-regression\n",
      "  n_iter_i = _check_optimize_result(\n",
      "/home/dmitrii/anaconda3/envs/psdaub4/lib/python3.10/site-packages/sklearn/linear_model/_logistic.py:444: ConvergenceWarning: lbfgs failed to converge (status=1):\n",
      "STOP: TOTAL NO. of ITERATIONS REACHED LIMIT.\n",
      "\n",
      "Increase the number of iterations (max_iter) or scale the data as shown in:\n",
      "    https://scikit-learn.org/stable/modules/preprocessing.html\n",
      "Please also refer to the documentation for alternative solver options:\n",
      "    https://scikit-learn.org/stable/modules/linear_model.html#logistic-regression\n",
      "  n_iter_i = _check_optimize_result(\n",
      "/home/dmitrii/anaconda3/envs/psdaub4/lib/python3.10/site-packages/sklearn/linear_model/_logistic.py:444: ConvergenceWarning: lbfgs failed to converge (status=1):\n",
      "STOP: TOTAL NO. of ITERATIONS REACHED LIMIT.\n",
      "\n",
      "Increase the number of iterations (max_iter) or scale the data as shown in:\n",
      "    https://scikit-learn.org/stable/modules/preprocessing.html\n",
      "Please also refer to the documentation for alternative solver options:\n",
      "    https://scikit-learn.org/stable/modules/linear_model.html#logistic-regression\n",
      "  n_iter_i = _check_optimize_result(\n",
      "/home/dmitrii/anaconda3/envs/psdaub4/lib/python3.10/site-packages/sklearn/linear_model/_logistic.py:444: ConvergenceWarning: lbfgs failed to converge (status=1):\n",
      "STOP: TOTAL NO. of ITERATIONS REACHED LIMIT.\n",
      "\n",
      "Increase the number of iterations (max_iter) or scale the data as shown in:\n",
      "    https://scikit-learn.org/stable/modules/preprocessing.html\n",
      "Please also refer to the documentation for alternative solver options:\n",
      "    https://scikit-learn.org/stable/modules/linear_model.html#logistic-regression\n",
      "  n_iter_i = _check_optimize_result(\n",
      "/home/dmitrii/anaconda3/envs/psdaub4/lib/python3.10/site-packages/sklearn/linear_model/_logistic.py:444: ConvergenceWarning: lbfgs failed to converge (status=1):\n",
      "STOP: TOTAL NO. of ITERATIONS REACHED LIMIT.\n",
      "\n",
      "Increase the number of iterations (max_iter) or scale the data as shown in:\n",
      "    https://scikit-learn.org/stable/modules/preprocessing.html\n",
      "Please also refer to the documentation for alternative solver options:\n",
      "    https://scikit-learn.org/stable/modules/linear_model.html#logistic-regression\n",
      "  n_iter_i = _check_optimize_result(\n",
      "/home/dmitrii/anaconda3/envs/psdaub4/lib/python3.10/site-packages/sklearn/linear_model/_logistic.py:444: ConvergenceWarning: lbfgs failed to converge (status=1):\n",
      "STOP: TOTAL NO. of ITERATIONS REACHED LIMIT.\n",
      "\n",
      "Increase the number of iterations (max_iter) or scale the data as shown in:\n",
      "    https://scikit-learn.org/stable/modules/preprocessing.html\n",
      "Please also refer to the documentation for alternative solver options:\n",
      "    https://scikit-learn.org/stable/modules/linear_model.html#logistic-regression\n",
      "  n_iter_i = _check_optimize_result(\n",
      "/home/dmitrii/anaconda3/envs/psdaub4/lib/python3.10/site-packages/sklearn/linear_model/_logistic.py:444: ConvergenceWarning: lbfgs failed to converge (status=1):\n",
      "STOP: TOTAL NO. of ITERATIONS REACHED LIMIT.\n",
      "\n",
      "Increase the number of iterations (max_iter) or scale the data as shown in:\n",
      "    https://scikit-learn.org/stable/modules/preprocessing.html\n",
      "Please also refer to the documentation for alternative solver options:\n",
      "    https://scikit-learn.org/stable/modules/linear_model.html#logistic-regression\n",
      "  n_iter_i = _check_optimize_result(\n",
      "/home/dmitrii/anaconda3/envs/psdaub4/lib/python3.10/site-packages/sklearn/linear_model/_logistic.py:444: ConvergenceWarning: lbfgs failed to converge (status=1):\n",
      "STOP: TOTAL NO. of ITERATIONS REACHED LIMIT.\n",
      "\n",
      "Increase the number of iterations (max_iter) or scale the data as shown in:\n",
      "    https://scikit-learn.org/stable/modules/preprocessing.html\n",
      "Please also refer to the documentation for alternative solver options:\n",
      "    https://scikit-learn.org/stable/modules/linear_model.html#logistic-regression\n",
      "  n_iter_i = _check_optimize_result(\n",
      "/home/dmitrii/anaconda3/envs/psdaub4/lib/python3.10/site-packages/sklearn/linear_model/_logistic.py:444: ConvergenceWarning: lbfgs failed to converge (status=1):\n",
      "STOP: TOTAL NO. of ITERATIONS REACHED LIMIT.\n",
      "\n",
      "Increase the number of iterations (max_iter) or scale the data as shown in:\n",
      "    https://scikit-learn.org/stable/modules/preprocessing.html\n",
      "Please also refer to the documentation for alternative solver options:\n",
      "    https://scikit-learn.org/stable/modules/linear_model.html#logistic-regression\n",
      "  n_iter_i = _check_optimize_result(\n",
      "/home/dmitrii/anaconda3/envs/psdaub4/lib/python3.10/site-packages/sklearn/linear_model/_logistic.py:444: ConvergenceWarning: lbfgs failed to converge (status=1):\n",
      "STOP: TOTAL NO. of ITERATIONS REACHED LIMIT.\n",
      "\n",
      "Increase the number of iterations (max_iter) or scale the data as shown in:\n",
      "    https://scikit-learn.org/stable/modules/preprocessing.html\n",
      "Please also refer to the documentation for alternative solver options:\n",
      "    https://scikit-learn.org/stable/modules/linear_model.html#logistic-regression\n",
      "  n_iter_i = _check_optimize_result(\n"
     ]
    },
    {
     "name": "stdout",
     "output_type": "stream",
     "text": [
      "Accuracy Score ->  0.8763341921236658\n",
      "Precision Score ->  0.7728174178602575\n",
      "Recall Score ->  0.8763341921236658\n",
      "F1 Score ->  0.8213269458546243\n",
      "Matthews Correlation Coefficient ->  -0.015306158991591825\n",
      "G Mean Score ->  0.0\n"
     ]
    }
   ],
   "source": [
    "for train, test in rkf.split(X_train):\n",
    "    Xx_train, Xx_test = X_train[train], X_train[test]\n",
    "    Yy_train, Yy_test = y_train[train], y_train[test]\n",
    "    logreg_kf = logreg.fit(Xx_train, Yy_train)\n",
    "predictions_logreg_kf = logreg_kf.predict(X_test)\n",
    "re_logreg_kf = stats.get_metrics(predictions_logreg_kf, y_test, show=True)"
   ],
   "metadata": {
    "collapsed": false,
    "pycharm": {
     "name": "#%%\n"
    }
   }
  },
  {
   "cell_type": "markdown",
   "source": [
    "### SVM\n",
    "NB: for large datasets can have a long training period"
   ],
   "metadata": {
    "collapsed": false,
    "pycharm": {
     "name": "#%% md\n"
    }
   }
  },
  {
   "cell_type": "code",
   "execution_count": 10,
   "outputs": [
    {
     "name": "stdout",
     "output_type": "stream",
     "text": [
      "Accuracy Score ->  (0.8792786161207214, 1.1102230246251565e-16)\n",
      "Precision Score ->  (0.773130884767171, 0.0)\n",
      "Recall Score ->  (0.8792786161207214, 1.1102230246251565e-16)\n",
      "F1 Score ->  (0.8227953834361157, 0.0)\n",
      "Matthews Correlation Coefficient ->  (0.0, 0.0)\n",
      "G Mean Score ->  (0.0, 0.0)\n"
     ]
    }
   ],
   "source": [
    "from sklearn import svm\n",
    "stats.clean()\n",
    "for random_state in random_states:\n",
    "    SVM = svm.SVC(random_state=random_state)\n",
    "    SVM.fit(X_train, y_train)\n",
    "    predictions_SVM = SVM.predict(X_test)\n",
    "    stats.add(predictions_SVM, y_test)\n",
    "re_SVM = stats.get_metrics(predictions_SVM, y_test, show=False)\n",
    "stats.show('weighted')"
   ],
   "metadata": {
    "collapsed": false,
    "pycharm": {
     "name": "#%%\n"
    }
   }
  },
  {
   "cell_type": "markdown",
   "metadata": {},
   "source": [
    "#### with train_test_split"
   ]
  },
  {
   "cell_type": "code",
   "execution_count": 11,
   "metadata": {},
   "outputs": [
    {
     "name": "stdout",
     "output_type": "stream",
     "text": [
      "Accuracy Score ->  0.8792786161207213\n",
      "Precision Score ->  0.773130884767171\n",
      "Recall Score ->  0.8792786161207213\n",
      "F1 Score ->  0.8227953834361157\n",
      "Matthews Correlation Coefficient ->  0.0\n",
      "G Mean Score ->  0.0\n"
     ]
    }
   ],
   "source": [
    "SVM.fit(XX_train, yy_train)\n",
    "predictions_SVM_split = SVM.predict(X_test)\n",
    "re_SVM_split = stats.get_metrics(predictions_SVM_split, y_test, show=True)"
   ]
  },
  {
   "cell_type": "markdown",
   "metadata": {},
   "source": [
    "#### with RepeatedKFold"
   ]
  },
  {
   "cell_type": "code",
   "execution_count": 12,
   "metadata": {},
   "outputs": [
    {
     "name": "stdout",
     "output_type": "stream",
     "text": [
      "Accuracy Score ->  0.8792786161207213\n",
      "Precision Score ->  0.773130884767171\n",
      "Recall Score ->  0.8792786161207213\n",
      "F1 Score ->  0.8227953834361157\n",
      "Matthews Correlation Coefficient ->  0.0\n",
      "G Mean Score ->  0.0\n"
     ]
    }
   ],
   "source": [
    "for train, test in rkf.split(X_train):\n",
    "    Xx_train, Xx_test = X_train[train], X_train[test]\n",
    "    Yy_train, Yy_test = y_train[train], y_train[test]\n",
    "    SVM_kf = SVM.fit(Xx_train, Yy_train)\n",
    "predictions_SVM_kf = SVM_kf.predict(X_test)\n",
    "re_SVM_kf  = stats.get_metrics(predictions_SVM_kf, y_test, show=True)"
   ]
  },
  {
   "cell_type": "markdown",
   "metadata": {
    "pycharm": {
     "name": "#%% md\n"
    }
   },
   "source": [
    "### Decision Tree"
   ]
  },
  {
   "cell_type": "code",
   "execution_count": 13,
   "metadata": {
    "pycharm": {
     "name": "#%%\n"
    }
   },
   "outputs": [
    {
     "name": "stdout",
     "output_type": "stream",
     "text": [
      "Accuracy Score ->  (0.7877806404122193, 0.0010305483989694758)\n",
      "Precision Score ->  (0.8131643803551325, 0.002170700206398527)\n",
      "Recall Score ->  (0.7877806404122193, 0.0010305483989694758)\n",
      "F1 Score ->  (0.7994137610508695, 0.0014479332451553949)\n",
      "Matthews Correlation Coefficient ->  (0.148054418746734, 0.008882015103541127)\n",
      "G Mean Score ->  (0.33116129745533646, 0.01597169616427928)\n"
     ]
    }
   ],
   "source": [
    "from sklearn.tree import DecisionTreeClassifier\n",
    "stats.clean()\n",
    "for random_state in random_states:\n",
    "    dtc = DecisionTreeClassifier(random_state=random_state)\n",
    "    dtc.fit(X_train, y_train)\n",
    "    predictions_dtc = dtc.predict(X_test)\n",
    "    stats.add(predictions_dtc, y_test)\n",
    "re_dt = stats.get_metrics(predictions_dtc, y_test, show=False)\n",
    "stats.show('weighted')"
   ]
  },
  {
   "cell_type": "markdown",
   "metadata": {},
   "source": [
    "#### with train_test_split"
   ]
  },
  {
   "cell_type": "code",
   "execution_count": 14,
   "metadata": {},
   "outputs": [
    {
     "name": "stdout",
     "output_type": "stream",
     "text": [
      "Accuracy Score ->  0.7673905042326095\n",
      "Precision Score ->  0.796681322240225\n",
      "Recall Score ->  0.7673905042326095\n",
      "F1 Score ->  0.7813185694484687\n",
      "Matthews Correlation Coefficient ->  0.0709069452453647\n",
      "G Mean Score ->  0.26391750625323535\n"
     ]
    }
   ],
   "source": [
    "dtc.fit(XX_train, yy_train)\n",
    "predictions_dtc_split = dtc.predict(X_test)\n",
    "re_dtc_split = stats.get_metrics(predictions_dtc_split, y_test, show=True)"
   ]
  },
  {
   "cell_type": "markdown",
   "metadata": {},
   "source": [
    "#### with RepeatedKFold"
   ]
  },
  {
   "cell_type": "code",
   "execution_count": 15,
   "metadata": {},
   "outputs": [
    {
     "name": "stdout",
     "output_type": "stream",
     "text": [
      "Accuracy Score ->  0.7872653662127347\n",
      "Precision Score ->  0.8109710895984936\n",
      "Recall Score ->  0.7872653662127347\n",
      "F1 Score ->  0.798467677536392\n",
      "Matthews Correlation Coefficient ->  0.1364736122216408\n",
      "G Mean Score ->  0.3298745968086759\n"
     ]
    }
   ],
   "source": [
    "for train, test in rkf.split(X_train):\n",
    "    Xx_train, Xx_test = X_train[train], X_train[test]\n",
    "    Yy_train, Yy_test = y_train[train], y_train[test]\n",
    "    dtc_kf = dtc.fit(Xx_train, Yy_train)\n",
    "predictions_dtc_kf = dtc_kf.predict(X_test)\n",
    "re_dtc_kf  = stats.get_metrics(predictions_dtc_kf, y_test, show=True)"
   ]
  },
  {
   "cell_type": "markdown",
   "metadata": {
    "pycharm": {
     "name": "#%% md\n"
    }
   },
   "source": [
    "### Random Forest"
   ]
  },
  {
   "cell_type": "code",
   "execution_count": 16,
   "metadata": {
    "pycharm": {
     "name": "#%%\n"
    }
   },
   "outputs": [
    {
     "name": "stdout",
     "output_type": "stream",
     "text": [
      "Accuracy Score ->  (0.8806772175193227, 0.0002754256449594313)\n",
      "Precision Score ->  (0.8520937747560282, 0.03514320883015394)\n",
      "Recall Score ->  (0.8806772175193227, 0.0002754256449594313)\n",
      "F1 Score ->  (0.8261458883471615, 0.0006647401132785711)\n",
      "Matthews Correlation Coefficient ->  (0.10271995216321432, 0.009909800758914311)\n",
      "G Mean Score ->  (0.022005344494685337, 0.027246403756143133)\n"
     ]
    }
   ],
   "source": [
    "from sklearn.ensemble import RandomForestClassifier\n",
    "stats.clean()\n",
    "for random_state in random_states:\n",
    "    rfc = RandomForestClassifier(random_state=random_state)\n",
    "    rfc.fit(X_train, y_train)\n",
    "    predictions_rfc = rfc.predict(X_test)\n",
    "    stats.add(predictions_rfc, y_test)\n",
    "re_rfc = stats.get_metrics(predictions_rfc, y_test, show=False)\n",
    "stats.show('weighted')"
   ]
  },
  {
   "cell_type": "markdown",
   "metadata": {
    "pycharm": {
     "name": "#%%\n"
    }
   },
   "source": [
    "#### with train_test_split"
   ]
  },
  {
   "cell_type": "code",
   "execution_count": 17,
   "metadata": {
    "pycharm": {
     "name": "#%%\n"
    }
   },
   "outputs": [
    {
     "name": "stdout",
     "output_type": "stream",
     "text": [
      "Accuracy Score ->  0.8789105631210894\n",
      "Precision Score ->  0.7979970810711996\n",
      "Recall Score ->  0.8789105631210894\n",
      "F1 Score ->  0.8233151522338543\n",
      "Matthews Correlation Coefficient ->  0.024556939503716138\n",
      "G Mean Score ->  0.0\n"
     ]
    }
   ],
   "source": [
    "rfc.fit(XX_train, yy_train)\n",
    "predictions_rfc_split = rfc.predict(X_test)\n",
    "re_rfc_split = stats.get_metrics(predictions_rfc_split, y_test, show=True)"
   ]
  },
  {
   "cell_type": "markdown",
   "metadata": {},
   "source": [
    "#### with RepeatedKFold"
   ]
  },
  {
   "cell_type": "code",
   "execution_count": 18,
   "metadata": {},
   "outputs": [
    {
     "name": "stdout",
     "output_type": "stream",
     "text": [
      "Accuracy Score ->  0.8807508281192492\n",
      "Precision Score ->  0.8949921593722396\n",
      "Recall Score ->  0.8807508281192492\n",
      "F1 Score ->  0.82633275194342\n",
      "Matthews Correlation Coefficient ->  0.10575525811002594\n",
      "G Mean Score ->  0.04868609125904858\n"
     ]
    }
   ],
   "source": [
    "for train, test in rkf.split(X_train):\n",
    "    Xx_train, Xx_test = X_train[train], X_train[test]\n",
    "    Yy_train, Yy_test = y_train[train], y_train[test]\n",
    "    rfc_kf = rfc.fit(Xx_train, Yy_train)\n",
    "predictions_rfc_kf = rfc_kf.predict(X_test)\n",
    "re_rfc_kf  = stats.get_metrics(predictions_rfc_kf, y_test, show=True)"
   ]
  },
  {
   "cell_type": "code",
   "execution_count": 19,
   "metadata": {},
   "outputs": [
    {
     "data": {
      "text/plain": "                                  Naive Bayes  \\\nAccuracy Score                       0.381303   \nPrecision Score                      0.780036   \nRecall Score                         0.381303   \nF1 Score                             0.487446   \nMatthews Correlation Coefficient     0.010200   \nG Mean Score                         0.351848   \n\n                                  Naive Bayes with train_test_split  \\\nAccuracy Score                                             0.410011   \nPrecision Score                                            0.780145   \nRecall Score                                               0.410011   \nF1 Score                                                   0.515670   \nMatthews Correlation Coefficient                           0.009826   \nG Mean Score                                               0.350718   \n\n                                  Naive Bayes with RepeatedKFold  \nAccuracy Score                                          0.370261  \nPrecision Score                                         0.782990  \nRecall Score                                            0.370261  \nF1 Score                                                0.477305  \nMatthews Correlation Coefficient                        0.011977  \nG Mean Score                                            0.348054  ",
      "text/html": "<div>\n<style scoped>\n    .dataframe tbody tr th:only-of-type {\n        vertical-align: middle;\n    }\n\n    .dataframe tbody tr th {\n        vertical-align: top;\n    }\n\n    .dataframe thead th {\n        text-align: right;\n    }\n</style>\n<table border=\"1\" class=\"dataframe\">\n  <thead>\n    <tr style=\"text-align: right;\">\n      <th></th>\n      <th>Naive Bayes</th>\n      <th>Naive Bayes with train_test_split</th>\n      <th>Naive Bayes with RepeatedKFold</th>\n    </tr>\n  </thead>\n  <tbody>\n    <tr>\n      <th>Accuracy Score</th>\n      <td>0.381303</td>\n      <td>0.410011</td>\n      <td>0.370261</td>\n    </tr>\n    <tr>\n      <th>Precision Score</th>\n      <td>0.780036</td>\n      <td>0.780145</td>\n      <td>0.782990</td>\n    </tr>\n    <tr>\n      <th>Recall Score</th>\n      <td>0.381303</td>\n      <td>0.410011</td>\n      <td>0.370261</td>\n    </tr>\n    <tr>\n      <th>F1 Score</th>\n      <td>0.487446</td>\n      <td>0.515670</td>\n      <td>0.477305</td>\n    </tr>\n    <tr>\n      <th>Matthews Correlation Coefficient</th>\n      <td>0.010200</td>\n      <td>0.009826</td>\n      <td>0.011977</td>\n    </tr>\n    <tr>\n      <th>G Mean Score</th>\n      <td>0.351848</td>\n      <td>0.350718</td>\n      <td>0.348054</td>\n    </tr>\n  </tbody>\n</table>\n</div>"
     },
     "execution_count": 19,
     "metadata": {},
     "output_type": "execute_result"
    }
   ],
   "source": [
    "import matplotlib.pyplot as plt\n",
    "import pandas as pd\n",
    "\n",
    "re1 = pd.DataFrame(re_nb, columns=['Naive Bayes'],\n",
    "                 index=['Accuracy Score', 'Precision Score', 'Recall Score', 'F1 Score', 'Matthews Correlation Coefficient', 'G Mean Score'])\n",
    "l1 = pd.DataFrame(re_nb_split, \n",
    "                 index=['Accuracy Score', 'Precision Score', 'Recall Score', 'F1 Score', 'Matthews Correlation Coefficient', 'G Mean Score'])\n",
    "re1['Naive Bayes with train_test_split'] = l1\n",
    "l2 = pd.DataFrame(re_nb_kf, \n",
    "                 index=['Accuracy Score', 'Precision Score', 'Recall Score', 'F1 Score', 'Matthews Correlation Coefficient', 'G Mean Score'])\n",
    "re1['Naive Bayes with RepeatedKFold'] = l2\n",
    "re1"
   ]
  },
  {
   "cell_type": "code",
   "execution_count": 20,
   "metadata": {},
   "outputs": [
    {
     "data": {
      "text/plain": "                                  Logistic Regression  \\\nAccuracy Score                               0.876334   \nPrecision Score                              0.772817   \nRecall Score                                 0.876334   \nF1 Score                                     0.821327   \nMatthews Correlation Coefficient            -0.015306   \nG Mean Score                                 0.000000   \n\n                                  Logistic Regression with train_test_split  \\\nAccuracy Score                                                     0.874494   \nPrecision Score                                                    0.772621   \nRecall Score                                                       0.874494   \nF1 Score                                                           0.820407   \nMatthews Correlation Coefficient                                  -0.019751   \nG Mean Score                                                       0.000000   \n\n                                  Logistic Regression with RepeatedKFold  \nAccuracy Score                                                  0.876334  \nPrecision Score                                                 0.772817  \nRecall Score                                                    0.876334  \nF1 Score                                                        0.821327  \nMatthews Correlation Coefficient                               -0.015306  \nG Mean Score                                                    0.000000  ",
      "text/html": "<div>\n<style scoped>\n    .dataframe tbody tr th:only-of-type {\n        vertical-align: middle;\n    }\n\n    .dataframe tbody tr th {\n        vertical-align: top;\n    }\n\n    .dataframe thead th {\n        text-align: right;\n    }\n</style>\n<table border=\"1\" class=\"dataframe\">\n  <thead>\n    <tr style=\"text-align: right;\">\n      <th></th>\n      <th>Logistic Regression</th>\n      <th>Logistic Regression with train_test_split</th>\n      <th>Logistic Regression with RepeatedKFold</th>\n    </tr>\n  </thead>\n  <tbody>\n    <tr>\n      <th>Accuracy Score</th>\n      <td>0.876334</td>\n      <td>0.874494</td>\n      <td>0.876334</td>\n    </tr>\n    <tr>\n      <th>Precision Score</th>\n      <td>0.772817</td>\n      <td>0.772621</td>\n      <td>0.772817</td>\n    </tr>\n    <tr>\n      <th>Recall Score</th>\n      <td>0.876334</td>\n      <td>0.874494</td>\n      <td>0.876334</td>\n    </tr>\n    <tr>\n      <th>F1 Score</th>\n      <td>0.821327</td>\n      <td>0.820407</td>\n      <td>0.821327</td>\n    </tr>\n    <tr>\n      <th>Matthews Correlation Coefficient</th>\n      <td>-0.015306</td>\n      <td>-0.019751</td>\n      <td>-0.015306</td>\n    </tr>\n    <tr>\n      <th>G Mean Score</th>\n      <td>0.000000</td>\n      <td>0.000000</td>\n      <td>0.000000</td>\n    </tr>\n  </tbody>\n</table>\n</div>"
     },
     "execution_count": 20,
     "metadata": {},
     "output_type": "execute_result"
    }
   ],
   "source": [
    "re2 = pd.DataFrame(re_logreg, columns=['Logistic Regression'], \n",
    "                   index=['Accuracy Score', 'Precision Score', 'Recall Score', 'F1 Score', 'Matthews Correlation Coefficient', 'G Mean Score'])\n",
    "l3 = pd.DataFrame(re_logreg_split, \n",
    "                  index=['Accuracy Score', 'Precision Score', 'Recall Score', 'F1 Score', 'Matthews Correlation Coefficient', 'G Mean Score'])\n",
    "re2['Logistic Regression with train_test_split'] = l3\n",
    "l4 = pd.DataFrame(re_logreg_kf, \n",
    "                  index=['Accuracy Score', 'Precision Score', 'Recall Score', 'F1 Score', 'Matthews Correlation Coefficient', 'G Mean Score'])\n",
    "re2['Logistic Regression with RepeatedKFold'] = l4\n",
    "re2"
   ]
  },
  {
   "cell_type": "code",
   "execution_count": 21,
   "metadata": {},
   "outputs": [
    {
     "data": {
      "text/plain": "                                       SVM  SVM with train_test_split  \\\nAccuracy Score                    0.879279                   0.879279   \nPrecision Score                   0.773131                   0.773131   \nRecall Score                      0.879279                   0.879279   \nF1 Score                          0.822795                   0.822795   \nMatthews Correlation Coefficient  0.000000                   0.000000   \nG Mean Score                      0.000000                   0.000000   \n\n                                  SVM with RepeatedKFold  \nAccuracy Score                                  0.879279  \nPrecision Score                                 0.773131  \nRecall Score                                    0.879279  \nF1 Score                                        0.822795  \nMatthews Correlation Coefficient                0.000000  \nG Mean Score                                    0.000000  ",
      "text/html": "<div>\n<style scoped>\n    .dataframe tbody tr th:only-of-type {\n        vertical-align: middle;\n    }\n\n    .dataframe tbody tr th {\n        vertical-align: top;\n    }\n\n    .dataframe thead th {\n        text-align: right;\n    }\n</style>\n<table border=\"1\" class=\"dataframe\">\n  <thead>\n    <tr style=\"text-align: right;\">\n      <th></th>\n      <th>SVM</th>\n      <th>SVM with train_test_split</th>\n      <th>SVM with RepeatedKFold</th>\n    </tr>\n  </thead>\n  <tbody>\n    <tr>\n      <th>Accuracy Score</th>\n      <td>0.879279</td>\n      <td>0.879279</td>\n      <td>0.879279</td>\n    </tr>\n    <tr>\n      <th>Precision Score</th>\n      <td>0.773131</td>\n      <td>0.773131</td>\n      <td>0.773131</td>\n    </tr>\n    <tr>\n      <th>Recall Score</th>\n      <td>0.879279</td>\n      <td>0.879279</td>\n      <td>0.879279</td>\n    </tr>\n    <tr>\n      <th>F1 Score</th>\n      <td>0.822795</td>\n      <td>0.822795</td>\n      <td>0.822795</td>\n    </tr>\n    <tr>\n      <th>Matthews Correlation Coefficient</th>\n      <td>0.000000</td>\n      <td>0.000000</td>\n      <td>0.000000</td>\n    </tr>\n    <tr>\n      <th>G Mean Score</th>\n      <td>0.000000</td>\n      <td>0.000000</td>\n      <td>0.000000</td>\n    </tr>\n  </tbody>\n</table>\n</div>"
     },
     "execution_count": 21,
     "metadata": {},
     "output_type": "execute_result"
    }
   ],
   "source": [
    "re3 = pd.DataFrame(re_SVM, columns=['SVM'], \n",
    "                  index=['Accuracy Score', 'Precision Score', 'Recall Score', 'F1 Score', 'Matthews Correlation Coefficient', 'G Mean Score'])\n",
    "re3['SVM with train_test_split'] = pd.DataFrame(re_SVM_split, \n",
    "                                                index=['Accuracy Score', 'Precision Score', 'Recall Score', 'F1 Score', \n",
    "                                                       'Matthews Correlation Coefficient', 'G Mean Score'])\n",
    "re3['SVM with RepeatedKFold'] = pd.DataFrame(re_SVM_kf, \n",
    "                                             index=['Accuracy Score', 'Precision Score', 'Recall Score', 'F1 Score', \n",
    "                                                    'Matthews Correlation Coefficient', 'G Mean Score'])\n",
    "re3"
   ]
  },
  {
   "cell_type": "code",
   "execution_count": 22,
   "metadata": {},
   "outputs": [
    {
     "data": {
      "text/plain": "                                  Decision Tree  \\\nAccuracy Score                         0.788001   \nPrecision Score                        0.813051   \nRecall Score                           0.788001   \nF1 Score                               0.799481   \nMatthews Correlation Coefficient       0.147464   \nG Mean Score                           0.326212   \n\n                                  Decision Tree with train_test_split  \\\nAccuracy Score                                               0.767391   \nPrecision Score                                              0.796681   \nRecall Score                                                 0.767391   \nF1 Score                                                     0.781319   \nMatthews Correlation Coefficient                             0.070907   \nG Mean Score                                                 0.263918   \n\n                                  Decision Tree with RepeatedKFold  \nAccuracy Score                                            0.787265  \nPrecision Score                                           0.810971  \nRecall Score                                              0.787265  \nF1 Score                                                  0.798468  \nMatthews Correlation Coefficient                          0.136474  \nG Mean Score                                              0.329875  ",
      "text/html": "<div>\n<style scoped>\n    .dataframe tbody tr th:only-of-type {\n        vertical-align: middle;\n    }\n\n    .dataframe tbody tr th {\n        vertical-align: top;\n    }\n\n    .dataframe thead th {\n        text-align: right;\n    }\n</style>\n<table border=\"1\" class=\"dataframe\">\n  <thead>\n    <tr style=\"text-align: right;\">\n      <th></th>\n      <th>Decision Tree</th>\n      <th>Decision Tree with train_test_split</th>\n      <th>Decision Tree with RepeatedKFold</th>\n    </tr>\n  </thead>\n  <tbody>\n    <tr>\n      <th>Accuracy Score</th>\n      <td>0.788001</td>\n      <td>0.767391</td>\n      <td>0.787265</td>\n    </tr>\n    <tr>\n      <th>Precision Score</th>\n      <td>0.813051</td>\n      <td>0.796681</td>\n      <td>0.810971</td>\n    </tr>\n    <tr>\n      <th>Recall Score</th>\n      <td>0.788001</td>\n      <td>0.767391</td>\n      <td>0.787265</td>\n    </tr>\n    <tr>\n      <th>F1 Score</th>\n      <td>0.799481</td>\n      <td>0.781319</td>\n      <td>0.798468</td>\n    </tr>\n    <tr>\n      <th>Matthews Correlation Coefficient</th>\n      <td>0.147464</td>\n      <td>0.070907</td>\n      <td>0.136474</td>\n    </tr>\n    <tr>\n      <th>G Mean Score</th>\n      <td>0.326212</td>\n      <td>0.263918</td>\n      <td>0.329875</td>\n    </tr>\n  </tbody>\n</table>\n</div>"
     },
     "execution_count": 22,
     "metadata": {},
     "output_type": "execute_result"
    }
   ],
   "source": [
    "re4 = pd.DataFrame(re_dt, columns=['Decision Tree'], \n",
    "                   index=['Accuracy Score', 'Precision Score', 'Recall Score', 'F1 Score', \n",
    "                                                    'Matthews Correlation Coefficient', 'G Mean Score'])\n",
    "re4['Decision Tree with train_test_split'] = pd.DataFrame(re_dtc_split, \n",
    "                                                        index=['Accuracy Score', 'Precision Score', 'Recall Score', 'F1 Score', \n",
    "                                                    'Matthews Correlation Coefficient', 'G Mean Score'])\n",
    "re4['Decision Tree with RepeatedKFold'] = pd.DataFrame(re_dtc_kf, \n",
    "                                                        index=['Accuracy Score', 'Precision Score', 'Recall Score', 'F1 Score', \n",
    "                                                    'Matthews Correlation Coefficient', 'G Mean Score'])\n",
    "re4"
   ]
  },
  {
   "cell_type": "code",
   "execution_count": 23,
   "metadata": {},
   "outputs": [
    {
     "data": {
      "text/plain": "                                  Random Forest  \\\nAccuracy Score                         0.880751   \nPrecision Score                        0.823590   \nRecall Score                           0.880751   \nF1 Score                               0.826300   \nMatthews Correlation Coefficient       0.106090   \nG Mean Score                           0.000000   \n\n                                  Random Forest with train_test_split  \\\nAccuracy Score                                               0.878911   \nPrecision Score                                              0.797997   \nRecall Score                                                 0.878911   \nF1 Score                                                     0.823315   \nMatthews Correlation Coefficient                             0.024557   \nG Mean Score                                                 0.000000   \n\n                                  Random Forest with RepeatedKFold  \nAccuracy Score                                            0.880751  \nPrecision Score                                           0.894992  \nRecall Score                                              0.880751  \nF1 Score                                                  0.826333  \nMatthews Correlation Coefficient                          0.105755  \nG Mean Score                                              0.048686  ",
      "text/html": "<div>\n<style scoped>\n    .dataframe tbody tr th:only-of-type {\n        vertical-align: middle;\n    }\n\n    .dataframe tbody tr th {\n        vertical-align: top;\n    }\n\n    .dataframe thead th {\n        text-align: right;\n    }\n</style>\n<table border=\"1\" class=\"dataframe\">\n  <thead>\n    <tr style=\"text-align: right;\">\n      <th></th>\n      <th>Random Forest</th>\n      <th>Random Forest with train_test_split</th>\n      <th>Random Forest with RepeatedKFold</th>\n    </tr>\n  </thead>\n  <tbody>\n    <tr>\n      <th>Accuracy Score</th>\n      <td>0.880751</td>\n      <td>0.878911</td>\n      <td>0.880751</td>\n    </tr>\n    <tr>\n      <th>Precision Score</th>\n      <td>0.823590</td>\n      <td>0.797997</td>\n      <td>0.894992</td>\n    </tr>\n    <tr>\n      <th>Recall Score</th>\n      <td>0.880751</td>\n      <td>0.878911</td>\n      <td>0.880751</td>\n    </tr>\n    <tr>\n      <th>F1 Score</th>\n      <td>0.826300</td>\n      <td>0.823315</td>\n      <td>0.826333</td>\n    </tr>\n    <tr>\n      <th>Matthews Correlation Coefficient</th>\n      <td>0.106090</td>\n      <td>0.024557</td>\n      <td>0.105755</td>\n    </tr>\n    <tr>\n      <th>G Mean Score</th>\n      <td>0.000000</td>\n      <td>0.000000</td>\n      <td>0.048686</td>\n    </tr>\n  </tbody>\n</table>\n</div>"
     },
     "execution_count": 23,
     "metadata": {},
     "output_type": "execute_result"
    }
   ],
   "source": [
    "re5 = pd.DataFrame(re_rfc, columns=['Random Forest'], \n",
    "                   index=['Accuracy Score', 'Precision Score', 'Recall Score', 'F1 Score', 'Matthews Correlation Coefficient', 'G Mean Score'])\n",
    "re5['Random Forest with train_test_split'] = pd.DataFrame(re_rfc_split, \n",
    "                                                         index=['Accuracy Score', 'Precision Score', 'Recall Score', 'F1 Score', \n",
    "                                                                'Matthews Correlation Coefficient', 'G Mean Score'])\n",
    "re5['Random Forest with RepeatedKFold'] = pd.DataFrame(re_rfc_kf, \n",
    "                                                     index=['Accuracy Score', 'Precision Score', 'Recall Score', 'F1 Score', \n",
    "                                                                'Matthews Correlation Coefficient', 'G Mean Score'])\n",
    "re5"
   ]
  },
  {
   "cell_type": "code",
   "execution_count": 24,
   "metadata": {},
   "outputs": [
    {
     "data": {
      "text/plain": "<Figure size 432x288 with 1 Axes>",
      "image/png": "[encoded data removed]"
     },
     "metadata": {
      "needs_background": "light"
     },
     "output_type": "display_data"
    }
   ],
   "source": [
    "import matplotlib.pyplot as plt\n",
    "\n",
    "import numpy as np\n",
    "import pandas as pd\n",
    "\n",
    "ax=re1.plot(kind='barh')\n",
    "fig = ax.get_figure()\n",
    "fig.savefig('Naive Bayes.png', bbox_inches='tight')"
   ]
  },
  {
   "cell_type": "code",
   "execution_count": 25,
   "metadata": {},
   "outputs": [
    {
     "data": {
      "text/plain": "<Figure size 432x288 with 1 Axes>",
      "image/png": "[encoded data removed]"
     },
     "metadata": {
      "needs_background": "light"
     },
     "output_type": "display_data"
    }
   ],
   "source": [
    "ax=re2.plot(kind='barh')\n",
    "fig = ax.get_figure()\n",
    "fig.savefig('Logistic Regression.png', bbox_inches='tight')"
   ]
  },
  {
   "cell_type": "code",
   "execution_count": 26,
   "metadata": {},
   "outputs": [
    {
     "data": {
      "text/plain": "<Figure size 432x288 with 1 Axes>",
      "image/png": "[encoded data removed]"
     },
     "metadata": {
      "needs_background": "light"
     },
     "output_type": "display_data"
    }
   ],
   "source": [
    "ax=re3.plot(kind='barh')\n",
    "fig = ax.get_figure()\n",
    "fig.savefig('SVM.png', bbox_inches='tight')"
   ]
  },
  {
   "cell_type": "code",
   "execution_count": 27,
   "metadata": {},
   "outputs": [
    {
     "data": {
      "text/plain": "<Figure size 432x288 with 1 Axes>",
      "image/png": "[encoded data removed]"
     },
     "metadata": {
      "needs_background": "light"
     },
     "output_type": "display_data"
    }
   ],
   "source": [
    "ax=re4.plot(kind='barh')\n",
    "fig = ax.get_figure()\n",
    "fig.savefig('Decision Tree', bbox_inches='tight')"
   ]
  },
  {
   "cell_type": "code",
   "execution_count": 28,
   "metadata": {},
   "outputs": [
    {
     "data": {
      "text/plain": "<Figure size 432x288 with 1 Axes>",
      "image/png": "[encoded data removed]"
     },
     "metadata": {
      "needs_background": "light"
     },
     "output_type": "display_data"
    }
   ],
   "source": [
    "ax=re5.plot(kind='barh')\n",
    "fig = ax.get_figure()\n",
    "fig.savefig('Random Forest', bbox_inches='tight')"
   ]
  },
  {
   "cell_type": "markdown",
   "metadata": {},
   "source": [
    "## Conclusion"
   ]
  },
  {
   "cell_type": "raw",
   "metadata": {},
   "source": [
    "Cross-validation can improve the performance of baseline that has lower accuracy, but can not provide an effective improvement for the baseline that has alrady performed well. Hence, we come to a conclusion that cross-validation is only useful under the following situations:\n",
    "\n",
    "The model is under-fitting or over-fitting (the model is too easy/ too complex).\n",
    "The dataset is too small.\n",
    "The distribution of data is un-uniform."
   ]
  }
 ],
 "metadata": {
  "kernelspec": {
   "display_name": "Python 3 (ipykernel)",
   "language": "python",
   "name": "python3"
  },
  "language_info": {
   "codemirror_mode": {
    "name": "ipython",
    "version": 3
   },
   "file_extension": ".py",
   "mimetype": "text/x-python",
   "name": "python",
   "nbconvert_exporter": "python",
   "pygments_lexer": "ipython3",
   "version": "3.9.12"
  }
 },
 "nbformat": 4,
 "nbformat_minor": 1
}